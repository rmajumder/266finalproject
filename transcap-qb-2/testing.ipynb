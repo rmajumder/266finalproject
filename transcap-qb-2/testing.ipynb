{
 "cells": [
  {
   "cell_type": "code",
   "execution_count": 1,
   "metadata": {},
   "outputs": [],
   "source": [
    "from utils import *"
   ]
  },
  {
   "cell_type": "code",
   "execution_count": null,
   "metadata": {},
   "outputs": [],
   "source": [
    "## Model"
   ]
  },
  {
   "cell_type": "code",
   "execution_count": null,
   "metadata": {},
   "outputs": [],
   "source": [
    "word_dict = {}\n",
    "\n",
    "with open('data/qb/yelp_word2id.txt', 'r', encoding='utf-8') as f:\n",
    "    word_dict = eval(f.read())"
   ]
  },
  {
   "cell_type": "code",
   "execution_count": null,
   "metadata": {},
   "outputs": [],
   "source": [
    "asc_x, asc_target_word, asc_y, asc_tarmask, asc_loc, asc_mode = \\\n",
    "                read_data('{}train/balanced_'.format('data/qb/'), word_dict, 'ASC')\n",
    "\n",
    "dsc_x, dsc_target_word, dsc_y, dsc_tarmask, dsc_loc, dsc_mode = \\\n",
    "                read_data('{}train/{}_'.format('data/qb/', 'yelp'), word_dict, 'DSC')"
   ]
  },
  {
   "cell_type": "code",
   "execution_count": null,
   "metadata": {},
   "outputs": [],
   "source": [
    "print(len(asc_loc))\n",
    "asc_loc"
   ]
  },
  {
   "cell_type": "code",
   "execution_count": null,
   "metadata": {},
   "outputs": [],
   "source": [
    "for asc in asc_loc:\n",
    "    print(len(asc))"
   ]
  },
  {
   "cell_type": "code",
   "execution_count": null,
   "metadata": {},
   "outputs": [],
   "source": [
    "print(len(dsc_loc))\n",
    "dsc_loc"
   ]
  },
  {
   "cell_type": "code",
   "execution_count": null,
   "metadata": {},
   "outputs": [],
   "source": [
    "for dsc in dsc_loc:\n",
    "    print(len(dsc))"
   ]
  },
  {
   "cell_type": "code",
   "execution_count": null,
   "metadata": {},
   "outputs": [],
   "source": []
  },
  {
   "cell_type": "code",
   "execution_count": null,
   "metadata": {},
   "outputs": [],
   "source": [
    "## Util"
   ]
  },
  {
   "cell_type": "code",
   "execution_count": 2,
   "metadata": {},
   "outputs": [
    {
     "name": "stdout",
     "output_type": "stream",
     "text": [
      "[0, 1, 2]\n"
     ]
    }
   ],
   "source": [
    "tks = en_nlp('i love dog')\n",
    "asp_i = []\n",
    "for tk in tks:\n",
    "    #print(tk.idx)\n",
    "    asp_i.append(tk.i)\n",
    "    \n",
    "print(asp_i)"
   ]
  },
  {
   "cell_type": "code",
   "execution_count": 3,
   "metadata": {},
   "outputs": [
    {
     "name": "stdout",
     "output_type": "stream",
     "text": [
      "[0, 1, 2]\n",
      "1\n",
      "[1, 0, 1]\n",
      "1\n",
      "[2, 1, 0]\n",
      "1\n"
     ]
    }
   ],
   "source": [
    "for _i, tk in enumerate(tks):\n",
    "    print([abs(_i - i) for i in asp_i])\n",
    "    print(min([abs(_i - i) for i in asp_i]) + 1)"
   ]
  },
  {
   "cell_type": "code",
   "execution_count": 4,
   "metadata": {},
   "outputs": [
    {
     "data": {
      "text/plain": [
       "[3, 2, 1]"
      ]
     },
     "execution_count": 4,
     "metadata": {},
     "output_type": "execute_result"
    }
   ],
   "source": [
    "get_position(tks, '7,9')"
   ]
  },
  {
   "cell_type": "code",
   "execution_count": 11,
   "metadata": {},
   "outputs": [],
   "source": [
    "input_str = 'awesome, but somewhat lacking. i m an it professional who does commercial & residential repairs, contracts, services and sales in person and on my ebay store (i''m self employed and do all this from home) and the quickbooks online version is way easier and faster to use than the traditional computer installed version. also, i didn''t have to cough up $400-$600 for the desktop version (heavy program & used way too much memory) that will eventually be outdated. the desktop version had more options within the software, but the online version is more versatile if your utilizing multiple devices to run your business. as for me, i have a dedicated ebay room with imac the dedicated tech/repair room with mac pro server, the main office aka my office with imac and i work from my ipads when i''m in the family area (i have a bluetooth keyboard and treat the ipads as if they were mini-imacs and i can take signatures while out on a job-site and add receipts and pictures to estimates and invoices or the note section for each customer. if you have a regular wifi ipad like me, now with most companies like verizon, i can turn on the personal hotspot for free and turn my iphone into a wifi hotspot for my ipad. remember to turn off your personal hotspot when finished, otherwise it can continue to use your cellular data in the background. so, i utilize the flexibility of using the online version wherever i go. its paperless and i can run my business literally from anywhere. over-all i''m impressed and can work-cross platform or even from my phone if i''m out in the field working. however the main features are lacking in the ipad and iphone/mac app versions. you have to use a regular computer internet browser such as explorer, chrome or safari to see and use every quickbooks online option available, but don''t have access to those options in the iphone, ipad and mac app version. there are times when i''m working with my mac app version or ipad and then i have to enter new business or administrative detail like a new credit card or bank account or more specific details and then the options don''t seem to be in the apps at all. then i have to switch to the internet browser or go to a computer with browser in order to view some of the options i need to complete my task. kind of disrupts the flow, plus doesn''t give 100% full access to all features with the apps, but is very close. every update it seems they add a lacking feature to the apps so, hopefully they keep adding until the online version and apps are full and complete. got 4 stars for overall versatility and convenience. didn''t get the 5th star due to lack of features in the app version which makes me have to always use or switch to the browser. inconvenient when i''m out on a job utilizing my mobile devices then i have to dread finishing up loose ends on the computer when i get home. also, i would rather use the app because of its quick response and interface, because the internet browser always seems to be clunky and use more computer memory. my suggestion to any quickbooks rep reading this is to concentrate on the apps and let the browser be the backup option.'"
   ]
  },
  {
   "cell_type": "code",
   "execution_count": 3,
   "metadata": {},
   "outputs": [],
   "source": [
    "input_str = 'awesome, but somewhat lacking'"
   ]
  },
  {
   "cell_type": "code",
   "execution_count": 2,
   "metadata": {},
   "outputs": [],
   "source": [
    "input_str = 'i like it. i have enjoyed using this app for the last year. i am blind and it is 99% accessible with my screen reader, voiceover. i only want to report one error. the last update causes the app to crash when trying to edit an expense entry my accountant manages my quickbooks online account, however, when i find an incorrect category has been applied, i cannot fix it. the app crashes when i attempt'"
   ]
  },
  {
   "cell_type": "code",
   "execution_count": 9,
   "metadata": {},
   "outputs": [],
   "source": [
    "ltks = en_nlp(input_str.strip())"
   ]
  },
  {
   "cell_type": "code",
   "execution_count": 10,
   "metadata": {},
   "outputs": [
    {
     "name": "stdout",
     "output_type": "stream",
     "text": [
      "i like it. i have enjoyed using this app for the last year. i am blind and it is 99% accessible with my screen reader, voiceover. i only want to report one error. the last update causes the app to crash when trying to edit an expense entry my accountant manages my quickbooks online account, however, when i find an incorrect category has been applied, i cannot fix it. the app crashes when i attempt\n"
     ]
    },
    {
     "data": {
      "text/plain": [
       "86"
      ]
     },
     "execution_count": 10,
     "metadata": {},
     "output_type": "execute_result"
    }
   ],
   "source": [
    "print(ltks)\n",
    "len(ltks)"
   ]
  },
  {
   "cell_type": "code",
   "execution_count": 15,
   "metadata": {},
   "outputs": [
    {
     "data": {
      "text/plain": [
       "False"
      ]
     },
     "execution_count": 15,
     "metadata": {},
     "output_type": "execute_result"
    }
   ],
   "source": [
    "len(ltks) > 86"
   ]
  },
  {
   "cell_type": "code",
   "execution_count": 7,
   "metadata": {},
   "outputs": [
    {
     "data": {
      "text/plain": [
       "86"
      ]
     },
     "execution_count": 7,
     "metadata": {},
     "output_type": "execute_result"
    }
   ],
   "source": [
    "#pos_i = get_position(ltks, '1024,1031')\n",
    "pos_i = get_position(ltks, '37,39')\n",
    "pos_i\n",
    "len(pos_i)"
   ]
  },
  {
   "cell_type": "code",
   "execution_count": 6,
   "metadata": {},
   "outputs": [
    {
     "data": {
      "text/plain": [
       "0"
      ]
     },
     "execution_count": 6,
     "metadata": {},
     "output_type": "execute_result"
    }
   ],
   "source": [
    "len([0] * (85 - len(ltks)))"
   ]
  },
  {
   "cell_type": "code",
   "execution_count": 46,
   "metadata": {},
   "outputs": [],
   "source": [
    "pos_l = pos_i + [0] * (85 - len(ltks))"
   ]
  },
  {
   "cell_type": "code",
   "execution_count": 47,
   "metadata": {},
   "outputs": [
    {
     "data": {
      "text/plain": [
       "85"
      ]
     },
     "execution_count": 47,
     "metadata": {},
     "output_type": "execute_result"
    }
   ],
   "source": [
    "len(pos_l)"
   ]
  },
  {
   "cell_type": "code",
   "execution_count": 48,
   "metadata": {},
   "outputs": [
    {
     "data": {
      "text/plain": [
       "85"
      ]
     },
     "execution_count": 48,
     "metadata": {},
     "output_type": "execute_result"
    }
   ],
   "source": [
    "len(pos_l)"
   ]
  },
  {
   "cell_type": "code",
   "execution_count": null,
   "metadata": {},
   "outputs": [],
   "source": []
  },
  {
   "cell_type": "code",
   "execution_count": null,
   "metadata": {},
   "outputs": [],
   "source": []
  }
 ],
 "metadata": {
  "kernelspec": {
   "display_name": "Python 3",
   "language": "python",
   "name": "python3"
  },
  "language_info": {
   "codemirror_mode": {
    "name": "ipython",
    "version": 3
   },
   "file_extension": ".py",
   "mimetype": "text/x-python",
   "name": "python",
   "nbconvert_exporter": "python",
   "pygments_lexer": "ipython3",
   "version": "3.7.4"
  }
 },
 "nbformat": 4,
 "nbformat_minor": 2
}
