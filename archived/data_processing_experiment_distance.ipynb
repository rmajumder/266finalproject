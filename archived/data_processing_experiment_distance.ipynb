{
 "cells": [
  {
   "cell_type": "code",
   "execution_count": 27,
   "metadata": {},
   "outputs": [],
   "source": [
    "import pandas as pd\n",
    "import numpy as np\n",
    "import spacy\n",
    "from spacy.matcher import PhraseMatcher\n",
    "from spacy.tokens import Span\n",
    "from spacy import displacy\n",
    "import json\n",
    "import random\n",
    "import re\n",
    "\n",
    "from utils import *"
   ]
  },
  {
   "cell_type": "code",
   "execution_count": 2,
   "metadata": {},
   "outputs": [
    {
     "name": "stdout",
     "output_type": "stream",
     "text": [
      "Requirement already satisfied: afinn in /home/rmajumder/anaconda3/lib/python3.7/site-packages (0.1)\n",
      "\u001b[33mWARNING: You are using pip version 19.3.1; however, version 20.0.2 is available.\n",
      "You should consider upgrading via the 'pip install --upgrade pip' command.\u001b[0m\n"
     ]
    }
   ],
   "source": [
    "!pip install afinn"
   ]
  },
  {
   "cell_type": "code",
   "execution_count": 3,
   "metadata": {},
   "outputs": [],
   "source": [
    "from afinn import Afinn\n",
    "af = Afinn()"
   ]
  },
  {
   "cell_type": "code",
   "execution_count": 51,
   "metadata": {},
   "outputs": [],
   "source": [
    "def get_position1(sptoks, position):\n",
    "    from_idx = int(position.split(',')[0])\n",
    "    to_idx = int(position.split(',')[1])\n",
    "    if from_idx == to_idx == 0:\n",
    "        pos_info = [0] * len(sptoks)\n",
    "    else:\n",
    "        aspect_is = []\n",
    "        \n",
    "        for sptok in sptoks:\n",
    "            if sptok.idx < to_idx and sptok.idx + len(sptok.text) > from_idx:\n",
    "                aspect_is.append(sptok.i)\n",
    "        \n",
    "        #If the aspect position is not found in the tokens\n",
    "        if len(aspect_is) == 0:\n",
    "            return None\n",
    "        \n",
    "        pos_info = []\n",
    "        \n",
    "        #Take the aspect with earliest positioning\n",
    "        for _i, sptok in enumerate(sptoks):\n",
    "            pos_info.append(min([abs(_i - i) for i in aspect_is]) + 1)\n",
    "\n",
    "        for _i, sptok in enumerate(sptoks):\n",
    "            if pos_info[_i] != 1:\n",
    "                sent_score = abs(af.score(str(sptok)))\n",
    "                if sent_score != 0.0:\n",
    "                    pos_info[_i] = sent_score / pos_info[_i]\n",
    "                else:\n",
    "                    pos_info[_i] = 0.001\n",
    "        \n",
    "            \n",
    "    return pos_info"
   ]
  },
  {
   "cell_type": "code",
   "execution_count": 52,
   "metadata": {},
   "outputs": [
    {
     "data": {
      "text/plain": [
       "[0.001, 0.75, 0.001, 0.001, 1, 0.001, 0.001, 0.001, 0.001, 0.5, 0.001]"
      ]
     },
     "execution_count": 52,
     "metadata": {},
     "output_type": "execute_result"
    }
   ],
   "source": [
    "sptoks = en_nlp('i love dog and cats, but i absolutely hate birds')\n",
    "pos_info = get_position1(sptoks, '15,18')\n",
    "pos_info"
   ]
  },
  {
   "cell_type": "code",
   "execution_count": null,
   "metadata": {},
   "outputs": [],
   "source": []
  },
  {
   "cell_type": "code",
   "execution_count": 26,
   "metadata": {},
   "outputs": [
    {
     "name": "stdout",
     "output_type": "stream",
     "text": [
      "0.0\n",
      "3.0\n",
      "0.0\n",
      "0.0\n",
      "0.0\n",
      "0.0\n",
      "0.0\n",
      "0.0\n",
      "-3.0\n",
      "0.0\n"
     ]
    }
   ],
   "source": [
    "for w in 'i love dog and cats, but i absolutely hate birds'.split():\n",
    "    print(af.score(w))"
   ]
  },
  {
   "cell_type": "code",
   "execution_count": 21,
   "metadata": {},
   "outputs": [
    {
     "data": {
      "text/plain": [
       "-2.0"
      ]
     },
     "execution_count": 21,
     "metadata": {},
     "output_type": "execute_result"
    }
   ],
   "source": [
    "af.score('upset')"
   ]
  },
  {
   "cell_type": "code",
   "execution_count": null,
   "metadata": {},
   "outputs": [],
   "source": []
  },
  {
   "cell_type": "code",
   "execution_count": null,
   "metadata": {},
   "outputs": [],
   "source": []
  }
 ],
 "metadata": {
  "kernelspec": {
   "display_name": "Python 3",
   "language": "python",
   "name": "python3"
  },
  "language_info": {
   "codemirror_mode": {
    "name": "ipython",
    "version": 3
   },
   "file_extension": ".py",
   "mimetype": "text/x-python",
   "name": "python",
   "nbconvert_exporter": "python",
   "pygments_lexer": "ipython3",
   "version": "3.7.4"
  }
 },
 "nbformat": 4,
 "nbformat_minor": 2
}
