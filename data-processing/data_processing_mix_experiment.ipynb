{
 "cells": [
  {
   "cell_type": "code",
   "execution_count": 1,
   "metadata": {},
   "outputs": [],
   "source": [
    "import pandas as pd\n",
    "import numpy as np\n",
    "import json\n",
    "import random\n",
    "import re"
   ]
  },
  {
   "cell_type": "code",
   "execution_count": 2,
   "metadata": {},
   "outputs": [],
   "source": [
    "#read data\n",
    "df_position_sentiment = pd.read_csv(r'../data/qb/processed/combine_aspect_position_0325_clean.csv')"
   ]
  },
  {
   "cell_type": "code",
   "execution_count": 3,
   "metadata": {},
   "outputs": [],
   "source": [
    "df_position_sentiment['Asp Sentiment'].replace('0', np.nan, inplace=True)\n",
    "df_position_sentiment.dropna(subset=['Asp Sentiment'], inplace=True)"
   ]
  },
  {
   "cell_type": "code",
   "execution_count": 4,
   "metadata": {},
   "outputs": [
    {
     "data": {
      "text/html": [
       "<div>\n",
       "<style scoped>\n",
       "    .dataframe tbody tr th:only-of-type {\n",
       "        vertical-align: middle;\n",
       "    }\n",
       "\n",
       "    .dataframe tbody tr th {\n",
       "        vertical-align: top;\n",
       "    }\n",
       "\n",
       "    .dataframe thead th {\n",
       "        text-align: right;\n",
       "    }\n",
       "</style>\n",
       "<table border=\"1\" class=\"dataframe\">\n",
       "  <thead>\n",
       "    <tr style=\"text-align: right;\">\n",
       "      <th></th>\n",
       "      <th>Unnamed: 0</th>\n",
       "      <th>Unnamed: 0.1</th>\n",
       "      <th>Review ID</th>\n",
       "      <th>Country</th>\n",
       "      <th>Version</th>\n",
       "      <th>Rating</th>\n",
       "      <th>Date</th>\n",
       "      <th>Doc Sentiment</th>\n",
       "      <th>Asp Sentiment</th>\n",
       "      <th>Review</th>\n",
       "      <th>Aspects</th>\n",
       "      <th>AspectText</th>\n",
       "      <th>Positions</th>\n",
       "    </tr>\n",
       "  </thead>\n",
       "  <tbody>\n",
       "    <tr>\n",
       "      <td>0</td>\n",
       "      <td>0</td>\n",
       "      <td>0</td>\n",
       "      <td>5464235433</td>\n",
       "      <td>Canada</td>\n",
       "      <td>20.01.5</td>\n",
       "      <td>1</td>\n",
       "      <td>1/30/20</td>\n",
       "      <td>negative</td>\n",
       "      <td>neutral</td>\n",
       "      <td>latest app update . this update is terrible ba...</td>\n",
       "      <td>app</td>\n",
       "      <td>app</td>\n",
       "      <td>7,9</td>\n",
       "    </tr>\n",
       "    <tr>\n",
       "      <td>1</td>\n",
       "      <td>1</td>\n",
       "      <td>1</td>\n",
       "      <td>5464235433</td>\n",
       "      <td>Canada</td>\n",
       "      <td>20.01.5</td>\n",
       "      <td>1</td>\n",
       "      <td>1/30/20</td>\n",
       "      <td>negative</td>\n",
       "      <td>negative</td>\n",
       "      <td>latest app update . this update is terrible ba...</td>\n",
       "      <td>updates</td>\n",
       "      <td>update</td>\n",
       "      <td>11,16</td>\n",
       "    </tr>\n",
       "    <tr>\n",
       "      <td>2</td>\n",
       "      <td>2</td>\n",
       "      <td>2</td>\n",
       "      <td>5466985498</td>\n",
       "      <td>USA</td>\n",
       "      <td>20.01.5</td>\n",
       "      <td>5</td>\n",
       "      <td>1/30/20</td>\n",
       "      <td>positive</td>\n",
       "      <td>positive</td>\n",
       "      <td>life saver . one my favorite apps to use while...</td>\n",
       "      <td>app</td>\n",
       "      <td>apps</td>\n",
       "      <td>28,31</td>\n",
       "    </tr>\n",
       "    <tr>\n",
       "      <td>3</td>\n",
       "      <td>3</td>\n",
       "      <td>3</td>\n",
       "      <td>5460552711</td>\n",
       "      <td>USA</td>\n",
       "      <td>20.01.4</td>\n",
       "      <td>1</td>\n",
       "      <td>1/29/20</td>\n",
       "      <td>negative</td>\n",
       "      <td>negative</td>\n",
       "      <td>worst update yet . just deleted . crashed . di...</td>\n",
       "      <td>updates</td>\n",
       "      <td>update</td>\n",
       "      <td>6,11</td>\n",
       "    </tr>\n",
       "    <tr>\n",
       "      <td>4</td>\n",
       "      <td>4</td>\n",
       "      <td>4</td>\n",
       "      <td>5460552711</td>\n",
       "      <td>USA</td>\n",
       "      <td>20.01.4</td>\n",
       "      <td>1</td>\n",
       "      <td>1/29/20</td>\n",
       "      <td>negative</td>\n",
       "      <td>negative</td>\n",
       "      <td>worst update yet . just deleted . crashed . di...</td>\n",
       "      <td>experience</td>\n",
       "      <td>deleted</td>\n",
       "      <td>23,29</td>\n",
       "    </tr>\n",
       "  </tbody>\n",
       "</table>\n",
       "</div>"
      ],
      "text/plain": [
       "   Unnamed: 0  Unnamed: 0.1   Review ID Country  Version  Rating     Date  \\\n",
       "0           0             0  5464235433  Canada  20.01.5       1  1/30/20   \n",
       "1           1             1  5464235433  Canada  20.01.5       1  1/30/20   \n",
       "2           2             2  5466985498     USA  20.01.5       5  1/30/20   \n",
       "3           3             3  5460552711     USA  20.01.4       1  1/29/20   \n",
       "4           4             4  5460552711     USA  20.01.4       1  1/29/20   \n",
       "\n",
       "  Doc Sentiment Asp Sentiment  \\\n",
       "0      negative       neutral   \n",
       "1      negative      negative   \n",
       "2      positive      positive   \n",
       "3      negative      negative   \n",
       "4      negative      negative   \n",
       "\n",
       "                                              Review     Aspects AspectText  \\\n",
       "0  latest app update . this update is terrible ba...         app        app   \n",
       "1  latest app update . this update is terrible ba...     updates     update   \n",
       "2  life saver . one my favorite apps to use while...         app       apps   \n",
       "3  worst update yet . just deleted . crashed . di...     updates     update   \n",
       "4  worst update yet . just deleted . crashed . di...  experience    deleted   \n",
       "\n",
       "  Positions  \n",
       "0       7,9  \n",
       "1     11,16  \n",
       "2     28,31  \n",
       "3      6,11  \n",
       "4     23,29  "
      ]
     },
     "execution_count": 4,
     "metadata": {},
     "output_type": "execute_result"
    }
   ],
   "source": [
    "df_position_sentiment.head()"
   ]
  },
  {
   "cell_type": "code",
   "execution_count": 6,
   "metadata": {},
   "outputs": [
    {
     "name": "stdout",
     "output_type": "stream",
     "text": [
      "14821\n",
      "14821\n"
     ]
    }
   ],
   "source": [
    "#drop reviews without aspect text\n",
    "print(len(df_position_sentiment))\n",
    "df_position_sentiment.dropna(subset=['AspectText'], inplace=True)\n",
    "print(len(df_position_sentiment))"
   ]
  },
  {
   "cell_type": "code",
   "execution_count": 7,
   "metadata": {},
   "outputs": [
    {
     "data": {
      "text/plain": [
       "array(['neutral', 'negative', 'positive'], dtype=object)"
      ]
     },
     "execution_count": 7,
     "metadata": {},
     "output_type": "execute_result"
    }
   ],
   "source": [
    "#Check allowed category of sentiments\n",
    "df_position_sentiment['Asp Sentiment'].unique()"
   ]
  },
  {
   "cell_type": "code",
   "execution_count": 9,
   "metadata": {},
   "outputs": [],
   "source": [
    "df_positive = df_position_sentiment[df_position_sentiment['Rating'] == 5.0]"
   ]
  },
  {
   "cell_type": "code",
   "execution_count": 10,
   "metadata": {},
   "outputs": [
    {
     "data": {
      "text/plain": [
       "6778"
      ]
     },
     "execution_count": 10,
     "metadata": {},
     "output_type": "execute_result"
    }
   ],
   "source": [
    "len(df_positive)"
   ]
  },
  {
   "cell_type": "code",
   "execution_count": 11,
   "metadata": {},
   "outputs": [],
   "source": [
    "df_negative = df_position_sentiment[df_position_sentiment['Rating'] == 1.0]"
   ]
  },
  {
   "cell_type": "code",
   "execution_count": 12,
   "metadata": {},
   "outputs": [
    {
     "data": {
      "text/plain": [
       "4657"
      ]
     },
     "execution_count": 12,
     "metadata": {},
     "output_type": "execute_result"
    }
   ],
   "source": [
    "len(df_negative)"
   ]
  },
  {
   "cell_type": "code",
   "execution_count": 13,
   "metadata": {},
   "outputs": [
    {
     "data": {
      "text/plain": [
       "5839"
      ]
     },
     "execution_count": 13,
     "metadata": {},
     "output_type": "execute_result"
    }
   ],
   "source": [
    "(df_positive['Review'].str.len() < 250).sum()"
   ]
  },
  {
   "cell_type": "code",
   "execution_count": 14,
   "metadata": {},
   "outputs": [],
   "source": [
    "positive_idx = []\n",
    "\n",
    "for index, row in df_positive.iterrows():\n",
    "    positive_idx.append(index)"
   ]
  },
  {
   "cell_type": "code",
   "execution_count": 15,
   "metadata": {},
   "outputs": [
    {
     "data": {
      "text/plain": [
       "'neutral'"
      ]
     },
     "execution_count": 15,
     "metadata": {},
     "output_type": "execute_result"
    }
   ],
   "source": [
    "positive_aspect = df_positive.loc[positive_idx[5], :]['Asp Sentiment']\n",
    "positive_aspect"
   ]
  },
  {
   "cell_type": "code",
   "execution_count": null,
   "metadata": {},
   "outputs": [],
   "source": []
  },
  {
   "cell_type": "code",
   "execution_count": 16,
   "metadata": {},
   "outputs": [],
   "source": [
    "#Append positive and negative reviews with various aspects \n",
    "\n",
    "df_mix = pd.DataFrame(columns=['Review ID', \n",
    "                                       'Country', 'Version', \n",
    "                                       'Rating', 'Date', 'Doc Sentiment', 'Asp Sentiment', \n",
    "                                       'Review', 'Aspects', 'AspectText', 'Positions'])\n",
    "\n",
    "idx_counter = 0\n",
    "\n",
    "for index, row in df_negative.iterrows():\n",
    "\n",
    "    positive_aspect = df_positive.loc[positive_idx[idx_counter], :]['Asp Sentiment']\n",
    "    review = str(df_positive.loc[positive_idx[idx_counter], :]['Review']) + row['Review']\n",
    "    \n",
    "    start_idx = review.find(str(df_positive.loc[positive_idx[idx_counter], :]['AspectText']))\n",
    "          \n",
    "    position = str(start_idx) + ',' + str(start_idx + len(df_positive.loc[positive_idx[idx_counter], :]['AspectText']) - 1)\n",
    "    \n",
    "    #positive\n",
    "    df_mix = df_mix.append({\n",
    "        'Review ID': row['Review ID'], \n",
    "        'Country': row['Country'], \n",
    "        'Version': row['Version'],\n",
    "        'Rating': row['Rating'],\n",
    "        'Date': row['Date'],            \n",
    "        'Doc Sentiment': row['Doc Sentiment'],\n",
    "        'Asp Sentiment' : row['Asp Sentiment'],\n",
    "        'Review': review,\n",
    "        'AspectText': df_positive.loc[positive_idx[idx_counter], :]['AspectText'],\n",
    "        'Aspects': df_positive.loc[positive_idx[idx_counter], :]['Aspects'],\n",
    "        'Positions': position\n",
    "    }, ignore_index=True)\n",
    "    \n",
    "    start_idx = review.find(row['AspectText'])          \n",
    "    position = str(start_idx) + ',' + str(start_idx + len(row['AspectText']) - 1)\n",
    "    \n",
    "    df_mix = df_mix.append({\n",
    "        'Review ID': row['Review ID'], \n",
    "        'Country': row['Country'], \n",
    "        'Version': row['Version'],\n",
    "        'Rating': row['Rating'],\n",
    "        'Date': row['Date'],            \n",
    "        'Doc Sentiment': row['Doc Sentiment'],\n",
    "        'Asp Sentiment' : row['Asp Sentiment'],\n",
    "        'Review': review,\n",
    "        'AspectText': row['AspectText'],\n",
    "        'Aspects': row['Aspects'],\n",
    "        'Positions': position\n",
    "    }, ignore_index=True)\n",
    "    \n",
    "    idx_counter += 1"
   ]
  },
  {
   "cell_type": "code",
   "execution_count": 17,
   "metadata": {},
   "outputs": [
    {
     "data": {
      "text/plain": [
       "948"
      ]
     },
     "execution_count": 17,
     "metadata": {},
     "output_type": "execute_result"
    }
   ],
   "source": [
    "df_mix.Review.map(len).max()"
   ]
  },
  {
   "cell_type": "code",
   "execution_count": 18,
   "metadata": {},
   "outputs": [
    {
     "data": {
      "text/plain": [
       "3492"
      ]
     },
     "execution_count": 18,
     "metadata": {},
     "output_type": "execute_result"
    }
   ],
   "source": [
    "(df_mix['Review'].str.len() < 300).sum()"
   ]
  },
  {
   "cell_type": "code",
   "execution_count": 19,
   "metadata": {},
   "outputs": [
    {
     "data": {
      "text/plain": [
       "9314"
      ]
     },
     "execution_count": 19,
     "metadata": {},
     "output_type": "execute_result"
    }
   ],
   "source": [
    "len(df_mix)"
   ]
  },
  {
   "cell_type": "code",
   "execution_count": 20,
   "metadata": {},
   "outputs": [
    {
     "data": {
      "text/html": [
       "<div>\n",
       "<style scoped>\n",
       "    .dataframe tbody tr th:only-of-type {\n",
       "        vertical-align: middle;\n",
       "    }\n",
       "\n",
       "    .dataframe tbody tr th {\n",
       "        vertical-align: top;\n",
       "    }\n",
       "\n",
       "    .dataframe thead th {\n",
       "        text-align: right;\n",
       "    }\n",
       "</style>\n",
       "<table border=\"1\" class=\"dataframe\">\n",
       "  <thead>\n",
       "    <tr style=\"text-align: right;\">\n",
       "      <th></th>\n",
       "      <th>Review ID</th>\n",
       "      <th>Country</th>\n",
       "      <th>Version</th>\n",
       "      <th>Rating</th>\n",
       "      <th>Date</th>\n",
       "      <th>Doc Sentiment</th>\n",
       "      <th>Asp Sentiment</th>\n",
       "      <th>Review</th>\n",
       "      <th>Aspects</th>\n",
       "      <th>AspectText</th>\n",
       "      <th>Positions</th>\n",
       "    </tr>\n",
       "  </thead>\n",
       "  <tbody>\n",
       "    <tr>\n",
       "      <td>0</td>\n",
       "      <td>5464235433</td>\n",
       "      <td>Canada</td>\n",
       "      <td>20.01.5</td>\n",
       "      <td>1</td>\n",
       "      <td>1/30/20</td>\n",
       "      <td>negative</td>\n",
       "      <td>neutral</td>\n",
       "      <td>life saver . one my favorite apps to use while...</td>\n",
       "      <td>app</td>\n",
       "      <td>apps</td>\n",
       "      <td>29,32</td>\n",
       "    </tr>\n",
       "    <tr>\n",
       "      <td>1</td>\n",
       "      <td>5464235433</td>\n",
       "      <td>Canada</td>\n",
       "      <td>20.01.5</td>\n",
       "      <td>1</td>\n",
       "      <td>1/30/20</td>\n",
       "      <td>negative</td>\n",
       "      <td>neutral</td>\n",
       "      <td>life saver . one my favorite apps to use while...</td>\n",
       "      <td>app</td>\n",
       "      <td>app</td>\n",
       "      <td>29,31</td>\n",
       "    </tr>\n",
       "    <tr>\n",
       "      <td>2</td>\n",
       "      <td>5464235433</td>\n",
       "      <td>Canada</td>\n",
       "      <td>20.01.5</td>\n",
       "      <td>1</td>\n",
       "      <td>1/30/20</td>\n",
       "      <td>negative</td>\n",
       "      <td>negative</td>\n",
       "      <td>great app for small business owner ! . i have ...</td>\n",
       "      <td>app</td>\n",
       "      <td>app</td>\n",
       "      <td>6,8</td>\n",
       "    </tr>\n",
       "    <tr>\n",
       "      <td>3</td>\n",
       "      <td>5464235433</td>\n",
       "      <td>Canada</td>\n",
       "      <td>20.01.5</td>\n",
       "      <td>1</td>\n",
       "      <td>1/30/20</td>\n",
       "      <td>negative</td>\n",
       "      <td>negative</td>\n",
       "      <td>great app for small business owner ! . i have ...</td>\n",
       "      <td>updates</td>\n",
       "      <td>update</td>\n",
       "      <td>161,166</td>\n",
       "    </tr>\n",
       "    <tr>\n",
       "      <td>4</td>\n",
       "      <td>5460552711</td>\n",
       "      <td>USA</td>\n",
       "      <td>20.01.4</td>\n",
       "      <td>1</td>\n",
       "      <td>1/29/20</td>\n",
       "      <td>negative</td>\n",
       "      <td>negative</td>\n",
       "      <td>it just work . see above . in the office , on ...</td>\n",
       "      <td>app</td>\n",
       "      <td>software</td>\n",
       "      <td>196,203</td>\n",
       "    </tr>\n",
       "  </tbody>\n",
       "</table>\n",
       "</div>"
      ],
      "text/plain": [
       "    Review ID Country  Version Rating     Date Doc Sentiment Asp Sentiment  \\\n",
       "0  5464235433  Canada  20.01.5      1  1/30/20      negative       neutral   \n",
       "1  5464235433  Canada  20.01.5      1  1/30/20      negative       neutral   \n",
       "2  5464235433  Canada  20.01.5      1  1/30/20      negative      negative   \n",
       "3  5464235433  Canada  20.01.5      1  1/30/20      negative      negative   \n",
       "4  5460552711     USA  20.01.4      1  1/29/20      negative      negative   \n",
       "\n",
       "                                              Review  Aspects AspectText  \\\n",
       "0  life saver . one my favorite apps to use while...      app       apps   \n",
       "1  life saver . one my favorite apps to use while...      app        app   \n",
       "2  great app for small business owner ! . i have ...      app        app   \n",
       "3  great app for small business owner ! . i have ...  updates     update   \n",
       "4  it just work . see above . in the office , on ...      app   software   \n",
       "\n",
       "  Positions  \n",
       "0     29,32  \n",
       "1     29,31  \n",
       "2       6,8  \n",
       "3   161,166  \n",
       "4   196,203  "
      ]
     },
     "execution_count": 20,
     "metadata": {},
     "output_type": "execute_result"
    }
   ],
   "source": [
    "df_mix.head()"
   ]
  },
  {
   "cell_type": "code",
   "execution_count": 21,
   "metadata": {},
   "outputs": [],
   "source": [
    "#split data in - train test and dev\n",
    "def train_validate_test_split(df, train_percent=.6, validate_percent=.2, seed=None):\n",
    "    np.random.seed(seed)\n",
    "    \n",
    "    perm = np.random.permutation(np.arange(len(df)))\n",
    "    m = len(df)\n",
    "    \n",
    "    train_end = int(train_percent * m)\n",
    "    validate_end = int(validate_percent * m) + train_end\n",
    "    train = df.iloc[perm[:train_end - 1] - 1]\n",
    "    validate = df.iloc[perm[train_end:validate_end - 1] - 1]\n",
    "    test = df.iloc[perm[validate_end:]]\n",
    "    return train, validate, test"
   ]
  },
  {
   "cell_type": "code",
   "execution_count": 22,
   "metadata": {},
   "outputs": [],
   "source": [
    "train, validate, test = train_validate_test_split(df_mix)"
   ]
  },
  {
   "cell_type": "code",
   "execution_count": 23,
   "metadata": {},
   "outputs": [
    {
     "data": {
      "text/html": [
       "<div>\n",
       "<style scoped>\n",
       "    .dataframe tbody tr th:only-of-type {\n",
       "        vertical-align: middle;\n",
       "    }\n",
       "\n",
       "    .dataframe tbody tr th {\n",
       "        vertical-align: top;\n",
       "    }\n",
       "\n",
       "    .dataframe thead th {\n",
       "        text-align: right;\n",
       "    }\n",
       "</style>\n",
       "<table border=\"1\" class=\"dataframe\">\n",
       "  <thead>\n",
       "    <tr style=\"text-align: right;\">\n",
       "      <th></th>\n",
       "      <th>Review ID</th>\n",
       "      <th>Country</th>\n",
       "      <th>Version</th>\n",
       "      <th>Rating</th>\n",
       "      <th>Date</th>\n",
       "      <th>Doc Sentiment</th>\n",
       "      <th>Asp Sentiment</th>\n",
       "      <th>Review</th>\n",
       "      <th>Aspects</th>\n",
       "      <th>AspectText</th>\n",
       "      <th>Positions</th>\n",
       "    </tr>\n",
       "  </thead>\n",
       "  <tbody>\n",
       "    <tr>\n",
       "      <td>2295</td>\n",
       "      <td>1696376299</td>\n",
       "      <td>USA</td>\n",
       "      <td>5.4.3</td>\n",
       "      <td>1</td>\n",
       "      <td>7/24/17</td>\n",
       "      <td>negative</td>\n",
       "      <td>negative</td>\n",
       "      <td>love it . my entire business is conducted thro...</td>\n",
       "      <td>quality</td>\n",
       "      <td>fix asap.</td>\n",
       "      <td>-1,7</td>\n",
       "    </tr>\n",
       "    <tr>\n",
       "      <td>2430</td>\n",
       "      <td>1630708616</td>\n",
       "      <td>Canada</td>\n",
       "      <td>5.4</td>\n",
       "      <td>1</td>\n",
       "      <td>6/1/17</td>\n",
       "      <td>negative</td>\n",
       "      <td>negative</td>\n",
       "      <td>great tool for self employed small business ow...</td>\n",
       "      <td>experience</td>\n",
       "      <td>navigate</td>\n",
       "      <td>76,83</td>\n",
       "    </tr>\n",
       "    <tr>\n",
       "      <td>6985</td>\n",
       "      <td>gp:AOqpTOFher_1rklTZnN2BKwHo6ZQ-EmST6lHeEbZEk2...</td>\n",
       "      <td>English</td>\n",
       "      <td>18.10.2</td>\n",
       "      <td>1</td>\n",
       "      <td>11/29/18</td>\n",
       "      <td>negative</td>\n",
       "      <td>negative</td>\n",
       "      <td>. quickbooks is amazing . i use it for my comp...</td>\n",
       "      <td>customer service</td>\n",
       "      <td>customer service</td>\n",
       "      <td>243,258</td>\n",
       "    </tr>\n",
       "    <tr>\n",
       "      <td>5797</td>\n",
       "      <td>gp:AOqpTOElmPzTfQonG-5L_GVPvEvrJ2NoBf4Sj17r4Gw...</td>\n",
       "      <td>English</td>\n",
       "      <td>19.8.0.2</td>\n",
       "      <td>1</td>\n",
       "      <td>8/26/19</td>\n",
       "      <td>negative</td>\n",
       "      <td>negative</td>\n",
       "      <td>work great . business on the go ! i wish there...</td>\n",
       "      <td>quality</td>\n",
       "      <td>reinstalled</td>\n",
       "      <td>125,135</td>\n",
       "    </tr>\n",
       "    <tr>\n",
       "      <td>824</td>\n",
       "      <td>4502852112</td>\n",
       "      <td>USA</td>\n",
       "      <td>19.7</td>\n",
       "      <td>1</td>\n",
       "      <td>7/22/19</td>\n",
       "      <td>negative</td>\n",
       "      <td>negative</td>\n",
       "      <td>nice app . work better than the online version...</td>\n",
       "      <td>app</td>\n",
       "      <td>app</td>\n",
       "      <td>5,7</td>\n",
       "    </tr>\n",
       "  </tbody>\n",
       "</table>\n",
       "</div>"
      ],
      "text/plain": [
       "                                              Review ID  Country   Version  \\\n",
       "2295                                         1696376299      USA     5.4.3   \n",
       "2430                                         1630708616   Canada       5.4   \n",
       "6985  gp:AOqpTOFher_1rklTZnN2BKwHo6ZQ-EmST6lHeEbZEk2...  English   18.10.2   \n",
       "5797  gp:AOqpTOElmPzTfQonG-5L_GVPvEvrJ2NoBf4Sj17r4Gw...  English  19.8.0.2   \n",
       "824                                          4502852112      USA      19.7   \n",
       "\n",
       "     Rating      Date Doc Sentiment Asp Sentiment  \\\n",
       "2295      1   7/24/17      negative      negative   \n",
       "2430      1    6/1/17      negative      negative   \n",
       "6985      1  11/29/18      negative      negative   \n",
       "5797      1   8/26/19      negative      negative   \n",
       "824       1   7/22/19      negative      negative   \n",
       "\n",
       "                                                 Review           Aspects  \\\n",
       "2295  love it . my entire business is conducted thro...           quality   \n",
       "2430  great tool for self employed small business ow...        experience   \n",
       "6985  . quickbooks is amazing . i use it for my comp...  customer service   \n",
       "5797  work great . business on the go ! i wish there...           quality   \n",
       "824   nice app . work better than the online version...               app   \n",
       "\n",
       "            AspectText Positions  \n",
       "2295         fix asap.      -1,7  \n",
       "2430          navigate     76,83  \n",
       "6985  customer service   243,258  \n",
       "5797       reinstalled   125,135  \n",
       "824                app       5,7  "
      ]
     },
     "execution_count": 23,
     "metadata": {},
     "output_type": "execute_result"
    }
   ],
   "source": [
    "train.head()"
   ]
  },
  {
   "cell_type": "code",
   "execution_count": 24,
   "metadata": {},
   "outputs": [
    {
     "data": {
      "text/plain": [
       "5587"
      ]
     },
     "execution_count": 24,
     "metadata": {},
     "output_type": "execute_result"
    }
   ],
   "source": [
    "len(train)"
   ]
  },
  {
   "cell_type": "markdown",
   "metadata": {},
   "source": [
    "### Generate files"
   ]
  },
  {
   "cell_type": "code",
   "execution_count": 25,
   "metadata": {},
   "outputs": [],
   "source": [
    "def generate_input_files(d_type, data):\n",
    "\n",
    "    #save reviews\n",
    "    df_review = data[['Review']]\n",
    "    df_review.to_csv(r'../data/qb/{}/review.txt'.format(d_type), header=None, index=None, sep='\\n', mode='a')\n",
    "\n",
    "    #save aspects\n",
    "    df_review = data[['AspectText']]\n",
    "    df_review.to_csv(r'../data/qb/{}/term.txt'.format(d_type), header=None, index=None, sep='\\n', mode='a')\n",
    "\n",
    "    #save positions\n",
    "    df_review = data[['Positions']]\n",
    "    df_review.to_csv(r'../data/qb/{}/position.txt'.format(d_type), header=None, index=None, sep='\\n', mode='a')\n",
    "\n",
    "    #save label\n",
    "    df_review = data[['Asp Sentiment']]\n",
    "    df_review.to_csv(r'../data/qb/{}/label.txt'.format(d_type), header=None, index=None, sep='\\n', mode='a')"
   ]
  },
  {
   "cell_type": "code",
   "execution_count": 35,
   "metadata": {},
   "outputs": [],
   "source": [
    "generate_input_files('train', train)\n",
    "generate_input_files('test', test)\n",
    "generate_input_files('dev', validate)"
   ]
  },
  {
   "cell_type": "code",
   "execution_count": null,
   "metadata": {},
   "outputs": [],
   "source": []
  }
 ],
 "metadata": {
  "kernelspec": {
   "display_name": "Python 3",
   "language": "python",
   "name": "python3"
  },
  "language_info": {
   "codemirror_mode": {
    "name": "ipython",
    "version": 3
   },
   "file_extension": ".py",
   "mimetype": "text/x-python",
   "name": "python",
   "nbconvert_exporter": "python",
   "pygments_lexer": "ipython3",
   "version": "3.7.4"
  }
 },
 "nbformat": 4,
 "nbformat_minor": 2
}
