{
 "cells": [
  {
   "cell_type": "code",
   "execution_count": 1,
   "metadata": {},
   "outputs": [],
   "source": [
    "from model import *\n",
    "from utils import *\n",
    "import tensorflow as tf\n",
    "import numpy as np\n",
    "import time\n",
    "import os\n",
    "os.environ['TF_CPP_MIN_LOG_LEVEL'] = '2'"
   ]
  },
  {
   "cell_type": "code",
   "execution_count": 2,
   "metadata": {},
   "outputs": [],
   "source": [
    "tf.app.flags.DEFINE_string('f', '', 'kernel')\n",
    "\n",
    "flags = tf.app.flags\n",
    "\n",
    "flags.DEFINE_string('ASC', 'qb', 'restaurant or laptop or qb')\n",
    "flags.DEFINE_string('DSC', 'yelp', '{yelp, twitter} for restaurant & {amazon, twitter} for laptop')\n",
    "flags.DEFINE_integer('batch_size', 128, 'number of example per batch')\n",
    "flags.DEFINE_float('learning_rate', 0.001, 'learning rate')\n",
    "#flags.DEFINE_integer('n_iter', 25, 'training iteration')\n",
    "flags.DEFINE_integer('n_iter', 20, 'training iteration')\n",
    "# We slightly modify the training procedure. Feeding all DSC data in ONE epoch can get better results.\n",
    "flags.DEFINE_float('gamma', 0.1, '{0.1, 0.1, 0.9, 0.2} for {res+yelp, res+twitter, laptop+amazon, laptop+twitter')\n",
    "flags.DEFINE_integer('embedding_dim', 300, 'dimension of word embedding')\n",
    "flags.DEFINE_integer('position_dim', 100, 'dimension of position embedding')\n",
    "flags.DEFINE_integer('max_sentence_len', 85, 'max number of tokens per sentence')\n",
    "flags.DEFINE_integer('max_target_len', 25, 'max number of tokens per target')\n",
    "flags.DEFINE_float('keep_prob1', 0.5, 'dropout keep prob1')\n",
    "flags.DEFINE_float('keep_prob2', 1.0, 'dropout keep prob2')\n",
    "# Parameters for capsule layers.\n",
    "flags.DEFINE_integer('filter_size', 3, 'filter_size')\n",
    "flags.DEFINE_integer('sc_num', 16, 'sc_num')\n",
    "flags.DEFINE_integer('sc_dim', 16, 'sc_dim')\n",
    "flags.DEFINE_integer('cc_num',  3, 'cc_num')\n",
    "flags.DEFINE_integer('cc_dim', 24, 'cc_dim')\n",
    "flags.DEFINE_integer('iter_routing', 3, 'routing iteration')\n",
    "flags.DEFINE_bool(\"reuse_embedding\", True, \"reuse word embedding & id, True or False\")\n",
    "FLAGS = flags.FLAGS"
   ]
  },
  {
   "cell_type": "code",
   "execution_count": 3,
   "metadata": {},
   "outputs": [],
   "source": [
    "def main(_):\n",
    "    start_time = time.time()\n",
    "    info = ''\n",
    "    index = 0\n",
    "    \n",
    "    for name, value in FLAGS.__flags.items():\n",
    "        value = value.value\n",
    "        if index < 19:\n",
    "            info += '{}:{}  '.format(name, value)\n",
    "        if index in [5, 11]:\n",
    "            info += '\\n'\n",
    "        index += 1\n",
    "    print('\\n{:-^80}'.format('Parameters'))\n",
    "    print(info + '\\n')\n",
    "    \n",
    "    print('---------')\n",
    "    print(FLAGS.ASC)\n",
    "    \n",
    "    data_path = 'data/{}/'.format(FLAGS.ASC)\n",
    "    \n",
    "    if not FLAGS.reuse_embedding :\n",
    "        print('Initialize Word Dictionary & Embedding')\n",
    "        word_dict = data_init(data_path, FLAGS.DSC)\n",
    "        w2v = init_word_embeddings(data_path, word_dict, FLAGS.DSC)\n",
    "    else:\n",
    "        print('Reuse Word Dictionary & Embedding')\n",
    "        with open(data_path + FLAGS.DSC + '_word2id.txt', 'r', encoding='utf-8') as f:\n",
    "            word_dict = eval(f.read())\n",
    "        w2v = np.load(data_path + FLAGS.DSC + '_word_embedding.npy')\n",
    "    \n",
    "    #print(w2v)\n",
    "    #print(word_dict)\n",
    "    \n",
    "    model = MODEL(FLAGS, w2v, word_dict, data_path)\n",
    "    model.run()\n",
    "    \n",
    "    end_time = time.time()\n",
    "    print('Running Time: {:.0f}m {:.0f}s'.format((end_time-start_time) // 60, (end_time-start_time) % 60))"
   ]
  },
  {
   "cell_type": "code",
   "execution_count": 4,
   "metadata": {
    "scrolled": true
   },
   "outputs": [
    {
     "name": "stdout",
     "output_type": "stream",
     "text": [
      "\n",
      "-----------------------------------Parameters-----------------------------------\n",
      "logtostderr:False  alsologtostderr:False  log_dir:  v:0  verbosity:0  stderrthreshold:fatal  \n",
      "showprefixforinfo:True  run_with_pdb:False  pdb_post_mortem:False  run_with_profiling:False  profile_file:None  use_cprofile_for_profiling:True  \n",
      "only_check_args:False  op_conversion_fallback_to_while_loop:False  test_random_seed:301  test_srcdir:  test_tmpdir:/tmp/absl_testing  test_randomize_ordering_seed:  xml_output_file:  \n",
      "\n",
      "---------\n",
      "qb\n",
      "Reuse Word Dictionary & Embedding\n",
      "WARNING:tensorflow:From /home/rmajumder/266proj/266finalproject/transcap-qb/model.py:46: The name tf.random_uniform is deprecated. Please use tf.random.uniform instead.\n",
      "\n"
     ]
    },
    {
     "name": "stderr",
     "output_type": "stream",
     "text": [
      "W0319 19:55:08.403247 140583602894656 module_wrapper.py:139] From /home/rmajumder/266proj/266finalproject/transcap-qb/model.py:46: The name tf.random_uniform is deprecated. Please use tf.random.uniform instead.\n",
      "\n"
     ]
    },
    {
     "name": "stdout",
     "output_type": "stream",
     "text": [
      "WARNING:tensorflow:From /home/rmajumder/266proj/266finalproject/transcap-qb/model.py:52: The name tf.placeholder is deprecated. Please use tf.compat.v1.placeholder instead.\n",
      "\n"
     ]
    },
    {
     "name": "stderr",
     "output_type": "stream",
     "text": [
      "W0319 19:55:08.418211 140583602894656 module_wrapper.py:139] From /home/rmajumder/266proj/266finalproject/transcap-qb/model.py:52: The name tf.placeholder is deprecated. Please use tf.compat.v1.placeholder instead.\n",
      "\n"
     ]
    },
    {
     "name": "stdout",
     "output_type": "stream",
     "text": [
      "I am TransCap.\n",
      "WARNING:tensorflow:From /home/rmajumder/266proj/266finalproject/transcap-qb/model.py:65: calling dropout (from tensorflow.python.ops.nn_ops) with keep_prob is deprecated and will be removed in a future version.\n",
      "Instructions for updating:\n",
      "Please use `rate` instead of `keep_prob`. Rate should be set to `rate = 1 - keep_prob`.\n"
     ]
    },
    {
     "name": "stderr",
     "output_type": "stream",
     "text": [
      "W0319 19:55:08.450290 140583602894656 deprecation.py:506] From /home/rmajumder/266proj/266finalproject/transcap-qb/model.py:65: calling dropout (from tensorflow.python.ops.nn_ops) with keep_prob is deprecated and will be removed in a future version.\n",
      "Instructions for updating:\n",
      "Please use `rate` instead of `keep_prob`. Rate should be set to `rate = 1 - keep_prob`.\n"
     ]
    },
    {
     "name": "stdout",
     "output_type": "stream",
     "text": [
      "WARNING:tensorflow:From /home/rmajumder/266proj/266finalproject/transcap-qb/model.py:70: The name tf.variable_scope is deprecated. Please use tf.compat.v1.variable_scope instead.\n",
      "\n"
     ]
    },
    {
     "name": "stderr",
     "output_type": "stream",
     "text": [
      "W0319 19:55:08.468204 140583602894656 module_wrapper.py:139] From /home/rmajumder/266proj/266finalproject/transcap-qb/model.py:70: The name tf.variable_scope is deprecated. Please use tf.compat.v1.variable_scope instead.\n",
      "\n"
     ]
    },
    {
     "name": "stdout",
     "output_type": "stream",
     "text": [
      "WARNING:tensorflow:From /home/rmajumder/266proj/266finalproject/transcap-qb/capsule.py:17: The name tf.truncated_normal is deprecated. Please use tf.random.truncated_normal instead.\n",
      "\n"
     ]
    },
    {
     "name": "stderr",
     "output_type": "stream",
     "text": [
      "W0319 19:55:08.473444 140583602894656 module_wrapper.py:139] From /home/rmajumder/266proj/266finalproject/transcap-qb/capsule.py:17: The name tf.truncated_normal is deprecated. Please use tf.random.truncated_normal instead.\n",
      "\n"
     ]
    },
    {
     "name": "stdout",
     "output_type": "stream",
     "text": [
      "WARNING:tensorflow:\n",
      "The TensorFlow contrib module will not be included in TensorFlow 2.0.\n",
      "For more information, please see:\n",
      "  * https://github.com/tensorflow/community/blob/master/rfcs/20180907-contrib-sunset.md\n",
      "  * https://github.com/tensorflow/addons\n",
      "  * https://github.com/tensorflow/io (for I/O related ops)\n",
      "If you depend on functionality not listed there, please file an issue.\n",
      "\n"
     ]
    },
    {
     "name": "stderr",
     "output_type": "stream",
     "text": [
      "W0319 19:55:08.498842 140583602894656 lazy_loader.py:50] \n",
      "The TensorFlow contrib module will not be included in TensorFlow 2.0.\n",
      "For more information, please see:\n",
      "  * https://github.com/tensorflow/community/blob/master/rfcs/20180907-contrib-sunset.md\n",
      "  * https://github.com/tensorflow/addons\n",
      "  * https://github.com/tensorflow/io (for I/O related ops)\n",
      "If you depend on functionality not listed there, please file an issue.\n",
      "\n",
      "I0319 19:55:08.788926 140583602894656 utils.py:141] NumExpr defaulting to 1 threads.\n"
     ]
    },
    {
     "name": "stdout",
     "output_type": "stream",
     "text": [
      "WARNING:tensorflow:From /home/rmajumder/anaconda3/lib/python3.7/site-packages/tensorflow_core/contrib/layers/python/layers/layers.py:1866: Layer.apply (from tensorflow.python.keras.engine.base_layer) is deprecated and will be removed in a future version.\n",
      "Instructions for updating:\n",
      "Please use `layer.__call__` method instead.\n"
     ]
    },
    {
     "name": "stderr",
     "output_type": "stream",
     "text": [
      "W0319 19:55:09.302258 140583602894656 deprecation.py:323] From /home/rmajumder/anaconda3/lib/python3.7/site-packages/tensorflow_core/contrib/layers/python/layers/layers.py:1866: Layer.apply (from tensorflow.python.keras.engine.base_layer) is deprecated and will be removed in a future version.\n",
      "Instructions for updating:\n",
      "Please use `layer.__call__` method instead.\n"
     ]
    },
    {
     "name": "stdout",
     "output_type": "stream",
     "text": [
      "WARNING:tensorflow:From /home/rmajumder/266proj/266finalproject/transcap-qb/capsule.py:48: The name tf.get_variable is deprecated. Please use tf.compat.v1.get_variable instead.\n",
      "\n"
     ]
    },
    {
     "name": "stderr",
     "output_type": "stream",
     "text": [
      "W0319 19:55:09.372535 140583602894656 module_wrapper.py:139] From /home/rmajumder/266proj/266finalproject/transcap-qb/capsule.py:48: The name tf.get_variable is deprecated. Please use tf.compat.v1.get_variable instead.\n",
      "\n"
     ]
    },
    {
     "name": "stdout",
     "output_type": "stream",
     "text": [
      "WARNING:tensorflow:From /home/rmajumder/266proj/266finalproject/transcap-qb/model.py:116: The name tf.train.exponential_decay is deprecated. Please use tf.compat.v1.train.exponential_decay instead.\n",
      "\n"
     ]
    },
    {
     "name": "stderr",
     "output_type": "stream",
     "text": [
      "W0319 19:55:09.672166 140583602894656 module_wrapper.py:139] From /home/rmajumder/266proj/266finalproject/transcap-qb/model.py:116: The name tf.train.exponential_decay is deprecated. Please use tf.compat.v1.train.exponential_decay instead.\n",
      "\n"
     ]
    },
    {
     "name": "stdout",
     "output_type": "stream",
     "text": [
      "WARNING:tensorflow:From /home/rmajumder/266proj/266finalproject/transcap-qb/model.py:118: The name tf.train.AdamOptimizer is deprecated. Please use tf.compat.v1.train.AdamOptimizer instead.\n",
      "\n"
     ]
    },
    {
     "name": "stderr",
     "output_type": "stream",
     "text": [
      "W0319 19:55:09.681891 140583602894656 module_wrapper.py:139] From /home/rmajumder/266proj/266finalproject/transcap-qb/model.py:118: The name tf.train.AdamOptimizer is deprecated. Please use tf.compat.v1.train.AdamOptimizer instead.\n",
      "\n"
     ]
    },
    {
     "name": "stdout",
     "output_type": "stream",
     "text": [
      "WARNING:tensorflow:From /home/rmajumder/anaconda3/lib/python3.7/site-packages/tensorflow_core/python/ops/math_grad.py:1424: where (from tensorflow.python.ops.array_ops) is deprecated and will be removed in a future version.\n",
      "Instructions for updating:\n",
      "Use tf.where in 2.0, which has the same broadcast rule as np.where\n"
     ]
    },
    {
     "name": "stderr",
     "output_type": "stream",
     "text": [
      "W0319 19:55:09.903525 140583602894656 deprecation.py:323] From /home/rmajumder/anaconda3/lib/python3.7/site-packages/tensorflow_core/python/ops/math_grad.py:1424: where (from tensorflow.python.ops.array_ops) is deprecated and will be removed in a future version.\n",
      "Instructions for updating:\n",
      "Use tf.where in 2.0, which has the same broadcast rule as np.where\n"
     ]
    },
    {
     "name": "stdout",
     "output_type": "stream",
     "text": [
      "WARNING:tensorflow:From /home/rmajumder/266proj/266finalproject/transcap-qb/model.py:124: The name tf.Session is deprecated. Please use tf.compat.v1.Session instead.\n",
      "\n"
     ]
    },
    {
     "name": "stderr",
     "output_type": "stream",
     "text": [
      "W0319 19:55:11.186606 140583602894656 module_wrapper.py:139] From /home/rmajumder/266proj/266finalproject/transcap-qb/model.py:124: The name tf.Session is deprecated. Please use tf.compat.v1.Session instead.\n",
      "\n"
     ]
    },
    {
     "name": "stdout",
     "output_type": "stream",
     "text": [
      "WARNING:tensorflow:From /home/rmajumder/266proj/266finalproject/transcap-qb/model.py:125: The name tf.global_variables_initializer is deprecated. Please use tf.compat.v1.global_variables_initializer instead.\n",
      "\n"
     ]
    },
    {
     "name": "stderr",
     "output_type": "stream",
     "text": [
      "W0319 19:55:11.203905 140583602894656 module_wrapper.py:139] From /home/rmajumder/266proj/266finalproject/transcap-qb/model.py:125: The name tf.global_variables_initializer is deprecated. Please use tf.compat.v1.global_variables_initializer instead.\n",
      "\n",
      "/home/rmajumder/anaconda3/lib/python3.7/site-packages/sklearn/metrics/classification.py:1437: UndefinedMetricWarning: Precision and F-score are ill-defined and being set to 0.0 in labels with no predicted samples.\n",
      "  'precision', 'predicted', average, warn_for)\n"
     ]
    },
    {
     "name": "stdout",
     "output_type": "stream",
     "text": [
      "\n",
      "-------------------------------------Iter0--------------------------------------\n",
      "train loss=14.568844, dev loss=4.489197, dev acc=0.5367, step=256\n",
      "test acc=0.5611, test precision=0.1870, test recall=0.3333, test f1=0.2396\n",
      "max step:0, early stop step:0\n",
      "\n",
      "-------------------------------------Iter1--------------------------------------\n",
      "train loss=13.782716, dev loss=3.948963, dev acc=0.5525, step=512\n",
      "test acc=0.5716, test precision=0.2704, test recall=0.3862, test f1=0.3148\n",
      "max step:0, early stop step:0\n",
      "\n",
      "-------------------------------------Iter2--------------------------------------\n",
      "train loss=12.304043, dev loss=3.431163, dev acc=0.5727, step=768\n",
      "test acc=0.5928, test precision=0.6732, test recall=0.4930, test f1=0.3823\n",
      "max step:0, early stop step:0\n",
      "\n",
      "-------------------------------------Iter3--------------------------------------\n",
      "train loss=11.556598, dev loss=3.325856, dev acc=0.5770, step=1024\n",
      "test acc=0.6003, test precision=0.6012, test recall=0.5150, test f1=0.3956\n",
      "max step:0, early stop step:0\n",
      "\n",
      "-------------------------------------Iter4--------------------------------------\n",
      "train loss=11.258362, dev loss=3.361227, dev acc=0.5899, step=1280\n",
      "test acc=0.6048, test precision=0.6228, test recall=0.5309, test f1=0.4043\n",
      "max step:0, early stop step:0\n",
      "\n",
      "-------------------------------------Iter5--------------------------------------\n",
      "train loss=11.065836, dev loss=3.392932, dev acc=0.6158, step=1536\n",
      "test acc=0.6320, test precision=0.6731, test recall=0.5503, test f1=0.4445\n",
      "max step:0, early stop step:0\n",
      "\n",
      "-------------------------------------Iter6--------------------------------------\n",
      "train loss=10.884790, dev loss=3.424711, dev acc=0.5928, step=1792\n",
      "test acc=0.6275, test precision=0.6706, test recall=0.5690, test f1=0.4361\n",
      "max step:1, early stop step:1\n",
      "\n",
      "-------------------------------------Iter7--------------------------------------\n",
      "train loss=10.703376, dev loss=3.384237, dev acc=0.6288, step=2048\n",
      "test acc=0.6576, test precision=0.6868, test recall=0.6119, test f1=0.4862\n",
      "max step:1, early stop step:0\n",
      "\n",
      "-------------------------------------Iter8--------------------------------------\n",
      "train loss=10.600707, dev loss=3.430072, dev acc=0.6633, step=2304\n",
      "test acc=0.7119, test precision=0.6981, test recall=0.6529, test f1=0.5714\n",
      "max step:1, early stop step:0\n",
      "\n",
      "-------------------------------------Iter9--------------------------------------\n",
      "train loss=10.481937, dev loss=3.495236, dev acc=0.6403, step=2560\n",
      "test acc=0.6878, test precision=0.6985, test recall=0.6312, test f1=0.5296\n",
      "max step:1, early stop step:1\n",
      "\n",
      "-------------------------------------Iter10-------------------------------------\n",
      "train loss=10.399685, dev loss=3.436485, dev acc=0.6604, step=2816\n",
      "test acc=0.7240, test precision=0.7133, test recall=0.6697, test f1=0.5845\n",
      "max step:2, early stop step:2\n",
      "\n",
      "-------------------------------------Iter11-------------------------------------\n",
      "train loss=10.370166, dev loss=3.398332, dev acc=0.6978, step=3072\n",
      "test acc=0.7662, test precision=0.7266, test recall=0.7110, test f1=0.6439\n",
      "max step:2, early stop step:0\n",
      "\n",
      "-------------------------------------Iter12-------------------------------------\n",
      "train loss=10.277095, dev loss=3.464627, dev acc=0.6748, step=3328\n",
      "test acc=0.7391, test precision=0.7282, test recall=0.6960, test f1=0.6086\n",
      "max step:2, early stop step:1\n",
      "\n",
      "-------------------------------------Iter13-------------------------------------\n",
      "train loss=10.254532, dev loss=3.452018, dev acc=0.7180, step=3584\n",
      "test acc=0.7843, test precision=0.7414, test recall=0.7403, test f1=0.6713\n",
      "max step:2, early stop step:0\n",
      "\n",
      "-------------------------------------Iter14-------------------------------------\n",
      "train loss=10.181539, dev loss=3.429951, dev acc=0.7324, step=3840\n",
      "test acc=0.7964, test precision=0.7493, test recall=0.7521, test f1=0.6871\n",
      "max step:2, early stop step:0\n",
      "\n",
      "-------------------------------------Iter15-------------------------------------\n",
      "train loss=10.136031, dev loss=3.455508, dev acc=0.7468, step=4096\n",
      "test acc=0.8250, test precision=0.7554, test recall=0.7722, test f1=0.7225\n",
      "max step:2, early stop step:0\n",
      "\n",
      "-------------------------------------Iter16-------------------------------------\n",
      "train loss=10.087649, dev loss=3.525958, dev acc=0.7583, step=4352\n",
      "test acc=0.8326, test precision=0.7603, test recall=0.7796, test f1=0.7324\n",
      "max step:2, early stop step:0\n",
      "\n",
      "-------------------------------------Iter17-------------------------------------\n",
      "train loss=10.095252, dev loss=3.453819, dev acc=0.7770, step=4608\n",
      "test acc=0.8431, test precision=0.7690, test recall=0.7893, test f1=0.7460\n",
      "max step:2, early stop step:0\n",
      "\n",
      "-------------------------------------Iter18-------------------------------------\n",
      "train loss=10.070603, dev loss=3.462201, dev acc=0.7856, step=4864\n",
      "test acc=0.8567, test precision=0.7716, test recall=0.7922, test f1=0.7616\n",
      "max step:2, early stop step:0\n",
      "\n",
      "-------------------------------------Iter19-------------------------------------\n",
      "train loss=10.028395, dev loss=3.453023, dev acc=0.8072, step=5120\n",
      "test acc=0.8763, test precision=0.7824, test recall=0.7925, test f1=0.7794\n",
      "max step:2, early stop step:0\n",
      "\n",
      "--------------------------------Mission Complete--------------------------------\n",
      "max acc_index: 19\n",
      "test_acc: 0.8763,test_f1:0.7794\n",
      "min loss_index: 3\n",
      "test_acc: 0.6003,test_f1:0.3956\n",
      "\n",
      "Running Time: 83m 58s\n"
     ]
    },
    {
     "ename": "SystemExit",
     "evalue": "",
     "output_type": "error",
     "traceback": [
      "An exception has occurred, use %tb to see the full traceback.\n",
      "\u001b[0;31mSystemExit\u001b[0m\n"
     ]
    },
    {
     "name": "stderr",
     "output_type": "stream",
     "text": [
      "/home/rmajumder/anaconda3/lib/python3.7/site-packages/IPython/core/interactiveshell.py:3334: UserWarning: To exit: use 'exit', 'quit', or Ctrl-D.\n",
      "  warn(\"To exit: use 'exit', 'quit', or Ctrl-D.\", stacklevel=1)\n"
     ]
    }
   ],
   "source": [
    "if __name__ == '__main__':\n",
    "    tf.app.run()"
   ]
  },
  {
   "cell_type": "code",
   "execution_count": null,
   "metadata": {},
   "outputs": [],
   "source": []
  }
 ],
 "metadata": {
  "kernelspec": {
   "display_name": "Python 3",
   "language": "python",
   "name": "python3"
  },
  "language_info": {
   "codemirror_mode": {
    "name": "ipython",
    "version": 3
   },
   "file_extension": ".py",
   "mimetype": "text/x-python",
   "name": "python",
   "nbconvert_exporter": "python",
   "pygments_lexer": "ipython3",
   "version": "3.7.4"
  }
 },
 "nbformat": 4,
 "nbformat_minor": 2
}
