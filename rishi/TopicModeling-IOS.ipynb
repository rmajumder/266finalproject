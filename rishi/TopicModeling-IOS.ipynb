{
 "cells": [
  {
   "cell_type": "code",
   "execution_count": 1,
   "metadata": {},
   "outputs": [
    {
     "name": "stderr",
     "output_type": "stream",
     "text": [
      "[nltk_data] Downloading package stopwords to\n",
      "[nltk_data]     /home/rmajumder/nltk_data...\n",
      "[nltk_data]   Package stopwords is already up-to-date!\n"
     ]
    },
    {
     "data": {
      "text/plain": [
       "True"
      ]
     },
     "execution_count": 1,
     "metadata": {},
     "output_type": "execute_result"
    }
   ],
   "source": [
    "import nltk\n",
    "from nltk import FreqDist\n",
    "nltk.download('stopwords') # run this one time"
   ]
  },
  {
   "cell_type": "code",
   "execution_count": 3,
   "metadata": {},
   "outputs": [],
   "source": [
    "import pandas as pd\n",
    "pd.set_option(\"display.max_colwidth\", 200)\n",
    "import numpy as np\n",
    "import re\n",
    "import spacy\n",
    "\n",
    "import gensim\n",
    "from gensim import corpora\n",
    "\n",
    "# libraries for visualization\n",
    "import pyLDAvis\n",
    "import pyLDAvis.gensim\n",
    "import matplotlib.pyplot as plt\n",
    "import seaborn as sns\n",
    "%matplotlib inline"
   ]
  },
  {
   "cell_type": "code",
   "execution_count": 11,
   "metadata": {},
   "outputs": [],
   "source": [
    "dfs = pd.read_excel('../data/QBO_IOS_With_Auto_Aspect_1583620920292.xlsx', sheet_name='Review Text')"
   ]
  },
  {
   "cell_type": "code",
   "execution_count": 12,
   "metadata": {
    "scrolled": true
   },
   "outputs": [
    {
     "data": {
      "text/html": [
       "<div>\n",
       "<style scoped>\n",
       "    .dataframe tbody tr th:only-of-type {\n",
       "        vertical-align: middle;\n",
       "    }\n",
       "\n",
       "    .dataframe tbody tr th {\n",
       "        vertical-align: top;\n",
       "    }\n",
       "\n",
       "    .dataframe thead th {\n",
       "        text-align: right;\n",
       "    }\n",
       "</style>\n",
       "<table border=\"1\" class=\"dataframe\">\n",
       "  <thead>\n",
       "    <tr style=\"text-align: right;\">\n",
       "      <th></th>\n",
       "      <th>Unnamed: 0</th>\n",
       "      <th>Review ID</th>\n",
       "      <th>Version</th>\n",
       "      <th>Rating</th>\n",
       "      <th>Date</th>\n",
       "      <th>Aspect</th>\n",
       "      <th>Subject</th>\n",
       "      <th>Body</th>\n",
       "    </tr>\n",
       "  </thead>\n",
       "  <tbody>\n",
       "    <tr>\n",
       "      <td>0</td>\n",
       "      <td>0</td>\n",
       "      <td>5.467988e+09</td>\n",
       "      <td>20.01.6</td>\n",
       "      <td>1</td>\n",
       "      <td>2020-01-31</td>\n",
       "      <td>Receipt match,quality,invoicing,payment,report,navigation,help,customers service,data</td>\n",
       "      <td>Shiny useless tool</td>\n",
       "      <td>This app looks awesome.  Very well thought out design and it appears that most of the functions are right at my fingertips.  Not so.  I have used it mostly for categorizing expenses.  I was trying...</td>\n",
       "    </tr>\n",
       "    <tr>\n",
       "      <td>1</td>\n",
       "      <td>1</td>\n",
       "      <td>5.464235e+09</td>\n",
       "      <td>20.01.5</td>\n",
       "      <td>1</td>\n",
       "      <td>2020-01-30</td>\n",
       "      <td>quality,updates</td>\n",
       "      <td>Latest app update</td>\n",
       "      <td>This update is terrible basically unusable please change it back ASAP</td>\n",
       "    </tr>\n",
       "    <tr>\n",
       "      <td>2</td>\n",
       "      <td>2</td>\n",
       "      <td>5.467098e+09</td>\n",
       "      <td>20.01.5</td>\n",
       "      <td>3</td>\n",
       "      <td>2020-01-30</td>\n",
       "      <td>help,data,customers service,experience,quality,transaction</td>\n",
       "      <td>App closes out while entering expenses</td>\n",
       "      <td>The majority of the time this app is wonderful. On a regular basis it will completely close out and I will lose the transaction I’m in the middle of. \\nI’ve continually notified Intuit about this ...</td>\n",
       "    </tr>\n",
       "    <tr>\n",
       "      <td>3</td>\n",
       "      <td>3</td>\n",
       "      <td>5.466985e+09</td>\n",
       "      <td>20.01.5</td>\n",
       "      <td>5</td>\n",
       "      <td>2020-01-30</td>\n",
       "      <td>general,quality</td>\n",
       "      <td>Life saver</td>\n",
       "      <td>One my favorite apps to use while working. I’m on it like a social media page. Thanks quick books.</td>\n",
       "    </tr>\n",
       "    <tr>\n",
       "      <td>4</td>\n",
       "      <td>4</td>\n",
       "      <td>5.467691e+09</td>\n",
       "      <td>20.01.6</td>\n",
       "      <td>5</td>\n",
       "      <td>2020-01-30</td>\n",
       "      <td>general,quality</td>\n",
       "      <td>Small business</td>\n",
       "      <td>This absolutely works perfectly without difficulty.</td>\n",
       "    </tr>\n",
       "  </tbody>\n",
       "</table>\n",
       "</div>"
      ],
      "text/plain": [
       "   Unnamed: 0     Review ID  Version  Rating       Date  \\\n",
       "0           0  5.467988e+09  20.01.6       1 2020-01-31   \n",
       "1           1  5.464235e+09  20.01.5       1 2020-01-30   \n",
       "2           2  5.467098e+09  20.01.5       3 2020-01-30   \n",
       "3           3  5.466985e+09  20.01.5       5 2020-01-30   \n",
       "4           4  5.467691e+09  20.01.6       5 2020-01-30   \n",
       "\n",
       "                                                                                  Aspect  \\\n",
       "0  Receipt match,quality,invoicing,payment,report,navigation,help,customers service,data   \n",
       "1                                                                        quality,updates   \n",
       "2                             help,data,customers service,experience,quality,transaction   \n",
       "3                                                                        general,quality   \n",
       "4                                                                        general,quality   \n",
       "\n",
       "                                  Subject  \\\n",
       "0                      Shiny useless tool   \n",
       "1                       Latest app update   \n",
       "2  App closes out while entering expenses   \n",
       "3                              Life saver   \n",
       "4                          Small business   \n",
       "\n",
       "                                                                                                                                                                                                      Body  \n",
       "0  This app looks awesome.  Very well thought out design and it appears that most of the functions are right at my fingertips.  Not so.  I have used it mostly for categorizing expenses.  I was trying...  \n",
       "1                                                                                                                                    This update is terrible basically unusable please change it back ASAP  \n",
       "2  The majority of the time this app is wonderful. On a regular basis it will completely close out and I will lose the transaction I’m in the middle of. \\nI’ve continually notified Intuit about this ...  \n",
       "3                                                                                                       One my favorite apps to use while working. I’m on it like a social media page. Thanks quick books.  \n",
       "4                                                                                                                                                      This absolutely works perfectly without difficulty.  "
      ]
     },
     "execution_count": 12,
     "metadata": {},
     "output_type": "execute_result"
    }
   ],
   "source": [
    "dfs.head()"
   ]
  },
  {
   "cell_type": "code",
   "execution_count": 13,
   "metadata": {},
   "outputs": [
    {
     "data": {
      "text/plain": [
       "7552"
      ]
     },
     "execution_count": 13,
     "metadata": {},
     "output_type": "execute_result"
    }
   ],
   "source": [
    "len(dfs)"
   ]
  },
  {
   "cell_type": "code",
   "execution_count": 14,
   "metadata": {},
   "outputs": [
    {
     "data": {
      "text/plain": [
       "Index(['Unnamed: 0', 'Review ID', 'Version', 'Rating', 'Date', 'Aspect',\n",
       "       'Subject', 'Body'],\n",
       "      dtype='object')"
      ]
     },
     "execution_count": 14,
     "metadata": {},
     "output_type": "execute_result"
    }
   ],
   "source": [
    "dfs.columns"
   ]
  },
  {
   "cell_type": "code",
   "execution_count": 15,
   "metadata": {},
   "outputs": [
    {
     "data": {
      "text/html": [
       "<div>\n",
       "<style scoped>\n",
       "    .dataframe tbody tr th:only-of-type {\n",
       "        vertical-align: middle;\n",
       "    }\n",
       "\n",
       "    .dataframe tbody tr th {\n",
       "        vertical-align: top;\n",
       "    }\n",
       "\n",
       "    .dataframe thead th {\n",
       "        text-align: right;\n",
       "    }\n",
       "</style>\n",
       "<table border=\"1\" class=\"dataframe\">\n",
       "  <thead>\n",
       "    <tr style=\"text-align: right;\">\n",
       "      <th></th>\n",
       "      <th>Unnamed: 0</th>\n",
       "      <th>Review ID</th>\n",
       "      <th>Version</th>\n",
       "      <th>Rating</th>\n",
       "      <th>Date</th>\n",
       "      <th>Aspect</th>\n",
       "      <th>Subject</th>\n",
       "      <th>Body</th>\n",
       "    </tr>\n",
       "  </thead>\n",
       "  <tbody>\n",
       "    <tr>\n",
       "      <td>0</td>\n",
       "      <td>0</td>\n",
       "      <td>5.467988e+09</td>\n",
       "      <td>20.01.6</td>\n",
       "      <td>1</td>\n",
       "      <td>2020-01-31</td>\n",
       "      <td>Receipt match,quality,invoicing,payment,report,navigation,help,customers service,data</td>\n",
       "      <td>Shiny useless tool</td>\n",
       "      <td>This app looks awesome.  Very well thought out design and it appears that most of the functions are right at my fingertips.  Not so.  I have used it mostly for categorizing expenses.  I was trying...</td>\n",
       "    </tr>\n",
       "    <tr>\n",
       "      <td>1</td>\n",
       "      <td>1</td>\n",
       "      <td>5.464235e+09</td>\n",
       "      <td>20.01.5</td>\n",
       "      <td>1</td>\n",
       "      <td>2020-01-30</td>\n",
       "      <td>quality,updates</td>\n",
       "      <td>Latest app update</td>\n",
       "      <td>This update is terrible basically unusable please change it back ASAP</td>\n",
       "    </tr>\n",
       "    <tr>\n",
       "      <td>2</td>\n",
       "      <td>2</td>\n",
       "      <td>5.467098e+09</td>\n",
       "      <td>20.01.5</td>\n",
       "      <td>3</td>\n",
       "      <td>2020-01-30</td>\n",
       "      <td>help,data,customers service,experience,quality,transaction</td>\n",
       "      <td>App closes out while entering expenses</td>\n",
       "      <td>The majority of the time this app is wonderful. On a regular basis it will completely close out and I will lose the transaction I’m in the middle of. \\nI’ve continually notified Intuit about this ...</td>\n",
       "    </tr>\n",
       "    <tr>\n",
       "      <td>3</td>\n",
       "      <td>3</td>\n",
       "      <td>5.466985e+09</td>\n",
       "      <td>20.01.5</td>\n",
       "      <td>5</td>\n",
       "      <td>2020-01-30</td>\n",
       "      <td>general,quality</td>\n",
       "      <td>Life saver</td>\n",
       "      <td>One my favorite apps to use while working. I’m on it like a social media page. Thanks quick books.</td>\n",
       "    </tr>\n",
       "    <tr>\n",
       "      <td>4</td>\n",
       "      <td>4</td>\n",
       "      <td>5.467691e+09</td>\n",
       "      <td>20.01.6</td>\n",
       "      <td>5</td>\n",
       "      <td>2020-01-30</td>\n",
       "      <td>general,quality</td>\n",
       "      <td>Small business</td>\n",
       "      <td>This absolutely works perfectly without difficulty.</td>\n",
       "    </tr>\n",
       "  </tbody>\n",
       "</table>\n",
       "</div>"
      ],
      "text/plain": [
       "   Unnamed: 0     Review ID  Version  Rating       Date  \\\n",
       "0           0  5.467988e+09  20.01.6       1 2020-01-31   \n",
       "1           1  5.464235e+09  20.01.5       1 2020-01-30   \n",
       "2           2  5.467098e+09  20.01.5       3 2020-01-30   \n",
       "3           3  5.466985e+09  20.01.5       5 2020-01-30   \n",
       "4           4  5.467691e+09  20.01.6       5 2020-01-30   \n",
       "\n",
       "                                                                                  Aspect  \\\n",
       "0  Receipt match,quality,invoicing,payment,report,navigation,help,customers service,data   \n",
       "1                                                                        quality,updates   \n",
       "2                             help,data,customers service,experience,quality,transaction   \n",
       "3                                                                        general,quality   \n",
       "4                                                                        general,quality   \n",
       "\n",
       "                                  Subject  \\\n",
       "0                      Shiny useless tool   \n",
       "1                       Latest app update   \n",
       "2  App closes out while entering expenses   \n",
       "3                              Life saver   \n",
       "4                          Small business   \n",
       "\n",
       "                                                                                                                                                                                                      Body  \n",
       "0  This app looks awesome.  Very well thought out design and it appears that most of the functions are right at my fingertips.  Not so.  I have used it mostly for categorizing expenses.  I was trying...  \n",
       "1                                                                                                                                    This update is terrible basically unusable please change it back ASAP  \n",
       "2  The majority of the time this app is wonderful. On a regular basis it will completely close out and I will lose the transaction I’m in the middle of. \\nI’ve continually notified Intuit about this ...  \n",
       "3                                                                                                       One my favorite apps to use while working. I’m on it like a social media page. Thanks quick books.  \n",
       "4                                                                                                                                                      This absolutely works perfectly without difficulty.  "
      ]
     },
     "execution_count": 15,
     "metadata": {},
     "output_type": "execute_result"
    }
   ],
   "source": [
    "dfs.head()"
   ]
  },
  {
   "cell_type": "code",
   "execution_count": 16,
   "metadata": {},
   "outputs": [],
   "source": [
    "# function to plot most frequent terms\n",
    "def freq_words(x, terms = 30):\n",
    "    all_words = ' '.join([text for text in x])\n",
    "    all_words = all_words.split()\n",
    "\n",
    "    fdist = FreqDist(all_words)\n",
    "    words_df = pd.DataFrame({'word':list(fdist.keys()), 'count':list(fdist.values())})\n",
    "\n",
    "    # selecting top 20 most frequent words\n",
    "    d = words_df.nlargest(columns=\"count\", n = terms) \n",
    "    plt.figure(figsize=(20,5))\n",
    "    ax = sns.barplot(data=d, x= \"word\", y = \"count\")\n",
    "    ax.set(ylabel = 'Count')\n",
    "    plt.show()"
   ]
  },
  {
   "cell_type": "code",
   "execution_count": 17,
   "metadata": {},
   "outputs": [
    {
     "data": {
      "image/png": "[encoded data removed]",
      "text/plain": [
       "<Figure size 1440x360 with 1 Axes>"
      ]
     },
     "metadata": {
      "needs_background": "light"
     },
     "output_type": "display_data"
    }
   ],
   "source": [
    "freq_words(dfs['Body'])"
   ]
  },
  {
   "cell_type": "code",
   "execution_count": 18,
   "metadata": {},
   "outputs": [],
   "source": [
    "# remove unwanted characters, numbers and symbols\n",
    "df['Body'] = df['Body'].str.replace(\"[^a-zA-Z#]\", \" \")"
   ]
  },
  {
   "cell_type": "code",
   "execution_count": 19,
   "metadata": {},
   "outputs": [],
   "source": [
    "from nltk.corpus import stopwords\n",
    "stop_words = stopwords.words('english')"
   ]
  },
  {
   "cell_type": "code",
   "execution_count": 20,
   "metadata": {},
   "outputs": [],
   "source": [
    "# function to remove stopwords\n",
    "def remove_stopwords(rev):\n",
    "    rev_new = \" \".join([i for i in rev if i not in stop_words])\n",
    "    return rev_new\n",
    "\n",
    "# remove short words (length < 3)\n",
    "df['Body'] = df['Body'].apply(lambda x: ' '.join([w for w in x.split() if len(w)>2]))\n",
    "\n",
    "# remove stopwords from the text\n",
    "reviews = [remove_stopwords(r.split()) for r in df['Body']]\n",
    "\n",
    "# make entire text lowercase\n",
    "reviews = [r.lower() for r in reviews]"
   ]
  },
  {
   "cell_type": "code",
   "execution_count": 21,
   "metadata": {},
   "outputs": [
    {
     "data": {
      "image/png": "[encoded data removed]",
      "text/plain": [
       "<Figure size 1440x360 with 1 Axes>"
      ]
     },
     "metadata": {
      "needs_background": "light"
     },
     "output_type": "display_data"
    }
   ],
   "source": [
    "freq_words(reviews, 35)"
   ]
  },
  {
   "cell_type": "code",
   "execution_count": 22,
   "metadata": {},
   "outputs": [
    {
     "name": "stdout",
     "output_type": "stream",
     "text": [
      "Requirement already satisfied: en_core_web_sm==2.2.5 from https://github.com/explosion/spacy-models/releases/download/en_core_web_sm-2.2.5/en_core_web_sm-2.2.5.tar.gz#egg=en_core_web_sm==2.2.5 in /home/rmajumder/anaconda3/lib/python3.7/site-packages (2.2.5)\n",
      "Requirement already satisfied: spacy>=2.2.2 in /home/rmajumder/anaconda3/lib/python3.7/site-packages (from en_core_web_sm==2.2.5) (2.2.3)\n",
      "Requirement already satisfied: srsly<1.1.0,>=0.1.0 in /home/rmajumder/anaconda3/lib/python3.7/site-packages (from spacy>=2.2.2->en_core_web_sm==2.2.5) (1.0.1)\n",
      "Requirement already satisfied: thinc<7.4.0,>=7.3.0 in /home/rmajumder/anaconda3/lib/python3.7/site-packages (from spacy>=2.2.2->en_core_web_sm==2.2.5) (7.3.1)\n",
      "Requirement already satisfied: setuptools in /home/rmajumder/anaconda3/lib/python3.7/site-packages (from spacy>=2.2.2->en_core_web_sm==2.2.5) (41.4.0)\n",
      "Requirement already satisfied: plac<1.2.0,>=0.9.6 in /home/rmajumder/anaconda3/lib/python3.7/site-packages (from spacy>=2.2.2->en_core_web_sm==2.2.5) (1.1.3)\n",
      "Requirement already satisfied: numpy>=1.15.0 in /home/rmajumder/anaconda3/lib/python3.7/site-packages (from spacy>=2.2.2->en_core_web_sm==2.2.5) (1.17.2)\n",
      "Requirement already satisfied: catalogue<1.1.0,>=0.0.7 in /home/rmajumder/anaconda3/lib/python3.7/site-packages (from spacy>=2.2.2->en_core_web_sm==2.2.5) (1.0.0)\n",
      "Requirement already satisfied: preshed<3.1.0,>=3.0.2 in /home/rmajumder/anaconda3/lib/python3.7/site-packages (from spacy>=2.2.2->en_core_web_sm==2.2.5) (3.0.2)\n",
      "Requirement already satisfied: wasabi<1.1.0,>=0.4.0 in /home/rmajumder/anaconda3/lib/python3.7/site-packages (from spacy>=2.2.2->en_core_web_sm==2.2.5) (0.6.0)\n",
      "Requirement already satisfied: cymem<2.1.0,>=2.0.2 in /home/rmajumder/anaconda3/lib/python3.7/site-packages (from spacy>=2.2.2->en_core_web_sm==2.2.5) (2.0.3)\n",
      "Requirement already satisfied: murmurhash<1.1.0,>=0.28.0 in /home/rmajumder/anaconda3/lib/python3.7/site-packages (from spacy>=2.2.2->en_core_web_sm==2.2.5) (1.0.2)\n",
      "Requirement already satisfied: blis<0.5.0,>=0.4.0 in /home/rmajumder/anaconda3/lib/python3.7/site-packages (from spacy>=2.2.2->en_core_web_sm==2.2.5) (0.4.1)\n",
      "Requirement already satisfied: requests<3.0.0,>=2.13.0 in /home/rmajumder/anaconda3/lib/python3.7/site-packages (from spacy>=2.2.2->en_core_web_sm==2.2.5) (2.22.0)\n",
      "Requirement already satisfied: tqdm<5.0.0,>=4.10.0 in /home/rmajumder/anaconda3/lib/python3.7/site-packages (from thinc<7.4.0,>=7.3.0->spacy>=2.2.2->en_core_web_sm==2.2.5) (4.36.1)\n",
      "Requirement already satisfied: importlib-metadata>=0.20; python_version < \"3.8\" in /home/rmajumder/anaconda3/lib/python3.7/site-packages (from catalogue<1.1.0,>=0.0.7->spacy>=2.2.2->en_core_web_sm==2.2.5) (0.23)\n",
      "Requirement already satisfied: certifi>=2017.4.17 in /home/rmajumder/anaconda3/lib/python3.7/site-packages (from requests<3.0.0,>=2.13.0->spacy>=2.2.2->en_core_web_sm==2.2.5) (2019.9.11)\n",
      "Requirement already satisfied: chardet<3.1.0,>=3.0.2 in /home/rmajumder/anaconda3/lib/python3.7/site-packages (from requests<3.0.0,>=2.13.0->spacy>=2.2.2->en_core_web_sm==2.2.5) (3.0.4)\n",
      "Requirement already satisfied: urllib3!=1.25.0,!=1.25.1,<1.26,>=1.21.1 in /home/rmajumder/anaconda3/lib/python3.7/site-packages (from requests<3.0.0,>=2.13.0->spacy>=2.2.2->en_core_web_sm==2.2.5) (1.24.2)\n",
      "Requirement already satisfied: idna<2.9,>=2.5 in /home/rmajumder/anaconda3/lib/python3.7/site-packages (from requests<3.0.0,>=2.13.0->spacy>=2.2.2->en_core_web_sm==2.2.5) (2.8)\n",
      "Requirement already satisfied: zipp>=0.5 in /home/rmajumder/anaconda3/lib/python3.7/site-packages (from importlib-metadata>=0.20; python_version < \"3.8\"->catalogue<1.1.0,>=0.0.7->spacy>=2.2.2->en_core_web_sm==2.2.5) (0.6.0)\n",
      "Requirement already satisfied: more-itertools in /home/rmajumder/anaconda3/lib/python3.7/site-packages (from zipp>=0.5->importlib-metadata>=0.20; python_version < \"3.8\"->catalogue<1.1.0,>=0.0.7->spacy>=2.2.2->en_core_web_sm==2.2.5) (7.2.0)\n",
      "\u001b[33mWARNING: You are using pip version 19.3.1; however, version 20.0.2 is available.\n",
      "You should consider upgrading via the 'pip install --upgrade pip' command.\u001b[0m\n",
      "\u001b[38;5;2m✔ Download and installation successful\u001b[0m\n",
      "You can now load the model via spacy.load('en_core_web_sm')\n",
      "\u001b[38;5;2m✔ Linking successful\u001b[0m\n",
      "/home/rmajumder/anaconda3/lib/python3.7/site-packages/en_core_web_sm -->\n",
      "/home/rmajumder/anaconda3/lib/python3.7/site-packages/spacy/data/en\n",
      "You can now load the model via spacy.load('en')\n"
     ]
    }
   ],
   "source": [
    "!python -m spacy download en # one time run"
   ]
  },
  {
   "cell_type": "code",
   "execution_count": 23,
   "metadata": {},
   "outputs": [],
   "source": [
    "nlp = spacy.load('en', disable=['parser', 'ner'])\n",
    "\n",
    "def lemmatization(texts, tags=['NOUN', 'ADJ']): # filter noun and adjective\n",
    "    output = []\n",
    "    for sent in texts:\n",
    "        doc = nlp(\" \".join(sent)) \n",
    "        output.append([token.lemma_ for token in doc if token.pos_ in tags])\n",
    "    return output"
   ]
  },
  {
   "cell_type": "code",
   "execution_count": 24,
   "metadata": {},
   "outputs": [
    {
     "name": "stdout",
     "output_type": "stream",
     "text": [
      "['this', 'update', 'terrible', 'basically', 'unusable', 'please', 'change', 'back', 'asap']\n"
     ]
    }
   ],
   "source": [
    "tokenized_reviews = pd.Series(reviews).apply(lambda x: x.split())\n",
    "print(tokenized_reviews[1])"
   ]
  },
  {
   "cell_type": "code",
   "execution_count": 25,
   "metadata": {},
   "outputs": [
    {
     "name": "stdout",
     "output_type": "stream",
     "text": [
      "['update', 'terrible', 'unusable']\n"
     ]
    }
   ],
   "source": [
    "reviews_2 = lemmatization(tokenized_reviews)\n",
    "print(reviews_2[1]) # print lemmatized review"
   ]
  },
  {
   "cell_type": "code",
   "execution_count": 26,
   "metadata": {},
   "outputs": [
    {
     "data": {
      "image/png": "[encoded data removed]",
      "text/plain": [
       "<Figure size 1440x360 with 1 Axes>"
      ]
     },
     "metadata": {
      "needs_background": "light"
     },
     "output_type": "display_data"
    }
   ],
   "source": [
    "reviews_3 = []\n",
    "for i in range(len(reviews_2)):\n",
    "    reviews_3.append(' '.join(reviews_2[i]))\n",
    "\n",
    "df['reviews'] = reviews_3\n",
    "\n",
    "freq_words(df['reviews'], 35)"
   ]
  },
  {
   "cell_type": "code",
   "execution_count": null,
   "metadata": {},
   "outputs": [],
   "source": []
  },
  {
   "cell_type": "code",
   "execution_count": 27,
   "metadata": {},
   "outputs": [],
   "source": [
    "dictionary = corpora.Dictionary(reviews_2)"
   ]
  },
  {
   "cell_type": "code",
   "execution_count": 28,
   "metadata": {},
   "outputs": [],
   "source": [
    "doc_term_matrix = [dictionary.doc2bow(rev) for rev in reviews_2]"
   ]
  },
  {
   "cell_type": "code",
   "execution_count": 29,
   "metadata": {},
   "outputs": [],
   "source": [
    "# Creating the object for LDA model using gensim library\n",
    "LDA = gensim.models.ldamodel.LdaModel\n",
    "\n",
    "# Build LDA model\n",
    "lda_model = LDA(corpus=doc_term_matrix, id2word=dictionary, num_topics=7, random_state=100,\n",
    "                chunksize=1000, passes=50)"
   ]
  },
  {
   "cell_type": "code",
   "execution_count": 30,
   "metadata": {},
   "outputs": [
    {
     "data": {
      "text/plain": [
       "[(0,\n",
       "  '0.076*\"business\" + 0.033*\"app\" + 0.029*\"small\" + 0.028*\"quickbook\" + 0.028*\"user\" + 0.022*\"software\" + 0.019*\"great\" + 0.018*\"good\" + 0.016*\"year\" + 0.014*\"friendly\"'),\n",
       " (1,\n",
       "  '0.062*\"app\" + 0.062*\"time\" + 0.045*\"update\" + 0.035*\"invoice\" + 0.030*\"customer\" + 0.026*\"work\" + 0.019*\"email\" + 0.016*\"new\" + 0.015*\"use\" + 0.013*\"last\"'),\n",
       " (2,\n",
       "  '0.078*\"account\" + 0.045*\"bank\" + 0.042*\"payment\" + 0.039*\"transaction\" + 0.030*\"card\" + 0.028*\"password\" + 0.028*\"credit\" + 0.024*\"day\" + 0.014*\"deposit\" + 0.014*\"month\"'),\n",
       " (3,\n",
       "  '0.084*\"version\" + 0.052*\"online\" + 0.033*\"desktop\" + 0.029*\"good\" + 0.026*\"app\" + 0.024*\"quickbook\" + 0.020*\"year\" + 0.016*\"ipad\" + 0.013*\"feature\" + 0.012*\"product\"'),\n",
       " (4,\n",
       "  '0.081*\"app\" + 0.048*\"invoice\" + 0.033*\"expense\" + 0.029*\"mobile\" + 0.028*\"able\" + 0.018*\"receipt\" + 0.017*\"report\" + 0.017*\"ipad\" + 0.017*\"feature\" + 0.016*\"access\"'),\n",
       " (5,\n",
       "  '0.088*\"easy\" + 0.062*\"use\" + 0.052*\"business\" + 0.048*\"great\" + 0.047*\"love\" + 0.038*\"app\" + 0.027*\"book\" + 0.027*\"time\" + 0.026*\"quick\" + 0.025*\"invoice\"'),\n",
       " (6,\n",
       "  '0.046*\"service\" + 0.037*\"customer\" + 0.029*\"support\" + 0.026*\"app\" + 0.017*\"issue\" + 0.015*\"quickbook\" + 0.014*\"month\" + 0.014*\"datum\" + 0.014*\"hour\" + 0.013*\"company\"')]"
      ]
     },
     "execution_count": 30,
     "metadata": {},
     "output_type": "execute_result"
    }
   ],
   "source": [
    "lda_model.print_topics()"
   ]
  },
  {
   "cell_type": "code",
   "execution_count": 31,
   "metadata": {},
   "outputs": [
    {
     "name": "stderr",
     "output_type": "stream",
     "text": [
      "/home/rmajumder/anaconda3/lib/python3.7/site-packages/pyLDAvis/_prepare.py:257: FutureWarning: Sorting because non-concatenation axis is not aligned. A future version\n",
      "of pandas will change to not sort by default.\n",
      "\n",
      "To accept the future behavior, pass 'sort=False'.\n",
      "\n",
      "To retain the current behavior and silence the warning, pass 'sort=True'.\n",
      "\n",
      "  return pd.concat([default_term_info] + list(topic_dfs))\n"
     ]
    },
    {
     "data": {
      "text/html": [
       "\n",
       "<link rel=\"stylesheet\" type=\"text/css\" href=\"https://cdn.rawgit.com/bmabey/pyLDAvis/files/ldavis.v1.0.0.css\">\n",
       "\n",
       "\n",
       "<div id=\"ldavis_el17431406521384071206069333928\"></div>\n",
       "<script type=\"text/javascript\">\n",
       "\n",
       "var ldavis_el17431406521384071206069333928_data = {\"mdsDat\": {\"x\": [-0.020079956011094673, -0.09344048585973906, -0.003366768044268487, -0.16116488626792685, 0.07069119988088024, -0.13979190415272363, 0.34715280045487235], \"y\": [-0.1943302088280396, 0.08088701372264676, -0.2117263486037076, -0.005992908461116292, 0.0025615570728746108, 0.23057751638681287, 0.09802337871052892], \"topics\": [1, 2, 3, 4, 5, 6, 7], \"cluster\": [1, 1, 1, 1, 1, 1, 1], \"Freq\": [16.861312866210938, 16.758779525756836, 15.573787689208984, 15.082616806030273, 14.890398025512695, 12.617389678955078, 8.215715408325195]}, \"tinfo\": {\"Category\": [\"Default\", \"Default\", \"Default\", \"Default\", \"Default\", \"Default\", \"Default\", \"Default\", \"Default\", \"Default\", \"Default\", \"Default\", \"Default\", \"Default\", \"Default\", \"Default\", \"Default\", \"Default\", \"Default\", \"Default\", \"Default\", \"Default\", \"Default\", \"Default\", \"Default\", \"Default\", \"Default\", \"Default\", \"Default\", \"Default\", \"Topic1\", \"Topic1\", \"Topic1\", \"Topic1\", \"Topic1\", \"Topic1\", \"Topic1\", \"Topic1\", \"Topic1\", \"Topic1\", \"Topic1\", \"Topic1\", \"Topic1\", \"Topic1\", \"Topic1\", \"Topic1\", \"Topic1\", \"Topic1\", \"Topic1\", \"Topic1\", \"Topic1\", \"Topic1\", \"Topic1\", \"Topic1\", \"Topic1\", \"Topic1\", \"Topic1\", \"Topic1\", \"Topic1\", \"Topic1\", \"Topic1\", \"Topic1\", \"Topic1\", \"Topic1\", \"Topic1\", \"Topic1\", \"Topic1\", \"Topic1\", \"Topic1\", \"Topic1\", \"Topic1\", \"Topic1\", \"Topic1\", \"Topic1\", \"Topic1\", \"Topic1\", \"Topic1\", \"Topic1\", \"Topic1\", \"Topic1\", \"Topic1\", \"Topic1\", \"Topic1\", \"Topic1\", \"Topic1\", \"Topic1\", \"Topic1\", \"Topic1\", \"Topic2\", \"Topic2\", \"Topic2\", \"Topic2\", \"Topic2\", \"Topic2\", \"Topic2\", \"Topic2\", \"Topic2\", \"Topic2\", \"Topic2\", \"Topic2\", \"Topic2\", \"Topic2\", \"Topic2\", \"Topic2\", \"Topic2\", \"Topic2\", \"Topic2\", \"Topic2\", \"Topic2\", \"Topic2\", \"Topic2\", \"Topic2\", \"Topic2\", \"Topic2\", \"Topic2\", \"Topic2\", \"Topic2\", \"Topic2\", \"Topic2\", \"Topic2\", \"Topic2\", \"Topic2\", \"Topic2\", \"Topic2\", \"Topic2\", \"Topic2\", \"Topic2\", \"Topic2\", \"Topic2\", \"Topic2\", \"Topic2\", \"Topic2\", \"Topic2\", \"Topic2\", \"Topic2\", \"Topic2\", \"Topic2\", \"Topic2\", \"Topic2\", \"Topic2\", \"Topic2\", \"Topic2\", \"Topic2\", \"Topic2\", \"Topic2\", \"Topic2\", \"Topic2\", \"Topic2\", \"Topic2\", \"Topic2\", \"Topic2\", \"Topic3\", \"Topic3\", \"Topic3\", \"Topic3\", \"Topic3\", \"Topic3\", \"Topic3\", \"Topic3\", \"Topic3\", \"Topic3\", \"Topic3\", \"Topic3\", \"Topic3\", \"Topic3\", \"Topic3\", \"Topic3\", \"Topic3\", \"Topic3\", \"Topic3\", \"Topic3\", \"Topic3\", \"Topic3\", \"Topic3\", \"Topic3\", \"Topic3\", \"Topic3\", \"Topic3\", \"Topic3\", \"Topic3\", \"Topic3\", \"Topic3\", \"Topic3\", \"Topic3\", \"Topic3\", \"Topic3\", \"Topic3\", \"Topic3\", \"Topic3\", \"Topic3\", \"Topic3\", \"Topic3\", \"Topic3\", \"Topic3\", \"Topic3\", \"Topic3\", \"Topic3\", \"Topic3\", \"Topic3\", \"Topic3\", \"Topic3\", \"Topic3\", \"Topic3\", \"Topic3\", \"Topic3\", \"Topic3\", \"Topic3\", \"Topic3\", \"Topic3\", \"Topic3\", \"Topic4\", \"Topic4\", \"Topic4\", \"Topic4\", \"Topic4\", \"Topic4\", \"Topic4\", \"Topic4\", \"Topic4\", \"Topic4\", \"Topic4\", \"Topic4\", \"Topic4\", \"Topic4\", \"Topic4\", \"Topic4\", \"Topic4\", \"Topic4\", \"Topic4\", \"Topic4\", \"Topic4\", \"Topic4\", \"Topic4\", \"Topic4\", \"Topic4\", \"Topic4\", \"Topic4\", \"Topic4\", \"Topic4\", \"Topic4\", \"Topic4\", \"Topic4\", \"Topic4\", \"Topic4\", \"Topic4\", \"Topic4\", \"Topic4\", \"Topic4\", \"Topic4\", \"Topic4\", \"Topic4\", \"Topic4\", \"Topic4\", \"Topic4\", \"Topic4\", \"Topic4\", \"Topic4\", \"Topic4\", \"Topic4\", \"Topic4\", \"Topic4\", \"Topic4\", \"Topic4\", \"Topic4\", \"Topic4\", \"Topic4\", \"Topic4\", \"Topic4\", \"Topic4\", \"Topic4\", \"Topic4\", \"Topic4\", \"Topic5\", \"Topic5\", \"Topic5\", \"Topic5\", \"Topic5\", \"Topic5\", \"Topic5\", \"Topic5\", \"Topic5\", \"Topic5\", \"Topic5\", \"Topic5\", \"Topic5\", \"Topic5\", \"Topic5\", \"Topic5\", \"Topic5\", \"Topic5\", \"Topic5\", \"Topic5\", \"Topic5\", \"Topic5\", \"Topic5\", \"Topic5\", \"Topic5\", \"Topic5\", \"Topic5\", \"Topic5\", \"Topic5\", \"Topic5\", \"Topic5\", \"Topic5\", \"Topic5\", \"Topic5\", \"Topic5\", \"Topic5\", \"Topic5\", \"Topic5\", \"Topic5\", \"Topic5\", \"Topic5\", \"Topic5\", \"Topic5\", \"Topic5\", \"Topic5\", \"Topic5\", \"Topic5\", \"Topic5\", \"Topic5\", \"Topic5\", \"Topic5\", \"Topic5\", \"Topic5\", \"Topic5\", \"Topic5\", \"Topic5\", \"Topic5\", \"Topic5\", \"Topic5\", \"Topic5\", \"Topic5\", \"Topic6\", \"Topic6\", \"Topic6\", \"Topic6\", \"Topic6\", \"Topic6\", \"Topic6\", \"Topic6\", \"Topic6\", \"Topic6\", \"Topic6\", \"Topic6\", \"Topic6\", \"Topic6\", \"Topic6\", \"Topic6\", \"Topic6\", \"Topic6\", \"Topic6\", \"Topic6\", \"Topic6\", \"Topic6\", \"Topic6\", \"Topic6\", \"Topic6\", \"Topic6\", \"Topic6\", \"Topic6\", \"Topic6\", \"Topic6\", \"Topic6\", \"Topic6\", \"Topic6\", \"Topic6\", \"Topic6\", \"Topic6\", \"Topic6\", \"Topic6\", \"Topic6\", \"Topic6\", \"Topic6\", \"Topic6\", \"Topic6\", \"Topic6\", \"Topic6\", \"Topic6\", \"Topic6\", \"Topic6\", \"Topic6\", \"Topic6\", \"Topic6\", \"Topic6\", \"Topic6\", \"Topic6\", \"Topic6\", \"Topic6\", \"Topic6\", \"Topic6\", \"Topic6\", \"Topic7\", \"Topic7\", \"Topic7\", \"Topic7\", \"Topic7\", \"Topic7\", \"Topic7\", \"Topic7\", \"Topic7\", \"Topic7\", \"Topic7\", \"Topic7\", \"Topic7\", \"Topic7\", \"Topic7\", \"Topic7\", \"Topic7\", \"Topic7\", \"Topic7\", \"Topic7\", \"Topic7\", \"Topic7\", \"Topic7\", \"Topic7\", \"Topic7\", \"Topic7\", \"Topic7\", \"Topic7\", \"Topic7\", \"Topic7\", \"Topic7\", \"Topic7\", \"Topic7\", \"Topic7\", \"Topic7\", \"Topic7\", \"Topic7\", \"Topic7\", \"Topic7\", \"Topic7\", \"Topic7\", \"Topic7\", \"Topic7\", \"Topic7\", \"Topic7\", \"Topic7\", \"Topic7\", \"Topic7\", \"Topic7\", \"Topic7\"], \"Freq\": [1149.0, 1082.0, 1476.0, 675.0, 1008.0, 582.0, 1417.0, 575.0, 560.0, 1426.0, 946.0, 1042.0, 1042.0, 459.0, 305.0, 493.0, 477.0, 390.0, 353.0, 492.0, 324.0, 367.0, 401.0, 3396.0, 547.0, 758.0, 203.0, 192.0, 204.0, 579.0, 458.57403564453125, 208.08775329589844, 118.52886962890625, 114.72390747070312, 109.15104675292969, 81.69499969482422, 73.19239044189453, 68.95084381103516, 67.48773193359375, 54.87128448486328, 53.870635986328125, 53.24501037597656, 50.716941833496094, 40.1063346862793, 39.93367004394531, 28.92411231994629, 25.95489501953125, 25.70307731628418, 25.353967666625977, 22.14678955078125, 21.904081344604492, 19.457977294921875, 19.082172393798828, 176.29710388183594, 18.627721786499023, 17.43601417541504, 16.50868034362793, 15.6883544921875, 15.622114181518555, 15.57069206237793, 240.24343872070312, 183.50982666015625, 242.2763671875, 105.60346984863281, 404.08868408203125, 135.69232177734375, 191.49049377441406, 102.61702728271484, 380.50518798828125, 50.31186294555664, 59.05495834350586, 134.82667541503906, 661.8771362304688, 188.6846466064453, 218.83021545410156, 1124.946044921875, 230.7633819580078, 145.30152893066406, 238.85964965820312, 106.13453674316406, 85.09874725341797, 94.71101379394531, 214.99896240234375, 129.71224975585938, 169.7277374267578, 135.89016723632812, 130.32945251464844, 107.7560806274414, 1148.204345703125, 113.12740325927734, 87.11992645263672, 52.71217346191406, 48.28907012939453, 48.05646514892578, 47.29830551147461, 45.70520782470703, 39.07854461669922, 30.836286544799805, 28.81704330444336, 27.937335968017578, 27.638843536376953, 25.831151962280273, 24.293638229370117, 23.937030792236328, 23.066326141357422, 23.033884048461914, 22.462961196899414, 22.1815242767334, 21.052217483520508, 20.659887313842773, 20.461549758911133, 20.472122192382812, 20.35378646850586, 20.152297973632812, 19.983905792236328, 18.6099796295166, 18.396024703979492, 18.31511688232422, 449.4903564453125, 102.62824249267578, 715.8399658203125, 50.14900588989258, 113.7686538696289, 25.89377784729004, 36.30595397949219, 402.2307434082031, 142.49227905273438, 276.9033203125, 99.11359405517578, 52.07095718383789, 169.89498901367188, 216.7630157470703, 327.4983825683594, 143.13206481933594, 124.94599151611328, 183.3282928466797, 144.19541931152344, 104.41842651367188, 46.69249725341797, 166.5525665283203, 142.2026824951172, 124.71033477783203, 100.25505065917969, 143.27415466308594, 360.0647277832031, 130.3783721923828, 116.67585754394531, 145.08502197265625, 169.26893615722656, 87.75529479980469, 94.40141296386719, 574.5527954101562, 160.99444580078125, 154.86013793945312, 136.42831420898438, 127.83592224121094, 126.6070327758789, 92.23271942138672, 83.21733093261719, 75.63858032226562, 75.22261047363281, 66.83277130126953, 64.12104797363281, 59.163814544677734, 43.060569763183594, 41.125396728515625, 38.5711555480957, 32.675331115722656, 30.38409423828125, 29.11103630065918, 28.003847122192383, 27.392658233642578, 27.206817626953125, 25.75865936279297, 23.37909507751465, 23.386198043823242, 23.141094207763672, 22.952655792236328, 22.2216739654541, 21.815650939941406, 21.71345329284668, 75.46728515625, 100.70159149169922, 142.0357208251953, 55.822322845458984, 236.08102416992188, 91.8015365600586, 142.0338134765625, 105.81637573242188, 785.1141967773438, 58.7750244140625, 88.62484741210938, 141.33206176757812, 75.83847045898438, 73.36373901367188, 329.5472717285156, 207.973876953125, 376.7780456542969, 441.9679870605469, 786.169189453125, 159.88082885742188, 154.18077087402344, 193.06488037109375, 119.3891830444336, 98.81916046142578, 104.64286041259766, 94.92021942138672, 97.1993408203125, 94.12606048583984, 89.20926666259766, 1081.7305908203125, 581.6445922851562, 323.5946960449219, 170.50962829589844, 104.09793853759766, 87.61898803710938, 36.59065246582031, 35.43887710571289, 34.47319412231445, 33.002601623535156, 26.775733947753906, 26.442502975463867, 26.18173599243164, 25.166231155395508, 23.969768524169922, 22.919696807861328, 21.36910057067871, 19.571611404418945, 16.843339920043945, 16.38019561767578, 16.022520065307617, 15.553268432617188, 15.62128734588623, 15.348633766174316, 13.120726585388184, 12.80722713470459, 12.570206642150879, 12.458259582519531, 12.251249313354492, 12.0631103515625, 335.5241394042969, 46.29075241088867, 769.49267578125, 129.56185913085938, 598.8956909179688, 38.00761032104492, 64.4921875, 93.23638916015625, 644.0213012695312, 162.33851623535156, 76.44599151611328, 32.845760345458984, 193.52496337890625, 73.97022247314453, 71.00829315185547, 171.31854248046875, 333.8393249511719, 108.37738800048828, 313.35003662109375, 48.254615783691406, 472.4347229003906, 104.08729553222656, 161.69857788085938, 77.5987319946289, 126.08609771728516, 106.26182556152344, 141.23715209960938, 77.03406524658203, 95.33551788330078, 82.3140640258789, 80.76848602294922, 78.42826843261719, 559.2853393554688, 353.1579284667969, 101.8499526977539, 69.08478546142578, 61.04458999633789, 54.62922286987305, 51.4572868347168, 50.4367561340332, 46.38935470581055, 39.9315185546875, 38.15773010253906, 38.120750427246094, 37.916595458984375, 35.24092102050781, 32.06423568725586, 30.577871322631836, 29.29893684387207, 28.468496322631836, 26.701169967651367, 26.414764404296875, 26.14011573791504, 25.510984420776367, 25.104429244995117, 25.06108856201172, 24.803539276123047, 21.005054473876953, 20.774276733398438, 20.3625431060791, 19.94857406616211, 19.18015480041504, 150.0714569091797, 165.1689910888672, 66.0736083984375, 128.2520294189453, 47.05009078979492, 169.66893005371094, 65.94058227539062, 80.497802734375, 103.2828140258789, 73.8228759765625, 450.09344482421875, 202.424560546875, 51.39303207397461, 175.3291473388672, 95.6888427734375, 153.54058837890625, 91.80049133300781, 114.1781005859375, 88.05300903320312, 114.83488464355469, 312.2856750488281, 177.41807556152344, 108.275634765625, 131.9856414794922, 112.74010467529297, 144.327392578125, 112.81735229492188, 116.82139587402344, 137.4840850830078, 92.28271484375, 74.58984375, 131.73133850097656, 95.54695892333984, 72.7672348022461, 52.19559097290039, 50.1556510925293, 48.88246154785156, 45.57999801635742, 38.3697509765625, 35.71950149536133, 34.587623596191406, 32.02314758300781, 31.49283790588379, 30.208585739135742, 26.89889907836914, 25.065441131591797, 23.777027130126953, 23.751556396484375, 22.124095916748047, 21.786672592163086, 21.759830474853516, 21.698955535888672, 20.862117767333984, 20.506044387817383, 20.015121459960938, 19.07086181640625, 18.526317596435547, 17.94609260559082, 17.637447357177734, 17.55516815185547, 17.25623321533203, 145.99537658691406, 51.817718505859375, 111.4601058959961, 284.4482727050781, 111.41288757324219, 787.1395263671875, 85.91309356689453, 298.1024475097656, 142.30909729003906, 228.95620727539062, 40.61585235595703, 52.86716079711914, 79.38642883300781, 78.20496368408203, 67.7430419921875, 64.9730224609375, 284.4522399902344, 139.68995666503906, 166.1708984375, 189.3571319580078, 197.24183654785156, 340.2159118652344, 108.17585754394531, 92.55445098876953, 77.01068878173828, 70.01762390136719, 65.30320739746094, 58.22196578979492, 55.27107620239258, 304.6922302246094, 202.64324951171875, 191.6816864013672, 94.70877838134766, 90.86930084228516, 73.35200500488281, 66.62464904785156, 51.54209899902344, 40.75876235961914, 37.59620666503906, 37.37418746948242, 34.28955078125, 33.504913330078125, 27.171457290649414, 23.780933380126953, 22.223087310791016, 21.775827407836914, 21.31687355041504, 20.445079803466797, 20.32350730895996, 19.521743774414062, 17.930295944213867, 16.29500389099121, 16.24118995666504, 15.907605171203613, 14.956775665283203, 14.772377967834473, 13.79515552520752, 13.46028995513916, 13.272927284240723, 188.7618865966797, 525.8750610351562, 259.7065734863281, 281.86151123046875, 42.61685562133789, 36.385162353515625, 158.6053466796875, 68.40376281738281, 61.92021179199219, 44.30261993408203, 91.99372100830078, 82.04176330566406, 56.406002044677734, 50.90538787841797, 33.32341766357422, 69.900390625, 86.75296020507812, 49.07517623901367, 42.963600158691406, 34.43476486206055], \"Term\": [\"version\", \"easy\", \"business\", \"account\", \"use\", \"love\", \"invoice\", \"update\", \"service\", \"time\", \"online\", \"customer\", \"great\", \"expense\", \"bank\", \"payment\", \"desktop\", \"transaction\", \"support\", \"small\", \"quick\", \"book\", \"user\", \"app\", \"mobile\", \"good\", \"card\", \"password\", \"credit\", \"able\", \"expense\", \"sale\", \"vendor\", \"purchase\", \"laptop\", \"photo\", \"create\", \"banking\", \"input\", \"note\", \"handy\", \"supplier\", \"type\", \"save\", \"chart\", \"attachment\", \"custom\", \"flexibility\", \"select\", \"piece\", \"industry\", \"status\", \"default\", \"bill\", \"customization\", \"busy\", \"scan\", \"disappointment\", \"graphic\", \"post\", \"report\", \"ability\", \"receipt\", \"order\", \"mobile\", \"useful\", \"functionality\", \"site\", \"able\", \"inventory\", \"statement\", \"function\", \"invoice\", \"option\", \"access\", \"app\", \"feature\", \"computer\", \"ipad\", \"available\", \"tax\", \"check\", \"customer\", \"transaction\", \"great\", \"thing\", \"payment\", \"client\", \"version\", \"perfect\", \"old\", \"integration\", \"fast\", \"functional\", \"switch\", \"spot\", \"lack\", \"control\", \"past\", \"short\", \"term\", \"manage\", \"smart\", \"sub\", \"space\", \"accurate\", \"firm\", \"billable\", \"gopayment\", \"opinion\", \"knowledge\", \"outstanding\", \"stupid\", \"request\", \"mobility\", \"cpa\", \"permission\", \"enter\", \"desktop\", \"line\", \"online\", \"total\", \"thank\", \"rating\", \"window\", \"good\", \"well\", \"year\", \"item\", \"team\", \"product\", \"ipad\", \"quickbook\", \"many\", \"accounting\", \"feature\", \"intuit\", \"star\", \"task\", \"thing\", \"new\", \"way\", \"job\", \"company\", \"app\", \"software\", \"user\", \"work\", \"time\", \"simple\", \"mobile\", \"update\", \"last\", \"error\", \"crash\", \"late\", \"sign\", \"search\", \"waste\", \"intuitive\", \"slow\", \"button\", \"load\", \"annoying\", \"security\", \"code\", \"critical\", \"box\", \"matter\", \"pin\", \"finger\", \"click\", \"decent\", \"fingerprint\", \"luck\", \"doesn\", \"pathetic\", \"beta\", \"aspect\", \"ticket\", \"thought\", \"signature\", \"touch\", \"open\", \"recent\", \"email\", \"message\", \"bug\", \"screen\", \"time\", \"difficult\", \"log\", \"fix\", \"name\", \"address\", \"work\", \"new\", \"customer\", \"invoice\", \"app\", \"problem\", \"issue\", \"use\", \"phone\", \"estimate\", \"ipad\", \"many\", \"thing\", \"company\", \"lot\", \"easy\", \"love\", \"quick\", \"life\", \"convenient\", \"wish\", \"paperwork\", \"capture\", \"everyday\", \"navigate\", \"powerful\", \"breeze\", \"incredible\", \"moment\", \"usable\", \"front\", \"understand\", \"seamless\", \"spending\", \"unpaid\", \"revenue\", \"mint\", \"complex\", \"productive\", \"secure\", \"delivery\", \"only\", \"cell\", \"myob\", \"effective\", \"book\", \"professional\", \"use\", \"track\", \"great\", \"desk\", \"bit\", \"office\", \"business\", \"simple\", \"tool\", \"management\", \"small\", \"accountant\", \"helpful\", \"phone\", \"time\", \"job\", \"invoice\", \"road\", \"app\", \"estimate\", \"work\", \"much\", \"thing\", \"client\", \"good\", \"money\", \"able\", \"lot\", \"payment\", \"way\", \"service\", \"support\", \"trial\", \"ease\", \"poor\", \"horrible\", \"wonderful\", \"finance\", \"server\", \"accessible\", \"constant\", \"joke\", \"unusable\", \"saver\", \"awful\", \"course\", \"cool\", \"glad\", \"frustration\", \"stable\", \"morning\", \"working\", \"alternative\", \"feedback\", \"limitation\", \"game\", \"notice\", \"freeze\", \"benefit\", \"pricing\", \"subscription\", \"hour\", \"unable\", \"help\", \"second\", \"datum\", \"tech\", \"free\", \"week\", \"end\", \"customer\", \"issue\", \"login\", \"month\", \"money\", \"company\", \"information\", \"problem\", \"bad\", \"day\", \"app\", \"quickbook\", \"intuit\", \"account\", \"software\", \"online\", \"phone\", \"year\", \"time\", \"access\", \"different\", \"application\", \"amazing\", \"awesome\", \"efficient\", \"disappointed\", \"multi\", \"recommend\", \"location\", \"regular\", \"sage\", \"image\", \"world\", \"reporting\", \"various\", \"basis\", \"impressed\", \"man\", \"tap\", \"labor\", \"leave\", \"power\", \"useable\", \"used\", \"description\", \"present\", \"plan\", \"keeping\", \"material\", \"crap\", \"boy\", \"friendly\", \"fantastic\", \"interface\", \"user\", \"invoicing\", \"business\", \"excellent\", \"small\", \"web\", \"software\", \"entire\", \"cloud\", \"happy\", \"owner\", \"run\", \"part\", \"quickbook\", \"program\", \"year\", \"good\", \"great\", \"app\", \"company\", \"product\", \"accounting\", \"many\", \"day\", \"feature\", \"system\", \"bank\", \"card\", \"password\", \"deposit\", \"website\", \"edit\", \"apple\", \"transfer\", \"bookkeeper\", \"match\", \"brilliant\", \"paypal\", \"fund\", \"reconcile\", \"cancel\", \"character\", \"know\", \"manager\", \"refund\", \"compatible\", \"processing\", \"progress\", \"touchid\", \"reference\", \"add\", \"practice\", \"curve\", \"hold\", \"generation\", \"immediate\", \"credit\", \"account\", \"transaction\", \"payment\", \"cash\", \"activity\", \"day\", \"entry\", \"nice\", \"record\", \"month\", \"option\", \"check\", \"pay\", \"register\", \"client\", \"quickbook\", \"new\", \"able\", \"phone\"], \"Total\": [1149.0, 1082.0, 1476.0, 675.0, 1008.0, 582.0, 1417.0, 575.0, 560.0, 1426.0, 946.0, 1042.0, 1042.0, 459.0, 305.0, 493.0, 477.0, 390.0, 353.0, 492.0, 324.0, 367.0, 401.0, 3396.0, 547.0, 758.0, 203.0, 192.0, 204.0, 579.0, 459.407958984375, 208.9216766357422, 119.36199188232422, 115.55719757080078, 109.9852523803711, 82.52755737304688, 74.02569580078125, 69.7840805053711, 68.32136535644531, 55.70447540283203, 54.703956604003906, 54.07783508300781, 51.551761627197266, 40.94098663330078, 40.76726531982422, 29.75746726989746, 26.788331985473633, 26.536968231201172, 26.187822341918945, 22.981225967407227, 22.740036010742188, 20.291337966918945, 19.915658950805664, 184.02064514160156, 19.463056564331055, 18.269987106323242, 17.341598510742188, 16.5244197845459, 16.45749282836914, 16.403940200805664, 255.3816680908203, 209.11404418945312, 291.6742858886719, 126.68365478515625, 547.3617553710938, 175.802978515625, 263.8510437011719, 130.9302520751953, 579.8660278320312, 58.8257942199707, 71.35498046875, 191.27853393554688, 1417.754150390625, 305.6206970214844, 370.9824523925781, 3396.260498046875, 472.8807373046875, 256.4255676269531, 560.8228149414062, 171.32398986816406, 121.55226135253906, 151.80662536621094, 1042.41357421875, 390.10858154296875, 1042.3763427734375, 526.1550903320312, 493.5191345214844, 372.42010498046875, 1149.034912109375, 113.95848846435547, 87.95091247558594, 53.54523849487305, 49.12041091918945, 48.887142181396484, 48.128849029541016, 46.53861999511719, 39.90958023071289, 31.667156219482422, 29.648365020751953, 28.77030372619629, 28.46975326538086, 26.66291618347168, 25.125886917114258, 24.767444610595703, 23.897388458251953, 23.864765167236328, 23.294416427612305, 23.013051986694336, 21.8829345703125, 21.490480422973633, 21.292543411254883, 21.30360984802246, 21.185270309448242, 20.983522415161133, 20.815099716186523, 19.44210433959961, 19.226364135742188, 19.1481990814209, 477.5084533691406, 117.66494750976562, 946.6776123046875, 57.088165283203125, 151.9265899658203, 27.92024803161621, 41.248172760009766, 758.263916015625, 234.6940460205078, 591.9026489257812, 177.13914489746094, 73.36589050292969, 372.7835693359375, 560.8228149414062, 1034.9620361328125, 318.67291259765625, 265.174560546875, 472.8807373046875, 360.7757873535156, 227.7453155517578, 64.99073791503906, 526.1550903320312, 419.1715087890625, 340.3374328613281, 255.81138610839844, 524.5491333007812, 3396.260498046875, 472.6231384277344, 401.8194580078125, 764.332763671875, 1426.115478515625, 283.50567626953125, 547.3617553710938, 575.3687133789062, 161.8103790283203, 155.67576599121094, 137.24337768554688, 128.65199279785156, 127.42357635498047, 93.04850769042969, 84.03316497802734, 76.456298828125, 76.03883361816406, 67.64888763427734, 64.93637084960938, 59.98007583618164, 43.87922668457031, 41.94125747680664, 39.386688232421875, 33.49271011352539, 31.200082778930664, 29.925912857055664, 28.81964111328125, 28.208255767822266, 28.02434730529785, 26.575578689575195, 24.195331573486328, 24.203773498535156, 23.958057403564453, 23.77140998840332, 23.04225730895996, 22.631420135498047, 22.531328201293945, 81.70234680175781, 111.93582153320312, 162.02261352539062, 60.691307067871094, 284.3096008300781, 105.5029067993164, 169.8357391357422, 125.18550109863281, 1426.115478515625, 69.21713256835938, 116.2430648803711, 210.98806762695312, 97.7561264038086, 96.58634185791016, 764.332763671875, 419.1715087890625, 1042.41357421875, 1417.754150390625, 3396.260498046875, 321.03173828125, 390.19451904296875, 1008.6502685546875, 508.6357116699219, 278.710205078125, 560.8228149414062, 318.67291259765625, 526.1550903320312, 524.5491333007812, 297.3550109863281, 1082.5615234375, 582.4760131835938, 324.4262390136719, 171.34144592285156, 104.92918395996094, 88.45085144042969, 37.42145538330078, 36.2730712890625, 35.305240631103516, 33.83493423461914, 27.60687255859375, 27.2736873626709, 27.015846252441406, 26.000347137451172, 24.80305290222168, 23.752777099609375, 22.19961929321289, 20.402587890625, 17.680076599121094, 17.21396827697754, 16.85466766357422, 16.392175674438477, 16.46491813659668, 16.180410385131836, 13.959798812866211, 13.646475791931152, 13.40291976928711, 13.290290832519531, 13.082581520080566, 12.89434814453125, 367.6532897949219, 51.222251892089844, 1008.6502685546875, 157.3038787841797, 1042.3763427734375, 46.3409538269043, 86.46686553955078, 141.36268615722656, 1476.5772705078125, 283.50567626953125, 123.07887268066406, 42.993492126464844, 492.3231506347656, 131.65087890625, 127.66314697265625, 508.6357116699219, 1426.115478515625, 255.81138610839844, 1417.754150390625, 73.74961853027344, 3396.260498046875, 278.710205078125, 764.332763671875, 184.36192321777344, 526.1550903320312, 372.42010498046875, 758.263916015625, 210.34671020507812, 579.8660278320312, 297.3550109863281, 493.5191345214844, 340.3374328613281, 560.1012573242188, 353.97344970703125, 102.66509246826172, 69.90194702148438, 61.86064529418945, 55.44465255737305, 52.27460479736328, 51.25310134887695, 47.20612335205078, 40.748172760009766, 38.97370147705078, 38.93629837036133, 38.732452392578125, 36.05720520019531, 32.88028335571289, 31.39267349243164, 30.116764068603516, 29.284420013427734, 27.517139434814453, 27.230690002441406, 26.956159591674805, 26.326845169067383, 25.919574737548828, 25.876052856445312, 25.619749069213867, 21.820709228515625, 21.58955192565918, 21.17940902709961, 20.764625549316406, 19.995969772338867, 158.52890014648438, 197.70376586914062, 78.57688903808594, 167.0430908203125, 54.792537689208984, 257.0774841308594, 82.56294250488281, 108.30219268798828, 151.02825927734375, 101.0233154296875, 1042.41357421875, 390.19451904296875, 65.5911865234375, 376.03875732421875, 210.34671020507812, 524.5491333007812, 209.98606872558594, 321.03173828125, 201.07144165039062, 384.21337890625, 3396.260498046875, 1034.9620361328125, 360.7757873535156, 675.9047241210938, 472.6231384277344, 946.6776123046875, 508.6357116699219, 591.9026489257812, 1426.115478515625, 370.9824523925781, 160.36085510253906, 132.5569305419922, 96.37239074707031, 73.593017578125, 53.02253723144531, 50.98311996459961, 49.70735168457031, 46.405582427978516, 39.19542694091797, 36.54655838012695, 35.41350173950195, 32.849308013916016, 32.31819152832031, 31.03566551208496, 27.726884841918945, 25.891706466674805, 24.603221893310547, 24.578033447265625, 22.949913024902344, 22.612871170043945, 22.586305618286133, 22.525774002075195, 21.687591552734375, 21.33226203918457, 20.844661712646484, 19.89731788635254, 19.352157592773438, 18.771089553833008, 18.463987350463867, 18.382421493530273, 18.082780838012695, 168.69168090820312, 57.91305923461914, 137.42906188964844, 401.8194580078125, 142.73822021484375, 1476.5772705078125, 113.55062103271484, 492.3231506347656, 206.3905487060547, 472.6231384277344, 51.48668670654297, 75.7547378540039, 133.36123657226562, 133.24411010742188, 108.56422424316406, 103.49103546142578, 1034.9620361328125, 368.20977783203125, 591.9026489257812, 758.263916015625, 1042.3763427734375, 3396.260498046875, 524.5491333007812, 372.7835693359375, 265.174560546875, 318.67291259765625, 384.21337890625, 472.8807373046875, 204.79620361328125, 305.50958251953125, 203.46022033691406, 192.49884033203125, 95.52587127685547, 91.68737030029297, 74.17100524902344, 67.44203186035156, 52.359249114990234, 41.57722091674805, 38.4139404296875, 38.19120788574219, 35.10636901855469, 34.321292877197266, 27.989423751831055, 24.59827423095703, 23.041364669799805, 22.597694396972656, 22.13451385498047, 21.26236343383789, 21.14259910583496, 20.33857536315918, 18.75189971923828, 17.112180709838867, 17.060184478759766, 16.726518630981445, 15.775343894958496, 15.590380668640137, 14.612648010253906, 14.279131889343262, 14.091206550598145, 204.82423400878906, 675.9047241210938, 390.10858154296875, 493.5191345214844, 55.10447311401367, 50.71387481689453, 384.21337890625, 141.73147583007812, 130.93797302246094, 90.12751770019531, 376.03875732421875, 305.6206970214844, 151.80662536621094, 138.732421875, 58.45143127441406, 372.42010498046875, 1034.9620361328125, 419.1715087890625, 579.8660278320312, 508.6357116699219], \"loglift\": [30.0, 29.0, 28.0, 27.0, 26.0, 25.0, 24.0, 23.0, 22.0, 21.0, 20.0, 19.0, 18.0, 17.0, 16.0, 15.0, 14.0, 13.0, 12.0, 11.0, 10.0, 9.0, 8.0, 7.0, 6.0, 5.0, 4.0, 3.0, 2.0, 1.0, 1.7783000469207764, 1.7761000394821167, 1.7731000185012817, 1.7728999853134155, 1.7725000381469727, 1.7699999809265137, 1.7688000202178955, 1.7681000232696533, 1.767899990081787, 1.7651000022888184, 1.764799952507019, 1.7646000385284424, 1.763800024986267, 1.759600043296814, 1.7595000267028809, 1.7517000436782837, 1.7484999895095825, 1.7482000589370728, 1.7477999925613403, 1.7431999444961548, 1.7426999807357788, 1.7381999492645264, 1.7374000549316406, 1.7373000383377075, 1.736299991607666, 1.7333999872207642, 1.7309000492095947, 1.7281999588012695, 1.7280999422073364, 1.7280000448226929, 1.718999981880188, 1.6495000123977661, 1.594599962234497, 1.598099946975708, 1.476699948310852, 1.5211999416351318, 1.4595999717712402, 1.5364999771118164, 1.3588999509811401, 1.6238000392913818, 1.59089994430542, 1.430400013923645, 1.018399953842163, 1.2978999614715576, 1.2523000240325928, 0.6751999855041504, 1.0627000331878662, 1.2121000289916992, 0.9265999794006348, 1.301300048828125, 1.4235999584197998, 1.30840003490448, 0.20149999856948853, 0.6790000200271606, -0.0348999984562397, 0.42640000581741333, 0.4487000107765198, 0.5400000214576721, 1.7855000495910645, 1.7789000272750854, 1.7768000364303589, 1.7705999612808228, 1.7691999673843384, 1.7690999507904053, 1.7688000202178955, 1.7682000398635864, 1.7652000188827515, 1.7596999406814575, 1.7577999830245972, 1.7568999528884888, 1.756600022315979, 1.7546000480651855, 1.7525999546051025, 1.7520999908447266, 1.7509000301361084, 1.7508000135421753, 1.749899983406067, 1.749400019645691, 1.747499942779541, 1.7467999458312988, 1.746399998664856, 1.746399998664856, 1.7461999654769897, 1.7458000183105469, 1.7454999685287476, 1.7424999475479126, 1.7421000003814697, 1.7417999505996704, 1.7258000373840332, 1.6495000123977661, 1.506700038909912, 1.656599998474121, 1.496999979019165, 1.7108999490737915, 1.6585999727249146, 1.1521999835968018, 1.2872999906539917, 1.0266000032424927, 1.2056000232696533, 1.4434000253677368, 1.0003999471664429, 0.8356000185012817, 0.6355999708175659, 0.9858999848365784, 1.0336999893188477, 0.838699996471405, 0.8691999912261963, 1.0063999891281128, 1.4556000232696533, 0.6359999775886536, 0.7052000164985657, 0.7822999954223633, 0.8495000004768372, 0.4884999990463257, -0.4578999876976013, 0.4984000027179718, 0.5496000051498413, 0.12460000067949295, -0.3449999988079071, 0.6136000156402588, 0.028699999675154686, 1.858199954032898, 1.8545000553131104, 1.8543000221252441, 1.853600025177002, 1.8531999588012695, 1.8531999588012695, 1.8508000373840332, 1.8497999906539917, 1.8487999439239502, 1.8487999439239502, 1.8473999500274658, 1.8468999862670898, 1.845900058746338, 1.8407000303268433, 1.839900016784668, 1.8387000560760498, 1.8349000215530396, 1.8330999612808228, 1.8320000171661377, 1.830899953842163, 1.830199956893921, 1.8300000429153442, 1.8284000158309937, 1.8252999782562256, 1.8251999616622925, 1.8249000310897827, 1.8244999647140503, 1.8233000040054321, 1.8229000568389893, 1.82260000705719, 1.7802000045776367, 1.7538000345230103, 1.7279000282287598, 1.7760000228881836, 1.673699975013733, 1.7204999923706055, 1.680799961090088, 1.691499948501587, 1.2626999616622925, 1.6959999799728394, 1.5882999897003174, 1.458899974822998, 1.6057000160217285, 1.5845999717712402, 1.0183000564575195, 1.1586999893188477, 0.8418999910354614, 0.6940000057220459, 0.39629998803138733, 1.162500023841858, 0.9311000108718872, 0.2062000036239624, 0.41019999980926514, 0.822700023651123, 0.18070000410079956, 0.6485000252723694, 0.17069999873638153, 0.14169999957084656, 0.6556000113487244, 1.8909000158309937, 1.8902000188827515, 1.8890999555587769, 1.8868000507354736, 1.8837000131607056, 1.882200002670288, 1.8691999912261963, 1.868399977684021, 1.867799997329712, 1.8667000532150269, 1.8610999584197998, 1.860700011253357, 1.8602999448776245, 1.8589999675750732, 1.8574999570846558, 1.8559000492095947, 1.8535000085830688, 1.850000023841858, 1.8430999517440796, 1.8420000076293945, 1.840999960899353, 1.8391000032424927, 1.8389999866485596, 1.8388999700546265, 1.8295999765396118, 1.8281999826431274, 1.8274999856948853, 1.8270000219345093, 1.8259999752044678, 1.8250000476837158, 1.8001999855041504, 1.7904000282287598, 1.621000051498413, 1.69760000705719, 1.337499976158142, 1.6934000253677368, 1.5983999967575073, 1.4753999710083008, 1.061900019645691, 1.3341000080108643, 1.4154000282287598, 1.6224000453948975, 0.9578999876976013, 1.3150999546051025, 1.3049999475479126, 0.8033999800682068, 0.43959999084472656, 1.0327999591827393, 0.382099986076355, 1.4673999547958374, -0.08089999854564667, 0.9067000150680542, 0.3384000062942505, 1.0262999534606934, 0.46299999952316284, 0.637499988079071, 0.210999995470047, 0.8870999813079834, 0.08619999885559082, 0.607200026512146, 0.08169999718666077, 0.4239000082015991, 1.902999997138977, 1.9020999670028687, 1.8964999914169312, 1.892699956893921, 1.8911999464035034, 1.8896000385284424, 1.888700008392334, 1.8883999586105347, 1.8869999647140503, 1.8841999769210815, 1.8832999467849731, 1.8832999467849731, 1.8832000494003296, 1.881600022315979, 1.8792999982833862, 1.8782000541687012, 1.8768999576568604, 1.8761999607086182, 1.874400019645691, 1.8739999532699585, 1.8737000226974487, 1.8730000257492065, 1.872499942779541, 1.872499942779541, 1.8720999956130981, 1.8664000034332275, 1.8660000562667847, 1.8651000261306763, 1.864400029182434, 1.8628000020980835, 1.8495999574661255, 1.7246999740600586, 1.7310999631881714, 1.6402000188827515, 1.7520999908447266, 1.4888999462127686, 1.6796000003814697, 1.607800006866455, 1.5245000123977661, 1.5908000469207764, 1.0645999908447266, 1.2482000589370728, 1.6605000495910645, 1.1413999795913696, 1.1167999505996704, 0.6758999824523926, 1.0770000219345093, 0.8707000017166138, 1.0786999464035034, 0.6967999935150146, -0.4821000099182129, 0.14079999923706055, 0.7009000182151794, 0.2711000144481659, 0.47119998931884766, 0.023600000888109207, 0.398499995470047, 0.2818000018596649, -0.43470001220703125, 0.5131999850273132, 1.1390000581741333, 2.063800096511841, 2.061500072479248, 2.058799982070923, 2.0543999671936035, 2.0536999702453613, 2.0534000396728516, 2.0520999431610107, 2.048799991607666, 2.0471999645233154, 2.0464999675750732, 2.044600009918213, 2.0441999435424805, 2.043100118637085, 2.039799928665161, 2.0376999378204346, 2.035900115966797, 2.035900115966797, 2.033400058746338, 2.032900094985962, 2.0327999591827393, 2.0327000617980957, 2.0313000679016113, 2.030600070953369, 2.0295000076293945, 2.0276999473571777, 2.0264999866485596, 2.025099992752075, 2.0243000984191895, 2.0239999294281006, 2.0232999324798584, 1.9256000518798828, 1.958899974822998, 1.860700011253357, 1.7245999574661255, 1.8222999572753906, 1.440999984741211, 1.791200041770935, 1.5684000253677368, 1.6983000040054321, 1.3452999591827393, 1.832900047302246, 1.7103999853134155, 1.5513999462127686, 1.5371999740600586, 1.5985000133514404, 1.604599952697754, 0.7785000205039978, 1.1009000539779663, 0.7997999787330627, 0.682699978351593, 0.40529999136924744, -0.23080000281333923, 0.49129998683929443, 0.6769000291824341, 0.8337000012397766, 0.5547000169754028, 0.29789999127388, -0.02449999935925007, 0.7602999806404114, 2.4964001178741455, 2.4951000213623047, 2.4948999881744385, 2.490499973297119, 2.4902000427246094, 2.48799991607666, 2.4869000911712646, 2.4834001064300537, 2.4791998863220215, 2.47760009765625, 2.4774999618530273, 2.475600004196167, 2.4749999046325684, 2.4695000648498535, 2.4653000831604004, 2.4630000591278076, 2.462100028991699, 2.4614999294281006, 2.45989990234375, 2.4595999717712402, 2.4581000804901123, 2.4542999267578125, 2.450200080871582, 2.449899911880493, 2.448899984359741, 2.4458000659942627, 2.445199966430664, 2.4416000843048096, 2.4400999546051025, 2.439300060272217, 2.4175000190734863, 2.2481000423431396, 2.0922000408172607, 1.9390000104904175, 2.2421000003814697, 2.167099952697754, 1.614300012588501, 1.7705999612808228, 1.7502000331878662, 1.7889000177383423, 1.0910999774932861, 1.184000015258789, 1.5090999603271484, 1.496500015258789, 1.9371999502182007, 0.826200008392334, 0.020099999383091927, 0.35420000553131104, -0.10329999774694443, -0.19349999725818634], \"logprob\": [30.0, 29.0, 28.0, 27.0, 26.0, 25.0, 24.0, 23.0, 22.0, 21.0, 20.0, 19.0, 18.0, 17.0, 16.0, 15.0, 14.0, 13.0, 12.0, 11.0, 10.0, 9.0, 8.0, 7.0, 6.0, 5.0, 4.0, 3.0, 2.0, 1.0, -3.405400037765503, -4.195499897003174, -4.758299827575684, -4.790999889373779, -4.840799808502197, -5.130499839782715, -5.2403998374938965, -5.300099849700928, -5.321499824523926, -5.528500080108643, -5.546899795532227, -5.558599948883057, -5.6072001457214355, -5.8420000076293945, -5.84630012512207, -6.168799877166748, -6.277100086212158, -6.286900043487549, -6.300600051879883, -6.435800075531006, -6.446800231933594, -6.565199851989746, -6.584700107574463, -4.361299991607666, -6.608799934387207, -6.675000190734863, -6.729599952697754, -6.780600070953369, -6.784800052642822, -6.788099765777588, -4.051799774169922, -4.321199893951416, -4.043399810791016, -4.873799800872803, -3.531899929046631, -4.6230998039245605, -4.27869987487793, -4.902500152587891, -3.5920000076293945, -5.615300178527832, -5.454999923706055, -4.629499912261963, -3.0383999347686768, -4.293399810791016, -4.145199775695801, -2.507999897003174, -4.092100143432617, -4.554699897766113, -4.057600021362305, -4.868800163269043, -5.089700222015381, -4.982699871063232, -4.162899971008301, -4.6682000160217285, -4.3993000984191895, -4.621600151062012, -4.663400173187256, -4.853600025177002, -2.4814000129699707, -4.798900127410889, -5.060100078582764, -5.5625, -5.650199890136719, -5.65500020980835, -5.670899868011475, -5.7052001953125, -5.861800193786621, -6.098700046539307, -6.166399955749512, -6.197400093078613, -6.208199977874756, -6.2758002281188965, -6.337200164794922, -6.3520002365112305, -6.388999938964844, -6.390399932861328, -6.415500164031982, -6.428100109100342, -6.480400085449219, -6.499199867248535, -6.508800029754639, -6.508299827575684, -6.514100074768066, -6.524099826812744, -6.53249979019165, -6.603700160980225, -6.615300178527832, -6.619699954986572, -3.419300079345703, -4.896299839019775, -2.953900098800659, -5.612400054931641, -4.7932000160217285, -6.273399829864502, -5.935400009155273, -3.530400037765503, -4.5680999755859375, -3.903700113296509, -4.931099891662598, -5.57480001449585, -4.392199993133545, -4.148600101470947, -3.7358999252319336, -4.563600063323975, -4.69950008392334, -4.316100120544434, -4.55620002746582, -4.879000186920166, -5.683800220489502, -4.412099838256836, -4.570099830627441, -4.701399803161621, -4.9197001457214355, -4.562600135803223, -3.6410999298095703, -4.6570000648498535, -4.76800012588501, -4.550099849700928, -4.395899772644043, -5.052800178527832, -4.979800224304199, -3.1005001068115234, -4.372700214385986, -4.411499977111816, -4.538300037384033, -4.603300094604492, -4.61299991607666, -4.929699897766113, -5.032599925994873, -5.1280999183654785, -5.133600234985352, -5.2519001960754395, -5.293300151824951, -5.373700141906738, -5.691500186920166, -5.737400054931641, -5.801599979400635, -5.967400074005127, -6.04010009765625, -6.082900047302246, -6.121699810028076, -6.143799781799316, -6.150599956512451, -6.2052998542785645, -6.302199840545654, -6.3018999099731445, -6.312399864196777, -6.3206000328063965, -6.353000164031982, -6.371399879455566, -6.376100063323975, -5.13040018081665, -4.841899871826172, -4.498000144958496, -5.4319000244140625, -3.9899001121520996, -4.9344000816345215, -4.498000144958496, -4.792399883270264, -2.7881999015808105, -5.380300045013428, -4.969600200653076, -4.502900123596191, -5.125500202178955, -5.158599853515625, -3.6563000679016113, -4.116600036621094, -3.52239990234375, -3.362799882888794, -2.786900043487549, -4.3796000480651855, -4.415900230407715, -4.190999984741211, -4.6717000007629395, -4.860799789428711, -4.803500175476074, -4.901000022888184, -4.877299785614014, -4.90939998626709, -4.963099956512451, -2.435699939727783, -3.0562000274658203, -3.6424999237060547, -4.283199787139893, -4.776700019836426, -4.948999881744385, -5.822199821472168, -5.8541998863220215, -5.881800174713135, -5.9253997802734375, -6.134500026702881, -6.146999835968018, -6.1570000648498535, -6.196499824523926, -6.245200157165527, -6.289999961853027, -6.360099792480469, -6.44789981842041, -6.598100185394287, -6.625899791717529, -6.6479997634887695, -6.677700042724609, -6.673399925231934, -6.690999984741211, -6.847799777984619, -6.872000217437744, -6.890699863433838, -6.899600028991699, -6.916399955749512, -6.9319000244140625, -3.606300115585327, -5.587100028991699, -2.7762999534606934, -4.5578999519348145, -3.026900053024292, -5.784200191497803, -5.255499839782715, -4.886899948120117, -2.9542999267578125, -4.332300186157227, -5.085400104522705, -5.930200099945068, -4.156599998474121, -5.1184000968933105, -5.159200191497803, -4.278500080108643, -3.6113998889923096, -4.736400127410889, -3.6747000217437744, -5.545499801635742, -3.2641000747680664, -4.776800155639648, -4.336299896240234, -5.070499897003174, -4.585000038146973, -4.756100177764893, -4.47160005569458, -5.0777997970581055, -4.86460018157959, -5.011499881744385, -5.030399799346924, -5.059800148010254, -3.0824999809265137, -3.54229998588562, -4.785699844360352, -5.173900127410889, -5.297599792480469, -5.408599853515625, -5.468400001525879, -5.488500118255615, -5.5721001625061035, -5.7220001220703125, -5.767499923706055, -5.768400192260742, -5.773799896240234, -5.8470001220703125, -5.941400051116943, -5.988900184631348, -6.031599998474121, -6.060400009155273, -6.124499797821045, -6.135300159454346, -6.145699977874756, -6.170100212097168, -6.186100006103516, -6.187900066375732, -6.198200225830078, -6.3643999099731445, -6.375500202178955, -6.395500183105469, -6.415999889373779, -6.4552998542785645, -4.398099899291992, -4.302199840545654, -5.218400001525879, -4.555200099945068, -5.558000087738037, -4.275300025939941, -5.220399856567383, -5.020999908447266, -4.771699905395508, -5.107500076293945, -3.2997000217437744, -4.098800182342529, -5.469699859619141, -4.242499828338623, -4.848100185394287, -4.375199794769287, -4.889599800109863, -4.67140007019043, -4.93120002746582, -4.6656999588012695, -3.665299892425537, -4.2307000160217285, -4.7245001792907715, -4.526500225067139, -4.684100151062012, -4.437099933624268, -4.6834001541137695, -4.648499965667725, -4.4857001304626465, -4.884300231933594, -5.0971999168396, -4.362800121307373, -4.683899879455566, -4.956299781799316, -5.28849983215332, -5.328400135040283, -5.354100227355957, -5.424099922180176, -5.59630012512207, -5.667799949645996, -5.700099945068359, -5.777100086212158, -5.793799877166748, -5.835400104522705, -5.951499938964844, -6.02209997177124, -6.07480001449585, -6.075900077819824, -6.146900177001953, -6.162199974060059, -6.16349983215332, -6.166299819946289, -6.205599784851074, -6.222799777984619, -6.247099876403809, -6.295400142669678, -6.324399948120117, -6.356200218200684, -6.373499870300293, -6.378200054168701, -6.395400047302246, -4.260000228881836, -5.29580020904541, -4.529900074005127, -3.5929999351501465, -4.530300140380859, -2.5750999450683594, -4.790200233459473, -3.546099901199341, -4.2855000495910645, -3.809999942779541, -5.539400100708008, -5.2758002281188965, -4.869200229644775, -4.884200096130371, -5.0278000831604, -5.0696001052856445, -3.5929999351501465, -4.304100036621094, -4.130499839782715, -3.9999001026153564, -3.9591000080108643, -3.4140000343322754, -4.559800148010254, -4.715700149536133, -4.899600028991699, -4.994800090789795, -5.064499855041504, -5.179299831390381, -5.231299877166748, -3.0952000617980957, -3.5030999183654785, -3.5587000846862793, -4.263700008392334, -4.305099964141846, -4.519199848175049, -4.6153998374938965, -4.872099876403809, -5.106800079345703, -5.187600135803223, -5.19350004196167, -5.279699802398682, -5.302800178527832, -5.512400150299072, -5.645599842071533, -5.713399887084961, -5.733699798583984, -5.755000114440918, -5.796800136566162, -5.802700042724609, -5.8429999351501465, -5.927999973297119, -6.02370023727417, -6.0269999504089355, -6.047699928283691, -6.109399795532227, -6.121799945831299, -6.190199851989746, -6.214799880981445, -6.228799819946289, -3.5739998817443848, -2.549499988555908, -3.255000114440918, -3.173099994659424, -5.062300205230713, -5.220399856567383, -3.7481000423431396, -4.589099884033203, -4.688700199127197, -5.023499965667725, -4.292799949645996, -4.407299995422363, -4.781899929046631, -4.8846001625061035, -5.308300018310547, -4.567399978637695, -4.351500034332275, -4.921199798583984, -5.054200172424316, -5.2754998207092285]}, \"token.table\": {\"Topic\": [1, 4, 1, 4, 5, 7, 1, 4, 5, 5, 5, 6, 7, 2, 4, 5, 2, 4, 5, 6, 2, 2, 7, 7, 1, 3, 5, 6, 3, 1, 2, 3, 4, 5, 6, 7, 6, 3, 1, 1, 2, 6, 5, 2, 3, 5, 7, 1, 6, 5, 3, 1, 7, 2, 4, 5, 7, 2, 4, 7, 3, 6, 4, 7, 2, 3, 6, 4, 5, 6, 1, 3, 7, 4, 7, 6, 7, 4, 7, 1, 1, 7, 3, 1, 2, 3, 4, 5, 7, 4, 6, 3, 1, 2, 3, 4, 5, 6, 7, 4, 1, 2, 4, 5, 5, 2, 4, 5, 5, 2, 6, 3, 1, 5, 7, 3, 7, 1, 1, 3, 5, 1, 2, 3, 5, 1, 3, 4, 5, 6, 7, 3, 1, 4, 7, 6, 2, 4, 1, 2, 2, 5, 6, 2, 3, 6, 1, 3, 5, 4, 7, 4, 6, 1, 3, 4, 5, 7, 2, 5, 6, 3, 5, 7, 3, 1, 3, 4, 4, 1, 6, 1, 4, 6, 2, 1, 2, 6, 5, 5, 3, 3, 2, 3, 5, 6, 1, 3, 5, 5, 2, 6, 4, 5, 1, 5, 6, 2, 1, 2, 7, 5, 7, 5, 1, 2, 4, 6, 7, 2, 1, 1, 2, 4, 6, 1, 3, 4, 6, 3, 4, 5, 6, 1, 4, 5, 7, 5, 3, 5, 6, 7, 6, 4, 1, 1, 3, 5, 1, 2, 2, 6, 1, 2, 5, 6, 7, 3, 1, 2, 1, 3, 4, 1, 6, 1, 2, 3, 2, 3, 5, 1, 2, 2, 4, 6, 5, 6, 7, 2, 6, 2, 1, 3, 3, 6, 4, 5, 2, 3, 5, 3, 6, 3, 7, 5, 7, 1, 2, 3, 4, 6, 4, 3, 6, 2, 4, 5, 7, 2, 3, 5, 6, 7, 6, 3, 1, 3, 5, 4, 1, 2, 5, 2, 4, 3, 4, 5, 2, 3, 5, 7, 5, 1, 3, 4, 5, 7, 6, 4, 3, 7, 4, 2, 3, 5, 6, 7, 2, 6, 7, 1, 5, 1, 4, 2, 1, 2, 5, 4, 1, 3, 2, 1, 3, 7, 1, 2, 2, 4, 6, 4, 4, 5, 6, 7, 2, 3, 4, 5, 7, 1, 4, 7, 7, 2, 2, 1, 3, 4, 5, 7, 1, 1, 3, 6, 5, 1, 6, 4, 7, 6, 5, 3, 5, 6, 7, 2, 4, 5, 6, 4, 4, 6, 2, 3, 4, 6, 7, 7, 1, 4, 2, 3, 4, 5, 6, 7, 2, 5, 1, 3, 1, 3, 6, 7, 6, 7, 7, 7, 2, 7, 6, 1, 7, 6, 2, 4, 1, 4, 4, 6, 6, 1, 1, 5, 1, 3, 7, 4, 3, 1, 5, 4, 3, 1, 5, 5, 2, 3, 3, 5, 2, 4, 6, 1, 3, 6, 3, 4, 6, 2, 2, 5, 6, 2, 4, 2, 5, 1, 2, 5, 6, 1, 7, 1, 2, 2, 5, 6, 1, 5, 2, 2, 3, 4, 5, 6, 6, 2, 5, 1, 2, 4, 2, 5, 2, 5, 2, 2, 6, 1, 2, 3, 4, 3, 3, 2, 3, 4, 5, 4, 6, 1, 2, 3, 5, 7, 4, 6, 1, 7, 7, 5, 1, 5, 7, 4, 4, 5, 3, 4, 3, 4, 6, 6, 6, 1, 4, 2, 6, 6, 1, 2, 3, 1, 2, 4, 6, 5, 6, 7, 2, 3, 5, 1, 2, 3, 4, 2, 3, 4, 5, 1, 2, 3, 4, 5, 6, 5, 6, 2, 3, 5, 6], \"Freq\": [0.8799026608467102, 0.11955198645591736, 0.6570483446121216, 0.1638309508562088, 0.10519671440124512, 0.0741550624370575, 0.5903244018554688, 0.15903717279434204, 0.24799016118049622, 0.9816390872001648, 0.19529379904270172, 0.02663097158074379, 0.7782161831855774, 0.053170934319496155, 0.5620927214622498, 0.37979236245155334, 0.4713875949382782, 0.120675228536129, 0.1131330206990242, 0.290374755859375, 0.963763952255249, 0.2760585844516754, 0.7098649144172668, 0.9565648436546326, 0.2381289005279541, 0.7558004260063171, 0.9645220041275024, 0.9961358904838562, 0.9836599826812744, 0.33124667406082153, 0.1059989333152771, 0.2314310073852539, 0.13897638022899628, 0.09186574816703796, 0.10011010617017746, 0.9934457540512085, 0.9957985281944275, 0.9547675848007202, 0.9745453000068665, 0.6187107563018799, 0.37356123328208923, 0.9919419288635254, 0.9732276201248169, 0.28348132967948914, 0.2735346257686615, 0.43765538930892944, 0.9983320236206055, 0.9887641668319702, 0.9655601382255554, 0.9631765484809875, 0.9675488471984863, 0.9564144015312195, 0.03803921118378639, 0.9559792280197144, 0.7401679158210754, 0.1966070979833603, 0.046260494738817215, 0.08431857079267502, 0.9139044880867004, 0.986116886138916, 0.9852890372276306, 0.9401208758354187, 0.9532997608184814, 0.9688093662261963, 0.07654454559087753, 0.8361020088195801, 0.0824325904250145, 0.43614378571510315, 0.030475886538624763, 0.5329893827438354, 0.9304878115653992, 0.9904080033302307, 0.9756782054901123, 0.9649031162261963, 0.9977380037307739, 0.21776816248893738, 0.7803359031677246, 0.9029147624969482, 0.954804539680481, 0.9811793565750122, 0.6257961392402649, 0.36889034509658813, 0.9571666121482849, 0.28999507427215576, 0.0751839131116867, 0.09666502475738525, 0.2846248149871826, 0.06444334983825684, 0.18795977532863617, 0.2904108762741089, 0.6996262073516846, 0.9775577187538147, 0.03431518375873566, 0.27261507511138916, 0.17920151352882385, 0.015251193195581436, 0.2935854494571686, 0.20589110255241394, 0.9459574818611145, 0.9717631340026855, 0.5654662251472473, 0.12089277803897858, 0.22618649899959564, 0.08579487353563309, 0.9750164747238159, 0.97893226146698, 0.9911446571350098, 0.9629188776016235, 0.9874915480613708, 0.9772604703903198, 0.9791963696479797, 0.9909403324127197, 0.9861440658569336, 0.07323352247476578, 0.9227423667907715, 0.9901822805404663, 0.9621317386627197, 0.9705718159675598, 0.2062521129846573, 0.3616606891155243, 0.4316904544830322, 0.9762084484100342, 0.17504450678825378, 0.1633748710155487, 0.6612792015075684, 0.005205440800637007, 0.07027345150709152, 0.04424624517560005, 0.29931285977363586, 0.1691768318414688, 0.41383254528045654, 0.9634479284286499, 0.9540231823921204, 0.9526268839836121, 0.9944949746131897, 0.9594782590866089, 0.17263348400592804, 0.8200089931488037, 0.0565435029566288, 0.9402974843978882, 0.28685304522514343, 0.4676951766014099, 0.24320149421691895, 0.1444728970527649, 0.8523901104927063, 0.9807167649269104, 0.9682639241218567, 0.9502650499343872, 0.9870969653129578, 0.9994813203811646, 0.9842121005058289, 0.9306402802467346, 0.9807150363922119, 0.1688300371170044, 0.8300809860229492, 0.108885757625103, 0.7325041890144348, 0.15837928652763367, 0.9400361776351929, 0.19422496855258942, 0.7963223457336426, 0.15522310137748718, 0.3598353862762451, 0.47978052496910095, 0.9956591725349426, 0.269096702337265, 0.3552076518535614, 0.3731474280357361, 0.9630298614501953, 0.2377794086933136, 0.7573714852333069, 0.9991120100021362, 0.08633631467819214, 0.8978976607322693, 0.9771904945373535, 0.48849526047706604, 0.3869897425174713, 0.12265249341726303, 0.9661442637443542, 0.9755507111549377, 0.9715596437454224, 0.978341817855835, 0.9444323182106018, 0.6682842373847961, 0.2417198270559311, 0.08531288057565689, 0.9797652959823608, 0.2493024319410324, 0.7386738657951355, 0.9443134069442749, 0.1304154396057129, 0.8654842972755432, 0.9683078527450562, 0.9812066555023193, 0.7057770490646362, 0.12547147274017334, 0.16729530692100525, 0.9818532466888428, 0.7238932847976685, 0.27288123965263367, 0.9906386733055115, 0.9623885154724121, 0.9104194641113281, 0.9561398029327393, 0.017144426703453064, 0.5301584005355835, 0.1859510838985443, 0.24925358593463898, 0.015825623646378517, 0.9596518874168396, 0.9722015261650085, 0.16308888792991638, 0.07291032373905182, 0.5746484994888306, 0.1889912486076355, 0.9871315360069275, 0.06748587638139725, 0.33742937445640564, 0.5923760533332825, 0.10177014768123627, 0.08979719132184982, 0.766269326210022, 0.04190535470843315, 0.1488291621208191, 0.5561510920524597, 0.2898252308368683, 0.958074152469635, 0.991980254650116, 0.16185832023620605, 0.8345819711685181, 0.9741453528404236, 0.9225611686706543, 0.9754819869995117, 0.962398111820221, 0.9674566984176636, 0.4571731984615326, 0.10476885735988617, 0.43812429904937744, 0.980659544467926, 0.9898172616958618, 0.18191203474998474, 0.8076894283294678, 0.06929511576890945, 0.3991398811340332, 0.2993549108505249, 0.13581842184066772, 0.09424135833978653, 0.9940319061279297, 0.8499673008918762, 0.13599476218223572, 0.4669356942176819, 0.31176069378852844, 0.2207717001438141, 0.2171807885169983, 0.7776473760604858, 0.4261595606803894, 0.38693147897720337, 0.18722490966320038, 0.08457320183515549, 0.39467495679855347, 0.5176905393600464, 0.434686541557312, 0.5588826537132263, 0.3909130096435547, 0.4221860468387604, 0.1837291121482849, 0.9759530425071716, 0.9589214324951172, 0.9735506176948547, 0.9392959475517273, 0.9728972315788269, 0.9772089719772339, 0.9910419583320618, 0.9949917793273926, 0.9949321150779724, 0.9740415215492249, 0.9980072379112244, 0.9758096933364868, 0.8753669261932373, 0.08498707413673401, 0.042493537068367004, 0.9855802059173584, 0.9695008397102356, 0.7656370997428894, 0.2322719246149063, 0.7775434851646423, 0.2134433090686798, 0.12106740474700928, 0.1782381236553192, 0.2993055284023285, 0.2757646441459656, 0.12106740474700928, 0.9991827607154846, 0.9505966305732727, 0.9764816761016846, 0.9751371741294861, 0.7675580382347107, 0.20933400094509125, 0.9487445950508118, 0.4487359821796417, 0.29811131954193115, 0.03138013929128647, 0.21966096758842468, 0.9892241954803467, 0.9748706817626953, 0.9615359306335449, 0.08530570566654205, 0.8720138669013977, 0.037913646548986435, 0.9760754108428955, 0.738085925579071, 0.1717328578233719, 0.08769337832927704, 0.9608409404754639, 0.9615256190299988, 0.17590007185935974, 0.3660622835159302, 0.4563893675804138, 0.11966851353645325, 0.17019522190093994, 0.4653775691986084, 0.24465563893318176, 0.9645290970802307, 0.18441985547542572, 0.14102695882320404, 0.4230808615684509, 0.16272340714931488, 0.08678581565618515, 0.9857696890830994, 0.9172501564025879, 0.7774448990821838, 0.21482029557228088, 0.9753233194351196, 0.3387634754180908, 0.49621692299842834, 0.03101355768740177, 0.014313950203359127, 0.11689725518226624, 0.24439053237438202, 0.2825765311717987, 0.4735066294670105, 0.9873533248901367, 0.9726927280426025, 0.3324781060218811, 0.6578822135925293, 0.9891881346702576, 0.09084402024745941, 0.7563292980194092, 0.15211091935634613, 0.9699379205703735, 0.11726757884025574, 0.8764208555221558, 0.9771768450737, 0.6184136271476746, 0.11124900728464127, 0.2683064341545105, 0.836729884147644, 0.15787355601787567, 0.938808023929596, 0.4052712023258209, 0.5853917002677917, 0.9887375831604004, 0.164265438914299, 0.20291613042354584, 0.6280737519264221, 0.9974086284637451, 0.9781315326690674, 0.9600110650062561, 0.18020300567150116, 0.45411157608032227, 0.36761415004730225, 0.26341429352760315, 0.164127379655838, 0.5714064240455627, 0.9684852361679077, 0.9915891289710999, 0.9362144470214844, 0.13762305676937103, 0.23395919799804688, 0.3361934721469879, 0.22216293215751648, 0.06684548407793045, 0.9936075210571289, 0.9573031663894653, 0.9690598249435425, 0.9818026423454285, 0.9860873818397522, 0.9753754138946533, 0.9766589999198914, 0.9780173301696777, 0.9508509039878845, 0.9549025893211365, 0.9501914978027344, 0.49839308857917786, 0.35510507225990295, 0.1432880163192749, 0.9833530187606812, 0.45602867007255554, 0.16095130145549774, 0.13412608206272125, 0.24947451055049896, 0.9270469546318054, 0.8980472087860107, 0.07809106260538101, 0.16566643118858337, 0.19825655221939087, 0.17924565076828003, 0.3802180290222168, 0.07604360580444336, 0.9599027633666992, 0.9951781630516052, 0.9986861944198608, 0.3159536123275757, 0.0821286141872406, 0.07150020450353622, 0.1710207611322403, 0.27440619468688965, 0.08406105637550354, 0.9312238097190857, 0.03581630066037178, 0.8296926021575928, 0.1679956167936325, 0.0659072995185852, 0.9227021336555481, 0.9912600517272949, 0.9646500945091248, 0.4992925822734833, 0.4881971776485443, 0.9378561973571777, 0.9406291842460632, 0.4105972945690155, 0.5645712614059448, 0.9850448966026306, 0.9397698640823364, 0.05481990799307823, 0.9666298031806946, 0.9531288146972656, 0.9492919445037842, 0.33898481726646423, 0.6508508324623108, 0.3684455156326294, 0.62635737657547, 0.9883236289024353, 0.9955884218215942, 0.977016031742096, 0.970679759979248, 0.9803017973899841, 0.8467434048652649, 0.15177476406097412, 0.9802678227424622, 0.9887316226959229, 0.12775462865829468, 0.8577810525894165, 0.9312455058097839, 0.9799625873565674, 0.9546421766281128, 0.974449872970581, 0.9980338215827942, 0.9732257127761841, 0.9966758489608765, 0.9179663062095642, 0.07343730330467224, 0.31039944291114807, 0.5714171528816223, 0.11639978736639023, 0.7866783738136292, 0.0763765424489975, 0.13747777044773102, 0.9863381385803223, 0.39405012130737305, 0.6052935123443604, 0.9551901817321777, 0.27506059408187866, 0.23909112811088562, 0.4845298230648041, 0.962448239326477, 0.961534321308136, 0.9884263873100281, 0.9548050165176392, 0.2546704411506653, 0.45665043592453003, 0.12294434756040573, 0.16246217489242554, 0.8268519043922424, 0.16817326843738556, 0.9363601207733154, 0.9440521597862244, 0.9690139889717102, 0.9461997151374817, 0.05046398565173149, 0.9800688028335571, 0.997249960899353, 0.9765452742576599, 0.2734425663948059, 0.06347773969173431, 0.1562528908252716, 0.2343793511390686, 0.26855966448783875, 0.9586092829704285, 0.7231799960136414, 0.276962548494339, 0.6992877125740051, 0.15631136298179626, 0.13985753059387207, 0.7087762355804443, 0.28623655438423157, 0.19379153847694397, 0.7993901371955872, 0.9834999442100525, 0.7503623962402344, 0.24353867769241333, 0.25847890973091125, 0.3173969089984894, 0.18435628712177277, 0.2394731193780899, 0.9764182567596436, 0.9720998406410217, 0.11850372701883316, 0.5504463315010071, 0.23420263826847076, 0.09606514871120453, 0.6174902319908142, 0.37374407052993774, 0.1051005944609642, 0.8758382797241211, 0.9023027420043945, 0.09827059507369995, 0.9350064992904663, 0.8264259099960327, 0.17164230346679688, 0.3332405686378479, 0.6664811372756958, 0.9931387901306152, 0.9935217499732971, 0.9892969131469727, 0.8399416208267212, 0.15271666646003723, 0.9459621906280518, 0.9294776916503906, 0.9810894131660461, 0.9993591904640198, 0.9676228165626526, 0.19134481251239777, 0.7624049782752991, 0.04560549929738045, 0.9682956337928772, 0.9844244122505188, 0.7735932469367981, 0.22183924913406372, 0.2911755442619324, 0.7067850828170776, 0.9737840890884399, 0.9969672560691833, 0.9990993142127991, 0.9877052903175354, 0.2908877730369568, 0.36728253960609436, 0.2291843146085739, 0.1116538941860199, 0.3052465319633484, 0.6880159974098206, 0.9925031065940857, 0.07945533096790314, 0.2317447066307068, 0.6819915771484375, 0.17895638942718506, 0.6050430536270142, 0.07669559866189957, 0.1363477259874344, 0.8727659583091736, 0.09697399288415909, 0.9949027895927429, 0.9756171107292175, 0.06149154156446457, 0.189707949757576, 0.4317491352558136, 0.21194957196712494, 0.054949887096881866, 0.051024895161390305, 0.9875851273536682, 0.959212064743042, 0.46798235177993774, 0.054062943905591965, 0.19766764342784882, 0.28045153617858887], \"Term\": [\"ability\", \"ability\", \"able\", \"able\", \"able\", \"able\", \"access\", \"access\", \"access\", \"accessible\", \"account\", \"account\", \"account\", \"accountant\", \"accountant\", \"accountant\", \"accounting\", \"accounting\", \"accounting\", \"accounting\", \"accurate\", \"activity\", \"activity\", \"add\", \"address\", \"address\", \"alternative\", \"amazing\", \"annoying\", \"app\", \"app\", \"app\", \"app\", \"app\", \"app\", \"apple\", \"application\", \"aspect\", \"attachment\", \"available\", \"available\", \"awesome\", \"awful\", \"bad\", \"bad\", \"bad\", \"bank\", \"banking\", \"basis\", \"benefit\", \"beta\", \"bill\", \"bill\", \"billable\", \"bit\", \"bit\", \"bit\", \"book\", \"book\", \"bookkeeper\", \"box\", \"boy\", \"breeze\", \"brilliant\", \"bug\", \"bug\", \"bug\", \"business\", \"business\", \"business\", \"busy\", \"button\", \"cancel\", \"capture\", \"card\", \"cash\", \"cash\", \"cell\", \"character\", \"chart\", \"check\", \"check\", \"click\", \"client\", \"client\", \"client\", \"client\", \"client\", \"client\", \"cloud\", \"cloud\", \"code\", \"company\", \"company\", \"company\", \"company\", \"company\", \"company\", \"compatible\", \"complex\", \"computer\", \"computer\", \"computer\", \"computer\", \"constant\", \"control\", \"convenient\", \"cool\", \"course\", \"cpa\", \"crap\", \"crash\", \"create\", \"credit\", \"credit\", \"critical\", \"curve\", \"custom\", \"customer\", \"customer\", \"customer\", \"customization\", \"datum\", \"datum\", \"datum\", \"day\", \"day\", \"day\", \"day\", \"day\", \"day\", \"decent\", \"default\", \"delivery\", \"deposit\", \"description\", \"desk\", \"desk\", \"desktop\", \"desktop\", \"different\", \"different\", \"different\", \"difficult\", \"difficult\", \"disappointed\", \"disappointment\", \"doesn\", \"ease\", \"easy\", \"edit\", \"effective\", \"efficient\", \"email\", \"email\", \"end\", \"end\", \"end\", \"enter\", \"entire\", \"entire\", \"entry\", \"entry\", \"entry\", \"error\", \"estimate\", \"estimate\", \"estimate\", \"everyday\", \"excellent\", \"excellent\", \"expense\", \"fantastic\", \"fantastic\", \"fast\", \"feature\", \"feature\", \"feature\", \"feedback\", \"finance\", \"finger\", \"fingerprint\", \"firm\", \"fix\", \"fix\", \"fix\", \"flexibility\", \"free\", \"free\", \"freeze\", \"friendly\", \"friendly\", \"front\", \"frustration\", \"function\", \"function\", \"function\", \"functional\", \"functionality\", \"functionality\", \"fund\", \"game\", \"generation\", \"glad\", \"good\", \"good\", \"good\", \"good\", \"good\", \"gopayment\", \"graphic\", \"great\", \"great\", \"great\", \"great\", \"handy\", \"happy\", \"happy\", \"happy\", \"help\", \"help\", \"help\", \"help\", \"helpful\", \"helpful\", \"helpful\", \"hold\", \"horrible\", \"hour\", \"hour\", \"image\", \"immediate\", \"impressed\", \"incredible\", \"industry\", \"information\", \"information\", \"information\", \"input\", \"integration\", \"interface\", \"interface\", \"intuit\", \"intuit\", \"intuit\", \"intuit\", \"intuit\", \"intuitive\", \"inventory\", \"inventory\", \"invoice\", \"invoice\", \"invoice\", \"invoicing\", \"invoicing\", \"ipad\", \"ipad\", \"ipad\", \"issue\", \"issue\", \"issue\", \"item\", \"item\", \"job\", \"job\", \"job\", \"joke\", \"keeping\", \"know\", \"knowledge\", \"labor\", \"lack\", \"laptop\", \"last\", \"late\", \"leave\", \"life\", \"limitation\", \"line\", \"line\", \"line\", \"load\", \"location\", \"log\", \"log\", \"login\", \"login\", \"lot\", \"lot\", \"lot\", \"lot\", \"lot\", \"love\", \"luck\", \"man\", \"manage\", \"management\", \"management\", \"manager\", \"many\", \"many\", \"many\", \"many\", \"match\", \"material\", \"matter\", \"message\", \"message\", \"message\", \"mint\", \"mobile\", \"mobile\", \"mobile\", \"mobility\", \"moment\", \"money\", \"money\", \"money\", \"month\", \"month\", \"month\", \"month\", \"morning\", \"much\", \"much\", \"much\", \"much\", \"much\", \"multi\", \"myob\", \"name\", \"name\", \"navigate\", \"new\", \"new\", \"new\", \"new\", \"new\", \"nice\", \"nice\", \"nice\", \"note\", \"notice\", \"office\", \"office\", \"old\", \"online\", \"online\", \"online\", \"only\", \"open\", \"open\", \"opinion\", \"option\", \"option\", \"option\", \"order\", \"order\", \"outstanding\", \"owner\", \"owner\", \"paperwork\", \"part\", \"part\", \"part\", \"password\", \"past\", \"pathetic\", \"pay\", \"pay\", \"pay\", \"payment\", \"payment\", \"payment\", \"paypal\", \"perfect\", \"permission\", \"phone\", \"phone\", \"phone\", \"phone\", \"phone\", \"photo\", \"piece\", \"pin\", \"plan\", \"poor\", \"post\", \"power\", \"powerful\", \"practice\", \"present\", \"pricing\", \"problem\", \"problem\", \"problem\", \"processing\", \"product\", \"product\", \"product\", \"product\", \"productive\", \"professional\", \"professional\", \"program\", \"program\", \"program\", \"program\", \"program\", \"progress\", \"purchase\", \"quick\", \"quickbook\", \"quickbook\", \"quickbook\", \"quickbook\", \"quickbook\", \"quickbook\", \"rating\", \"rating\", \"receipt\", \"receipt\", \"recent\", \"recent\", \"recommend\", \"reconcile\", \"record\", \"record\", \"reference\", \"refund\", \"register\", \"register\", \"regular\", \"report\", \"report\", \"reporting\", \"request\", \"revenue\", \"road\", \"road\", \"run\", \"run\", \"sage\", \"sale\", \"save\", \"saver\", \"scan\", \"screen\", \"screen\", \"seamless\", \"search\", \"second\", \"second\", \"secure\", \"security\", \"select\", \"server\", \"service\", \"short\", \"sign\", \"signature\", \"signature\", \"simple\", \"simple\", \"simple\", \"site\", \"site\", \"site\", \"slow\", \"small\", \"small\", \"smart\", \"software\", \"software\", \"software\", \"space\", \"spending\", \"spot\", \"stable\", \"star\", \"star\", \"star\", \"star\", \"statement\", \"statement\", \"status\", \"stupid\", \"sub\", \"subscription\", \"subscription\", \"supplier\", \"support\", \"switch\", \"system\", \"system\", \"system\", \"system\", \"system\", \"tap\", \"task\", \"task\", \"tax\", \"tax\", \"tax\", \"team\", \"team\", \"tech\", \"tech\", \"term\", \"thank\", \"thank\", \"thing\", \"thing\", \"thing\", \"thing\", \"thought\", \"ticket\", \"time\", \"time\", \"time\", \"time\", \"tool\", \"tool\", \"total\", \"total\", \"touch\", \"touch\", \"touchid\", \"track\", \"track\", \"transaction\", \"transaction\", \"transfer\", \"trial\", \"type\", \"unable\", \"unable\", \"understand\", \"unpaid\", \"unusable\", \"update\", \"usable\", \"use\", \"use\", \"use\", \"useable\", \"used\", \"useful\", \"useful\", \"user\", \"user\", \"various\", \"vendor\", \"version\", \"waste\", \"way\", \"way\", \"way\", \"way\", \"web\", \"web\", \"website\", \"week\", \"week\", \"week\", \"well\", \"well\", \"well\", \"well\", \"window\", \"window\", \"wish\", \"wonderful\", \"work\", \"work\", \"work\", \"work\", \"work\", \"work\", \"working\", \"world\", \"year\", \"year\", \"year\", \"year\"]}, \"R\": 30, \"lambda.step\": 0.01, \"plot.opts\": {\"xlab\": \"PC1\", \"ylab\": \"PC2\"}, \"topic.order\": [5, 4, 2, 6, 7, 1, 3]};\n",
       "\n",
       "function LDAvis_load_lib(url, callback){\n",
       "  var s = document.createElement('script');\n",
       "  s.src = url;\n",
       "  s.async = true;\n",
       "  s.onreadystatechange = s.onload = callback;\n",
       "  s.onerror = function(){console.warn(\"failed to load library \" + url);};\n",
       "  document.getElementsByTagName(\"head\")[0].appendChild(s);\n",
       "}\n",
       "\n",
       "if(typeof(LDAvis) !== \"undefined\"){\n",
       "   // already loaded: just create the visualization\n",
       "   !function(LDAvis){\n",
       "       new LDAvis(\"#\" + \"ldavis_el17431406521384071206069333928\", ldavis_el17431406521384071206069333928_data);\n",
       "   }(LDAvis);\n",
       "}else if(typeof define === \"function\" && define.amd){\n",
       "   // require.js is available: use it to load d3/LDAvis\n",
       "   require.config({paths: {d3: \"https://cdnjs.cloudflare.com/ajax/libs/d3/3.5.5/d3.min\"}});\n",
       "   require([\"d3\"], function(d3){\n",
       "      window.d3 = d3;\n",
       "      LDAvis_load_lib(\"https://cdn.rawgit.com/bmabey/pyLDAvis/files/ldavis.v1.0.0.js\", function(){\n",
       "        new LDAvis(\"#\" + \"ldavis_el17431406521384071206069333928\", ldavis_el17431406521384071206069333928_data);\n",
       "      });\n",
       "    });\n",
       "}else{\n",
       "    // require.js not available: dynamically load d3 & LDAvis\n",
       "    LDAvis_load_lib(\"https://cdnjs.cloudflare.com/ajax/libs/d3/3.5.5/d3.min.js\", function(){\n",
       "         LDAvis_load_lib(\"https://cdn.rawgit.com/bmabey/pyLDAvis/files/ldavis.v1.0.0.js\", function(){\n",
       "                 new LDAvis(\"#\" + \"ldavis_el17431406521384071206069333928\", ldavis_el17431406521384071206069333928_data);\n",
       "            })\n",
       "         });\n",
       "}\n",
       "</script>"
      ],
      "text/plain": [
       "PreparedData(topic_coordinates=              x         y  topics  cluster       Freq\n",
       "topic                                                \n",
       "4     -0.020080 -0.194330       1        1  16.861313\n",
       "3     -0.093440  0.080887       2        1  16.758780\n",
       "1     -0.003367 -0.211726       3        1  15.573788\n",
       "5     -0.161165 -0.005993       4        1  15.082617\n",
       "6      0.070691  0.002562       5        1  14.890398\n",
       "0     -0.139792  0.230578       6        1  12.617390\n",
       "2      0.347153  0.098023       7        1   8.215715, topic_info=    Category         Freq       Term        Total  loglift  logprob\n",
       "171  Default  1149.000000    version  1149.000000  30.0000  30.0000\n",
       "85   Default  1082.000000       easy  1082.000000  29.0000  29.0000\n",
       "84   Default  1476.000000   business  1476.000000  28.0000  28.0000\n",
       "150  Default   675.000000    account   675.000000  27.0000  27.0000\n",
       "94   Default  1008.000000        use  1008.000000  26.0000  26.0000\n",
       "..       ...          ...        ...          ...      ...      ...\n",
       "210   Topic7    69.900391     client   372.420105   0.8262  -4.5674\n",
       "78    Topic7    86.752960  quickbook  1034.962036   0.0201  -4.3515\n",
       "17    Topic7    49.075176        new   419.171509   0.3542  -4.9212\n",
       "105   Topic7    42.963600       able   579.866028  -0.1033  -5.0542\n",
       "258   Topic7    34.434765      phone   508.635712  -0.1935  -5.2755\n",
       "\n",
       "[442 rows x 6 columns], token_table=      Topic      Freq     Term\n",
       "term                          \n",
       "451       1  0.879903  ability\n",
       "451       4  0.119552  ability\n",
       "105       1  0.657048     able\n",
       "105       4  0.163831     able\n",
       "105       5  0.105197     able\n",
       "...     ...       ...      ...\n",
       "1171      6  0.959212    world\n",
       "104       2  0.467982     year\n",
       "104       3  0.054063     year\n",
       "104       5  0.197668     year\n",
       "104       6  0.280452     year\n",
       "\n",
       "[585 rows x 3 columns], R=30, lambda_step=0.01, plot_opts={'xlab': 'PC1', 'ylab': 'PC2'}, topic_order=[5, 4, 2, 6, 7, 1, 3])"
      ]
     },
     "execution_count": 31,
     "metadata": {},
     "output_type": "execute_result"
    }
   ],
   "source": [
    "# Visualize the topics\n",
    "pyLDAvis.enable_notebook()\n",
    "vis = pyLDAvis.gensim.prepare(lda_model, doc_term_matrix, dictionary)\n",
    "vis"
   ]
  },
  {
   "cell_type": "code",
   "execution_count": null,
   "metadata": {},
   "outputs": [],
   "source": []
  }
 ],
 "metadata": {
  "kernelspec": {
   "display_name": "Python 3",
   "language": "python",
   "name": "python3"
  },
  "language_info": {
   "codemirror_mode": {
    "name": "ipython",
    "version": 3
   },
   "file_extension": ".py",
   "mimetype": "text/x-python",
   "name": "python",
   "nbconvert_exporter": "python",
   "pygments_lexer": "ipython3",
   "version": "3.7.4"
  }
 },
 "nbformat": 4,
 "nbformat_minor": 2
}
