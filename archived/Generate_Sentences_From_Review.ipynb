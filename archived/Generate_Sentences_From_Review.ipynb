{
 "cells": [
  {
   "cell_type": "code",
   "execution_count": 1,
   "metadata": {},
   "outputs": [
    {
     "name": "stderr",
     "output_type": "stream",
     "text": [
      "[nltk_data] Downloading package punkt to /home/rmajumder/nltk_data...\n",
      "[nltk_data]   Package punkt is already up-to-date!\n"
     ]
    },
    {
     "data": {
      "text/plain": [
       "True"
      ]
     },
     "execution_count": 1,
     "metadata": {},
     "output_type": "execute_result"
    }
   ],
   "source": [
    "import pandas as pd\n",
    "import numpy as np\n",
    "import time\n",
    "\n",
    "import nltk.data\n",
    "nltk.download('punkt')"
   ]
  },
  {
   "cell_type": "code",
   "execution_count": 2,
   "metadata": {},
   "outputs": [],
   "source": [
    "tokenizer = nltk.data.load('tokenizers/punkt/english.pickle')"
   ]
  },
  {
   "cell_type": "code",
   "execution_count": 3,
   "metadata": {},
   "outputs": [],
   "source": [
    "df = pd.read_excel('../data/original/QBO_IOS_Reviews.xlsx', sheet_name='Review Text')"
   ]
  },
  {
   "cell_type": "code",
   "execution_count": 4,
   "metadata": {},
   "outputs": [
    {
     "data": {
      "text/html": [
       "<div>\n",
       "<style scoped>\n",
       "    .dataframe tbody tr th:only-of-type {\n",
       "        vertical-align: middle;\n",
       "    }\n",
       "\n",
       "    .dataframe tbody tr th {\n",
       "        vertical-align: top;\n",
       "    }\n",
       "\n",
       "    .dataframe thead th {\n",
       "        text-align: right;\n",
       "    }\n",
       "</style>\n",
       "<table border=\"1\" class=\"dataframe\">\n",
       "  <thead>\n",
       "    <tr style=\"text-align: right;\">\n",
       "      <th></th>\n",
       "      <th>Unnamed: 0</th>\n",
       "      <th>Review ID</th>\n",
       "      <th>Version</th>\n",
       "      <th>Rating</th>\n",
       "      <th>Date</th>\n",
       "      <th>Aspect</th>\n",
       "      <th>Subject</th>\n",
       "      <th>Body</th>\n",
       "    </tr>\n",
       "  </thead>\n",
       "  <tbody>\n",
       "    <tr>\n",
       "      <td>0</td>\n",
       "      <td>0</td>\n",
       "      <td>5.467988e+09</td>\n",
       "      <td>20.01.6</td>\n",
       "      <td>1</td>\n",
       "      <td>2020-01-31</td>\n",
       "      <td>NaN</td>\n",
       "      <td>Shiny useless tool</td>\n",
       "      <td>This app looks awesome.  Very well thought out...</td>\n",
       "    </tr>\n",
       "    <tr>\n",
       "      <td>1</td>\n",
       "      <td>1</td>\n",
       "      <td>5.464235e+09</td>\n",
       "      <td>20.01.5</td>\n",
       "      <td>1</td>\n",
       "      <td>2020-01-30</td>\n",
       "      <td>NaN</td>\n",
       "      <td>Latest app update</td>\n",
       "      <td>This update is terrible basically unusable ple...</td>\n",
       "    </tr>\n",
       "    <tr>\n",
       "      <td>2</td>\n",
       "      <td>2</td>\n",
       "      <td>5.467098e+09</td>\n",
       "      <td>20.01.5</td>\n",
       "      <td>3</td>\n",
       "      <td>2020-01-30</td>\n",
       "      <td>NaN</td>\n",
       "      <td>App closes out while entering expenses</td>\n",
       "      <td>The majority of the time this app is wonderful...</td>\n",
       "    </tr>\n",
       "    <tr>\n",
       "      <td>3</td>\n",
       "      <td>3</td>\n",
       "      <td>5.466985e+09</td>\n",
       "      <td>20.01.5</td>\n",
       "      <td>5</td>\n",
       "      <td>2020-01-30</td>\n",
       "      <td>NaN</td>\n",
       "      <td>Life saver</td>\n",
       "      <td>One my favorite apps to use while working. I’m...</td>\n",
       "    </tr>\n",
       "    <tr>\n",
       "      <td>4</td>\n",
       "      <td>4</td>\n",
       "      <td>5.467691e+09</td>\n",
       "      <td>20.01.6</td>\n",
       "      <td>5</td>\n",
       "      <td>2020-01-30</td>\n",
       "      <td>NaN</td>\n",
       "      <td>Small business</td>\n",
       "      <td>This absolutely works perfectly without diffic...</td>\n",
       "    </tr>\n",
       "  </tbody>\n",
       "</table>\n",
       "</div>"
      ],
      "text/plain": [
       "   Unnamed: 0     Review ID  Version  Rating       Date  Aspect  \\\n",
       "0           0  5.467988e+09  20.01.6       1 2020-01-31     NaN   \n",
       "1           1  5.464235e+09  20.01.5       1 2020-01-30     NaN   \n",
       "2           2  5.467098e+09  20.01.5       3 2020-01-30     NaN   \n",
       "3           3  5.466985e+09  20.01.5       5 2020-01-30     NaN   \n",
       "4           4  5.467691e+09  20.01.6       5 2020-01-30     NaN   \n",
       "\n",
       "                                  Subject  \\\n",
       "0                      Shiny useless tool   \n",
       "1                       Latest app update   \n",
       "2  App closes out while entering expenses   \n",
       "3                              Life saver   \n",
       "4                          Small business   \n",
       "\n",
       "                                                Body  \n",
       "0  This app looks awesome.  Very well thought out...  \n",
       "1  This update is terrible basically unusable ple...  \n",
       "2  The majority of the time this app is wonderful...  \n",
       "3  One my favorite apps to use while working. I’m...  \n",
       "4  This absolutely works perfectly without diffic...  "
      ]
     },
     "execution_count": 4,
     "metadata": {},
     "output_type": "execute_result"
    }
   ],
   "source": [
    "df.head()"
   ]
  },
  {
   "cell_type": "code",
   "execution_count": 5,
   "metadata": {},
   "outputs": [],
   "source": [
    "data_sent_split = []"
   ]
  },
  {
   "cell_type": "code",
   "execution_count": 6,
   "metadata": {},
   "outputs": [],
   "source": [
    "for index, row in df.iterrows():\n",
    "    split_sent = tokenizer.tokenize(row['Body'])\n",
    "    \n",
    "    for sentence in split_sent:\n",
    "        newrow = []\n",
    "        newrow.append(row['Review ID'])\n",
    "        newrow.append(row['Version'])\n",
    "        newrow.append(row['Rating'])\n",
    "        newrow.append(row['Date'])\n",
    "        newrow.append('a')\n",
    "        newrow.append(row['Subject'])\n",
    "            \n",
    "        newrow.append(sentence)\n",
    "        \n",
    "        data_sent_split.append(newrow)\n",
    "        "
   ]
  },
  {
   "cell_type": "code",
   "execution_count": 7,
   "metadata": {},
   "outputs": [],
   "source": [
    "df_sent = pd.DataFrame(data_sent_split, columns = ['Review ID', 'Version', 'Rating', 'Date', 'Aspect', 'Subject', 'Body']) "
   ]
  },
  {
   "cell_type": "code",
   "execution_count": 8,
   "metadata": {},
   "outputs": [
    {
     "data": {
      "text/html": [
       "<div>\n",
       "<style scoped>\n",
       "    .dataframe tbody tr th:only-of-type {\n",
       "        vertical-align: middle;\n",
       "    }\n",
       "\n",
       "    .dataframe tbody tr th {\n",
       "        vertical-align: top;\n",
       "    }\n",
       "\n",
       "    .dataframe thead th {\n",
       "        text-align: right;\n",
       "    }\n",
       "</style>\n",
       "<table border=\"1\" class=\"dataframe\">\n",
       "  <thead>\n",
       "    <tr style=\"text-align: right;\">\n",
       "      <th></th>\n",
       "      <th>Review ID</th>\n",
       "      <th>Version</th>\n",
       "      <th>Rating</th>\n",
       "      <th>Date</th>\n",
       "      <th>Aspect</th>\n",
       "      <th>Subject</th>\n",
       "      <th>Body</th>\n",
       "    </tr>\n",
       "  </thead>\n",
       "  <tbody>\n",
       "    <tr>\n",
       "      <td>0</td>\n",
       "      <td>5.467988e+09</td>\n",
       "      <td>20.01.6</td>\n",
       "      <td>1</td>\n",
       "      <td>2020-01-31</td>\n",
       "      <td>a</td>\n",
       "      <td>Shiny useless tool</td>\n",
       "      <td>This app looks awesome.</td>\n",
       "    </tr>\n",
       "    <tr>\n",
       "      <td>1</td>\n",
       "      <td>5.467988e+09</td>\n",
       "      <td>20.01.6</td>\n",
       "      <td>1</td>\n",
       "      <td>2020-01-31</td>\n",
       "      <td>a</td>\n",
       "      <td>Shiny useless tool</td>\n",
       "      <td>Very well thought out design and it appears th...</td>\n",
       "    </tr>\n",
       "    <tr>\n",
       "      <td>2</td>\n",
       "      <td>5.467988e+09</td>\n",
       "      <td>20.01.6</td>\n",
       "      <td>1</td>\n",
       "      <td>2020-01-31</td>\n",
       "      <td>a</td>\n",
       "      <td>Shiny useless tool</td>\n",
       "      <td>Not so.</td>\n",
       "    </tr>\n",
       "    <tr>\n",
       "      <td>3</td>\n",
       "      <td>5.467988e+09</td>\n",
       "      <td>20.01.6</td>\n",
       "      <td>1</td>\n",
       "      <td>2020-01-31</td>\n",
       "      <td>a</td>\n",
       "      <td>Shiny useless tool</td>\n",
       "      <td>I have used it mostly for categorizing expenses.</td>\n",
       "    </tr>\n",
       "    <tr>\n",
       "      <td>4</td>\n",
       "      <td>5.467988e+09</td>\n",
       "      <td>20.01.6</td>\n",
       "      <td>1</td>\n",
       "      <td>2020-01-31</td>\n",
       "      <td>a</td>\n",
       "      <td>Shiny useless tool</td>\n",
       "      <td>I was trying to run a report, but nothing real...</td>\n",
       "    </tr>\n",
       "  </tbody>\n",
       "</table>\n",
       "</div>"
      ],
      "text/plain": [
       "      Review ID  Version  Rating       Date Aspect             Subject  \\\n",
       "0  5.467988e+09  20.01.6       1 2020-01-31      a  Shiny useless tool   \n",
       "1  5.467988e+09  20.01.6       1 2020-01-31      a  Shiny useless tool   \n",
       "2  5.467988e+09  20.01.6       1 2020-01-31      a  Shiny useless tool   \n",
       "3  5.467988e+09  20.01.6       1 2020-01-31      a  Shiny useless tool   \n",
       "4  5.467988e+09  20.01.6       1 2020-01-31      a  Shiny useless tool   \n",
       "\n",
       "                                                Body  \n",
       "0                            This app looks awesome.  \n",
       "1  Very well thought out design and it appears th...  \n",
       "2                                            Not so.  \n",
       "3   I have used it mostly for categorizing expenses.  \n",
       "4  I was trying to run a report, but nothing real...  "
      ]
     },
     "execution_count": 8,
     "metadata": {},
     "output_type": "execute_result"
    }
   ],
   "source": [
    "df_sent.head()"
   ]
  },
  {
   "cell_type": "code",
   "execution_count": 9,
   "metadata": {},
   "outputs": [],
   "source": [
    "df_sent.to_excel(\"../data/reviewtosentences/QBO_IOS_ReviewToSentences.xlsx\", sheet_name='Review Text') "
   ]
  },
  {
   "cell_type": "code",
   "execution_count": null,
   "metadata": {},
   "outputs": [],
   "source": []
  }
 ],
 "metadata": {
  "kernelspec": {
   "display_name": "Python 3",
   "language": "python",
   "name": "python3"
  },
  "language_info": {
   "codemirror_mode": {
    "name": "ipython",
    "version": 3
   },
   "file_extension": ".py",
   "mimetype": "text/x-python",
   "name": "python",
   "nbconvert_exporter": "python",
   "pygments_lexer": "ipython3",
   "version": "3.7.4"
  }
 },
 "nbformat": 4,
 "nbformat_minor": 2
}
