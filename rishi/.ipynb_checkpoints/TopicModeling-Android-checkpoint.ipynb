{
 "cells": [
  {
   "cell_type": "code",
   "execution_count": 1,
   "metadata": {},
   "outputs": [
    {
     "name": "stderr",
     "output_type": "stream",
     "text": [
      "[nltk_data] Downloading package stopwords to\n",
      "[nltk_data]     /home/rmajumder/nltk_data...\n",
      "[nltk_data]   Unzipping corpora/stopwords.zip.\n"
     ]
    },
    {
     "data": {
      "text/plain": [
       "True"
      ]
     },
     "execution_count": 1,
     "metadata": {},
     "output_type": "execute_result"
    }
   ],
   "source": [
    "import nltk\n",
    "from nltk import FreqDist\n",
    "nltk.download('stopwords') # run this one time"
   ]
  },
  {
   "cell_type": "code",
   "execution_count": 8,
   "metadata": {},
   "outputs": [],
   "source": [
    "import pandas as pd\n",
    "pd.set_option(\"display.max_colwidth\", 200)\n",
    "import numpy as np\n",
    "import re\n",
    "import spacy\n",
    "\n",
    "import gensim\n",
    "from gensim import corpora\n",
    "\n",
    "# libraries for visualization\n",
    "import pyLDAvis\n",
    "import pyLDAvis.gensim\n",
    "import matplotlib.pyplot as plt\n",
    "import seaborn as sns\n",
    "%matplotlib inline"
   ]
  },
  {
   "cell_type": "code",
   "execution_count": 21,
   "metadata": {},
   "outputs": [],
   "source": [
    "df = pd.read_excel('./data/ios.xlsx', sheet_name='Export Reviews')"
   ]
  },
  {
   "cell_type": "code",
   "execution_count": 22,
   "metadata": {},
   "outputs": [
    {
     "data": {
      "text/html": [
       "<div>\n",
       "<style scoped>\n",
       "    .dataframe tbody tr th:only-of-type {\n",
       "        vertical-align: middle;\n",
       "    }\n",
       "\n",
       "    .dataframe tbody tr th {\n",
       "        vertical-align: top;\n",
       "    }\n",
       "\n",
       "    .dataframe thead th {\n",
       "        text-align: right;\n",
       "    }\n",
       "</style>\n",
       "<table border=\"1\" class=\"dataframe\">\n",
       "  <thead>\n",
       "    <tr style=\"text-align: right;\">\n",
       "      <th></th>\n",
       "      <th>App</th>\n",
       "      <th>Store</th>\n",
       "      <th>App ID</th>\n",
       "      <th>Review ID</th>\n",
       "      <th>Country</th>\n",
       "      <th>Version</th>\n",
       "      <th>Rating</th>\n",
       "      <th>Date</th>\n",
       "      <th>Author</th>\n",
       "      <th>Subject</th>\n",
       "      <th>...</th>\n",
       "      <th>Translated Subject</th>\n",
       "      <th>Translated Body</th>\n",
       "      <th>Sentiment</th>\n",
       "      <th>Device</th>\n",
       "      <th>Language</th>\n",
       "      <th>OS Version</th>\n",
       "      <th>Reply URL</th>\n",
       "      <th>Topics</th>\n",
       "      <th>Custom Topics</th>\n",
       "      <th>Tags</th>\n",
       "    </tr>\n",
       "  </thead>\n",
       "  <tbody>\n",
       "    <tr>\n",
       "      <td>0</td>\n",
       "      <td>QuickBooks Accounting</td>\n",
       "      <td>iOS</td>\n",
       "      <td>584606479</td>\n",
       "      <td>5.467988e+09</td>\n",
       "      <td>USA</td>\n",
       "      <td>20.01.6</td>\n",
       "      <td>1</td>\n",
       "      <td>2020-01-31</td>\n",
       "      <td>NanaHermanson</td>\n",
       "      <td>Shiny useless tool</td>\n",
       "      <td>...</td>\n",
       "      <td>NaN</td>\n",
       "      <td>NaN</td>\n",
       "      <td>negative</td>\n",
       "      <td>NaN</td>\n",
       "      <td>English</td>\n",
       "      <td>NaN</td>\n",
       "      <td>https://app.appbot.co/apps/311455-quickbooks-accounting/reviews/1532804347/reply</td>\n",
       "      <td>[\"Advertising\", \"Bugs\", \"Design &amp; UX\", \"Dissatisfied users\", \"Customer Support\", \"Use cases\", \"Video\"]</td>\n",
       "      <td>[\"Ease of Use\"]</td>\n",
       "      <td>[]</td>\n",
       "    </tr>\n",
       "    <tr>\n",
       "      <td>1</td>\n",
       "      <td>QuickBooks Accounting</td>\n",
       "      <td>iOS</td>\n",
       "      <td>584606479</td>\n",
       "      <td>5.464235e+09</td>\n",
       "      <td>Canada</td>\n",
       "      <td>20.01.5</td>\n",
       "      <td>1</td>\n",
       "      <td>2020-01-30</td>\n",
       "      <td>Tugboat55</td>\n",
       "      <td>Latest app update</td>\n",
       "      <td>...</td>\n",
       "      <td>NaN</td>\n",
       "      <td>NaN</td>\n",
       "      <td>negative</td>\n",
       "      <td>NaN</td>\n",
       "      <td>English</td>\n",
       "      <td>NaN</td>\n",
       "      <td>https://app.appbot.co/apps/311455-quickbooks-accounting/reviews/1531541744/reply</td>\n",
       "      <td>[\"Bugs\", \"Feature Requests\", \"Dissatisfied users\"]</td>\n",
       "      <td>[]</td>\n",
       "      <td>[]</td>\n",
       "    </tr>\n",
       "    <tr>\n",
       "      <td>2</td>\n",
       "      <td>QuickBooks Accounting</td>\n",
       "      <td>iOS</td>\n",
       "      <td>584606479</td>\n",
       "      <td>5.467098e+09</td>\n",
       "      <td>USA</td>\n",
       "      <td>20.01.5</td>\n",
       "      <td>3</td>\n",
       "      <td>2020-01-30</td>\n",
       "      <td>scholarbev</td>\n",
       "      <td>App closes out while entering expenses</td>\n",
       "      <td>...</td>\n",
       "      <td>NaN</td>\n",
       "      <td>NaN</td>\n",
       "      <td>negative</td>\n",
       "      <td>NaN</td>\n",
       "      <td>English</td>\n",
       "      <td>NaN</td>\n",
       "      <td>https://app.appbot.co/apps/311455-quickbooks-accounting/reviews/1532312700/reply</td>\n",
       "      <td>[\"Bugs\", \"Frequency\", \"Pricing\", \"Customer Support\"]</td>\n",
       "      <td>[\"FDX Filter\"]</td>\n",
       "      <td>[]</td>\n",
       "    </tr>\n",
       "    <tr>\n",
       "      <td>3</td>\n",
       "      <td>QuickBooks Accounting</td>\n",
       "      <td>iOS</td>\n",
       "      <td>584606479</td>\n",
       "      <td>5.466985e+09</td>\n",
       "      <td>USA</td>\n",
       "      <td>20.01.5</td>\n",
       "      <td>5</td>\n",
       "      <td>2020-01-30</td>\n",
       "      <td>SOSA EL DINERO</td>\n",
       "      <td>Life saver</td>\n",
       "      <td>...</td>\n",
       "      <td>NaN</td>\n",
       "      <td>NaN</td>\n",
       "      <td>positive</td>\n",
       "      <td>NaN</td>\n",
       "      <td>English</td>\n",
       "      <td>NaN</td>\n",
       "      <td>https://app.appbot.co/apps/311455-quickbooks-accounting/reviews/1532312797/reply</td>\n",
       "      <td>[\"Design &amp; UX\", \"Performance\", \"Satisfied users\", \"Social &amp; Collaboration\"]</td>\n",
       "      <td>[]</td>\n",
       "      <td>[]</td>\n",
       "    </tr>\n",
       "    <tr>\n",
       "      <td>4</td>\n",
       "      <td>QuickBooks Accounting</td>\n",
       "      <td>iOS</td>\n",
       "      <td>584606479</td>\n",
       "      <td>5.467691e+09</td>\n",
       "      <td>USA</td>\n",
       "      <td>20.01.6</td>\n",
       "      <td>5</td>\n",
       "      <td>2020-01-30</td>\n",
       "      <td>Sra. Linda</td>\n",
       "      <td>Small business</td>\n",
       "      <td>...</td>\n",
       "      <td>NaN</td>\n",
       "      <td>NaN</td>\n",
       "      <td>positive</td>\n",
       "      <td>NaN</td>\n",
       "      <td>English</td>\n",
       "      <td>NaN</td>\n",
       "      <td>https://app.appbot.co/apps/311455-quickbooks-accounting/reviews/1532721496/reply</td>\n",
       "      <td>[\"Satisfied users\"]</td>\n",
       "      <td>[]</td>\n",
       "      <td>[]</td>\n",
       "    </tr>\n",
       "  </tbody>\n",
       "</table>\n",
       "<p>5 rows × 21 columns</p>\n",
       "</div>"
      ],
      "text/plain": [
       "                     App Store     App ID     Review ID Country  Version  \\\n",
       "0  QuickBooks Accounting   iOS  584606479  5.467988e+09     USA  20.01.6   \n",
       "1  QuickBooks Accounting   iOS  584606479  5.464235e+09  Canada  20.01.5   \n",
       "2  QuickBooks Accounting   iOS  584606479  5.467098e+09     USA  20.01.5   \n",
       "3  QuickBooks Accounting   iOS  584606479  5.466985e+09     USA  20.01.5   \n",
       "4  QuickBooks Accounting   iOS  584606479  5.467691e+09     USA  20.01.6   \n",
       "\n",
       "   Rating       Date          Author                                 Subject  \\\n",
       "0       1 2020-01-31   NanaHermanson                      Shiny useless tool   \n",
       "1       1 2020-01-30       Tugboat55                       Latest app update   \n",
       "2       3 2020-01-30      scholarbev  App closes out while entering expenses   \n",
       "3       5 2020-01-30  SOSA EL DINERO                              Life saver   \n",
       "4       5 2020-01-30      Sra. Linda                          Small business   \n",
       "\n",
       "   ... Translated Subject Translated Body Sentiment Device  Language  \\\n",
       "0  ...                NaN             NaN  negative    NaN   English   \n",
       "1  ...                NaN             NaN  negative    NaN   English   \n",
       "2  ...                NaN             NaN  negative    NaN   English   \n",
       "3  ...                NaN             NaN  positive    NaN   English   \n",
       "4  ...                NaN             NaN  positive    NaN   English   \n",
       "\n",
       "  OS Version  \\\n",
       "0        NaN   \n",
       "1        NaN   \n",
       "2        NaN   \n",
       "3        NaN   \n",
       "4        NaN   \n",
       "\n",
       "                                                                          Reply URL  \\\n",
       "0  https://app.appbot.co/apps/311455-quickbooks-accounting/reviews/1532804347/reply   \n",
       "1  https://app.appbot.co/apps/311455-quickbooks-accounting/reviews/1531541744/reply   \n",
       "2  https://app.appbot.co/apps/311455-quickbooks-accounting/reviews/1532312700/reply   \n",
       "3  https://app.appbot.co/apps/311455-quickbooks-accounting/reviews/1532312797/reply   \n",
       "4  https://app.appbot.co/apps/311455-quickbooks-accounting/reviews/1532721496/reply   \n",
       "\n",
       "                                                                                                   Topics  \\\n",
       "0  [\"Advertising\", \"Bugs\", \"Design & UX\", \"Dissatisfied users\", \"Customer Support\", \"Use cases\", \"Video\"]   \n",
       "1                                                      [\"Bugs\", \"Feature Requests\", \"Dissatisfied users\"]   \n",
       "2                                                    [\"Bugs\", \"Frequency\", \"Pricing\", \"Customer Support\"]   \n",
       "3                             [\"Design & UX\", \"Performance\", \"Satisfied users\", \"Social & Collaboration\"]   \n",
       "4                                                                                     [\"Satisfied users\"]   \n",
       "\n",
       "     Custom Topics Tags  \n",
       "0  [\"Ease of Use\"]   []  \n",
       "1               []   []  \n",
       "2   [\"FDX Filter\"]   []  \n",
       "3               []   []  \n",
       "4               []   []  \n",
       "\n",
       "[5 rows x 21 columns]"
      ]
     },
     "execution_count": 22,
     "metadata": {},
     "output_type": "execute_result"
    }
   ],
   "source": [
    "df.head()"
   ]
  },
  {
   "cell_type": "code",
   "execution_count": 23,
   "metadata": {},
   "outputs": [
    {
     "data": {
      "text/plain": [
       "Index(['App', 'Store', 'App ID', 'Review ID', 'Country', 'Version', 'Rating',\n",
       "       'Date', 'Author', 'Subject', 'Body', 'Translated Subject',\n",
       "       'Translated Body', 'Sentiment', 'Device', 'Language', 'OS Version',\n",
       "       'Reply URL', 'Topics', 'Custom Topics', 'Tags'],\n",
       "      dtype='object')"
      ]
     },
     "execution_count": 23,
     "metadata": {},
     "output_type": "execute_result"
    }
   ],
   "source": [
    "df.columns"
   ]
  },
  {
   "cell_type": "code",
   "execution_count": 24,
   "metadata": {},
   "outputs": [],
   "source": [
    "dfs = df[['Review ID', 'Country', 'Version', 'Rating', 'Date', 'Author', 'Subject', 'Body', 'Sentiment', 'Language']]"
   ]
  },
  {
   "cell_type": "code",
   "execution_count": 25,
   "metadata": {},
   "outputs": [
    {
     "data": {
      "text/html": [
       "<div>\n",
       "<style scoped>\n",
       "    .dataframe tbody tr th:only-of-type {\n",
       "        vertical-align: middle;\n",
       "    }\n",
       "\n",
       "    .dataframe tbody tr th {\n",
       "        vertical-align: top;\n",
       "    }\n",
       "\n",
       "    .dataframe thead th {\n",
       "        text-align: right;\n",
       "    }\n",
       "</style>\n",
       "<table border=\"1\" class=\"dataframe\">\n",
       "  <thead>\n",
       "    <tr style=\"text-align: right;\">\n",
       "      <th></th>\n",
       "      <th>Review ID</th>\n",
       "      <th>Country</th>\n",
       "      <th>Version</th>\n",
       "      <th>Rating</th>\n",
       "      <th>Date</th>\n",
       "      <th>Author</th>\n",
       "      <th>Subject</th>\n",
       "      <th>Body</th>\n",
       "      <th>Sentiment</th>\n",
       "      <th>Language</th>\n",
       "    </tr>\n",
       "  </thead>\n",
       "  <tbody>\n",
       "    <tr>\n",
       "      <td>0</td>\n",
       "      <td>5.467988e+09</td>\n",
       "      <td>USA</td>\n",
       "      <td>20.01.6</td>\n",
       "      <td>1</td>\n",
       "      <td>2020-01-31</td>\n",
       "      <td>NanaHermanson</td>\n",
       "      <td>Shiny useless tool</td>\n",
       "      <td>This app looks awesome.  Very well thought out design and it appears that most of the functions are right at my fingertips.  Not so.  I have used it mostly for categorizing expenses.  I was trying...</td>\n",
       "      <td>negative</td>\n",
       "      <td>English</td>\n",
       "    </tr>\n",
       "    <tr>\n",
       "      <td>1</td>\n",
       "      <td>5.464235e+09</td>\n",
       "      <td>Canada</td>\n",
       "      <td>20.01.5</td>\n",
       "      <td>1</td>\n",
       "      <td>2020-01-30</td>\n",
       "      <td>Tugboat55</td>\n",
       "      <td>Latest app update</td>\n",
       "      <td>This update is terrible basically unusable please change it back ASAP</td>\n",
       "      <td>negative</td>\n",
       "      <td>English</td>\n",
       "    </tr>\n",
       "    <tr>\n",
       "      <td>2</td>\n",
       "      <td>5.467098e+09</td>\n",
       "      <td>USA</td>\n",
       "      <td>20.01.5</td>\n",
       "      <td>3</td>\n",
       "      <td>2020-01-30</td>\n",
       "      <td>scholarbev</td>\n",
       "      <td>App closes out while entering expenses</td>\n",
       "      <td>The majority of the time this app is wonderful. On a regular basis it will completely close out and I will lose the transaction I’m in the middle of. \\nI’ve continually notified Intuit about this ...</td>\n",
       "      <td>negative</td>\n",
       "      <td>English</td>\n",
       "    </tr>\n",
       "    <tr>\n",
       "      <td>3</td>\n",
       "      <td>5.466985e+09</td>\n",
       "      <td>USA</td>\n",
       "      <td>20.01.5</td>\n",
       "      <td>5</td>\n",
       "      <td>2020-01-30</td>\n",
       "      <td>SOSA EL DINERO</td>\n",
       "      <td>Life saver</td>\n",
       "      <td>One my favorite apps to use while working. I’m on it like a social media page. Thanks quick books.</td>\n",
       "      <td>positive</td>\n",
       "      <td>English</td>\n",
       "    </tr>\n",
       "    <tr>\n",
       "      <td>4</td>\n",
       "      <td>5.467691e+09</td>\n",
       "      <td>USA</td>\n",
       "      <td>20.01.6</td>\n",
       "      <td>5</td>\n",
       "      <td>2020-01-30</td>\n",
       "      <td>Sra. Linda</td>\n",
       "      <td>Small business</td>\n",
       "      <td>This absolutely works perfectly without difficulty.</td>\n",
       "      <td>positive</td>\n",
       "      <td>English</td>\n",
       "    </tr>\n",
       "  </tbody>\n",
       "</table>\n",
       "</div>"
      ],
      "text/plain": [
       "      Review ID Country  Version  Rating       Date          Author  \\\n",
       "0  5.467988e+09     USA  20.01.6       1 2020-01-31   NanaHermanson   \n",
       "1  5.464235e+09  Canada  20.01.5       1 2020-01-30       Tugboat55   \n",
       "2  5.467098e+09     USA  20.01.5       3 2020-01-30      scholarbev   \n",
       "3  5.466985e+09     USA  20.01.5       5 2020-01-30  SOSA EL DINERO   \n",
       "4  5.467691e+09     USA  20.01.6       5 2020-01-30      Sra. Linda   \n",
       "\n",
       "                                  Subject  \\\n",
       "0                      Shiny useless tool   \n",
       "1                       Latest app update   \n",
       "2  App closes out while entering expenses   \n",
       "3                              Life saver   \n",
       "4                          Small business   \n",
       "\n",
       "                                                                                                                                                                                                      Body  \\\n",
       "0  This app looks awesome.  Very well thought out design and it appears that most of the functions are right at my fingertips.  Not so.  I have used it mostly for categorizing expenses.  I was trying...   \n",
       "1                                                                                                                                    This update is terrible basically unusable please change it back ASAP   \n",
       "2  The majority of the time this app is wonderful. On a regular basis it will completely close out and I will lose the transaction I’m in the middle of. \\nI’ve continually notified Intuit about this ...   \n",
       "3                                                                                                       One my favorite apps to use while working. I’m on it like a social media page. Thanks quick books.   \n",
       "4                                                                                                                                                      This absolutely works perfectly without difficulty.   \n",
       "\n",
       "  Sentiment Language  \n",
       "0  negative  English  \n",
       "1  negative  English  \n",
       "2  negative  English  \n",
       "3  positive  English  \n",
       "4  positive  English  "
      ]
     },
     "execution_count": 25,
     "metadata": {},
     "output_type": "execute_result"
    }
   ],
   "source": [
    "dfs.head()"
   ]
  },
  {
   "cell_type": "code",
   "execution_count": 26,
   "metadata": {},
   "outputs": [],
   "source": [
    "# function to plot most frequent terms\n",
    "def freq_words(x, terms = 30):\n",
    "    all_words = ' '.join([text for text in x])\n",
    "    all_words = all_words.split()\n",
    "\n",
    "    fdist = FreqDist(all_words)\n",
    "    words_df = pd.DataFrame({'word':list(fdist.keys()), 'count':list(fdist.values())})\n",
    "\n",
    "    # selecting top 20 most frequent words\n",
    "    d = words_df.nlargest(columns=\"count\", n = terms) \n",
    "    plt.figure(figsize=(20,5))\n",
    "    ax = sns.barplot(data=d, x= \"word\", y = \"count\")\n",
    "    ax.set(ylabel = 'Count')\n",
    "    plt.show()"
   ]
  },
  {
   "cell_type": "code",
   "execution_count": 27,
   "metadata": {},
   "outputs": [
    {
     "data": {
      "image/png": "[encoded data removed]",
      "text/plain": [
       "<Figure size 1440x360 with 1 Axes>"
      ]
     },
     "metadata": {
      "needs_background": "light"
     },
     "output_type": "display_data"
    }
   ],
   "source": [
    "freq_words(dfs['Body'])"
   ]
  },
  {
   "cell_type": "code",
   "execution_count": 28,
   "metadata": {},
   "outputs": [],
   "source": [
    "# remove unwanted characters, numbers and symbols\n",
    "df['Body'] = df['Body'].str.replace(\"[^a-zA-Z#]\", \" \")"
   ]
  },
  {
   "cell_type": "code",
   "execution_count": 29,
   "metadata": {},
   "outputs": [],
   "source": [
    "from nltk.corpus import stopwords\n",
    "stop_words = stopwords.words('english')"
   ]
  },
  {
   "cell_type": "code",
   "execution_count": 30,
   "metadata": {},
   "outputs": [],
   "source": [
    "# function to remove stopwords\n",
    "def remove_stopwords(rev):\n",
    "    rev_new = \" \".join([i for i in rev if i not in stop_words])\n",
    "    return rev_new\n",
    "\n",
    "# remove short words (length < 3)\n",
    "df['Body'] = df['Body'].apply(lambda x: ' '.join([w for w in x.split() if len(w)>2]))\n",
    "\n",
    "# remove stopwords from the text\n",
    "reviews = [remove_stopwords(r.split()) for r in df['Body']]\n",
    "\n",
    "# make entire text lowercase\n",
    "reviews = [r.lower() for r in reviews]"
   ]
  },
  {
   "cell_type": "code",
   "execution_count": 31,
   "metadata": {},
   "outputs": [
    {
     "data": {
      "image/png": "[encoded data removed]",
      "text/plain": [
       "<Figure size 1440x360 with 1 Axes>"
      ]
     },
     "metadata": {
      "needs_background": "light"
     },
     "output_type": "display_data"
    }
   ],
   "source": [
    "freq_words(reviews, 35)"
   ]
  },
  {
   "cell_type": "code",
   "execution_count": 32,
   "metadata": {},
   "outputs": [
    {
     "name": "stdout",
     "output_type": "stream",
     "text": [
      "Collecting en_core_web_sm==2.2.5\n",
      "\u001b[?25l  Downloading https://github.com/explosion/spacy-models/releases/download/en_core_web_sm-2.2.5/en_core_web_sm-2.2.5.tar.gz (12.0MB)\n",
      "\u001b[K     |████████████████████████████████| 12.0MB 579kB/s eta 0:00:01\n",
      "\u001b[?25hRequirement already satisfied: spacy>=2.2.2 in /home/rmajumder/anaconda3/lib/python3.7/site-packages (from en_core_web_sm==2.2.5) (2.2.3)\n",
      "Requirement already satisfied: setuptools in /home/rmajumder/anaconda3/lib/python3.7/site-packages (from spacy>=2.2.2->en_core_web_sm==2.2.5) (41.4.0)\n",
      "Requirement already satisfied: plac<1.2.0,>=0.9.6 in /home/rmajumder/anaconda3/lib/python3.7/site-packages (from spacy>=2.2.2->en_core_web_sm==2.2.5) (1.1.3)\n",
      "Requirement already satisfied: srsly<1.1.0,>=0.1.0 in /home/rmajumder/anaconda3/lib/python3.7/site-packages (from spacy>=2.2.2->en_core_web_sm==2.2.5) (1.0.1)\n",
      "Requirement already satisfied: thinc<7.4.0,>=7.3.0 in /home/rmajumder/anaconda3/lib/python3.7/site-packages (from spacy>=2.2.2->en_core_web_sm==2.2.5) (7.3.1)\n",
      "Requirement already satisfied: murmurhash<1.1.0,>=0.28.0 in /home/rmajumder/anaconda3/lib/python3.7/site-packages (from spacy>=2.2.2->en_core_web_sm==2.2.5) (1.0.2)\n",
      "Requirement already satisfied: numpy>=1.15.0 in /home/rmajumder/anaconda3/lib/python3.7/site-packages (from spacy>=2.2.2->en_core_web_sm==2.2.5) (1.17.2)\n",
      "Requirement already satisfied: requests<3.0.0,>=2.13.0 in /home/rmajumder/anaconda3/lib/python3.7/site-packages (from spacy>=2.2.2->en_core_web_sm==2.2.5) (2.22.0)\n",
      "Requirement already satisfied: catalogue<1.1.0,>=0.0.7 in /home/rmajumder/anaconda3/lib/python3.7/site-packages (from spacy>=2.2.2->en_core_web_sm==2.2.5) (1.0.0)\n",
      "Requirement already satisfied: blis<0.5.0,>=0.4.0 in /home/rmajumder/anaconda3/lib/python3.7/site-packages (from spacy>=2.2.2->en_core_web_sm==2.2.5) (0.4.1)\n",
      "Requirement already satisfied: preshed<3.1.0,>=3.0.2 in /home/rmajumder/anaconda3/lib/python3.7/site-packages (from spacy>=2.2.2->en_core_web_sm==2.2.5) (3.0.2)\n",
      "Requirement already satisfied: cymem<2.1.0,>=2.0.2 in /home/rmajumder/anaconda3/lib/python3.7/site-packages (from spacy>=2.2.2->en_core_web_sm==2.2.5) (2.0.3)\n",
      "Requirement already satisfied: wasabi<1.1.0,>=0.4.0 in /home/rmajumder/anaconda3/lib/python3.7/site-packages (from spacy>=2.2.2->en_core_web_sm==2.2.5) (0.6.0)\n",
      "Requirement already satisfied: tqdm<5.0.0,>=4.10.0 in /home/rmajumder/anaconda3/lib/python3.7/site-packages (from thinc<7.4.0,>=7.3.0->spacy>=2.2.2->en_core_web_sm==2.2.5) (4.36.1)\n",
      "Requirement already satisfied: urllib3!=1.25.0,!=1.25.1,<1.26,>=1.21.1 in /home/rmajumder/anaconda3/lib/python3.7/site-packages (from requests<3.0.0,>=2.13.0->spacy>=2.2.2->en_core_web_sm==2.2.5) (1.24.2)\n",
      "Requirement already satisfied: idna<2.9,>=2.5 in /home/rmajumder/anaconda3/lib/python3.7/site-packages (from requests<3.0.0,>=2.13.0->spacy>=2.2.2->en_core_web_sm==2.2.5) (2.8)\n",
      "Requirement already satisfied: certifi>=2017.4.17 in /home/rmajumder/anaconda3/lib/python3.7/site-packages (from requests<3.0.0,>=2.13.0->spacy>=2.2.2->en_core_web_sm==2.2.5) (2019.9.11)\n",
      "Requirement already satisfied: chardet<3.1.0,>=3.0.2 in /home/rmajumder/anaconda3/lib/python3.7/site-packages (from requests<3.0.0,>=2.13.0->spacy>=2.2.2->en_core_web_sm==2.2.5) (3.0.4)\n",
      "Requirement already satisfied: importlib-metadata>=0.20; python_version < \"3.8\" in /home/rmajumder/anaconda3/lib/python3.7/site-packages (from catalogue<1.1.0,>=0.0.7->spacy>=2.2.2->en_core_web_sm==2.2.5) (0.23)\n",
      "Requirement already satisfied: zipp>=0.5 in /home/rmajumder/anaconda3/lib/python3.7/site-packages (from importlib-metadata>=0.20; python_version < \"3.8\"->catalogue<1.1.0,>=0.0.7->spacy>=2.2.2->en_core_web_sm==2.2.5) (0.6.0)\n",
      "Requirement already satisfied: more-itertools in /home/rmajumder/anaconda3/lib/python3.7/site-packages (from zipp>=0.5->importlib-metadata>=0.20; python_version < \"3.8\"->catalogue<1.1.0,>=0.0.7->spacy>=2.2.2->en_core_web_sm==2.2.5) (7.2.0)\n",
      "Building wheels for collected packages: en-core-web-sm\n",
      "  Building wheel for en-core-web-sm (setup.py) ... \u001b[?25ldone\n",
      "\u001b[?25h  Created wheel for en-core-web-sm: filename=en_core_web_sm-2.2.5-cp37-none-any.whl size=12011740 sha256=4ba1f1b5e94a4090ef76a5a4bccbdf0fcd1c8b3a90a8850ba2beb5143bd74c31\n",
      "  Stored in directory: /tmp/pip-ephem-wheel-cache-o01ih27k/wheels/6a/47/fb/6b5a0b8906d8e8779246c67d4658fd8a544d4a03a75520197a\n",
      "Successfully built en-core-web-sm\n",
      "Installing collected packages: en-core-web-sm\n",
      "Successfully installed en-core-web-sm-2.2.5\n",
      "\u001b[33mWARNING: You are using pip version 19.3.1; however, version 20.0.2 is available.\n",
      "You should consider upgrading via the 'pip install --upgrade pip' command.\u001b[0m\n",
      "\u001b[38;5;2m✔ Download and installation successful\u001b[0m\n",
      "You can now load the model via spacy.load('en_core_web_sm')\n",
      "\u001b[38;5;2m✔ Linking successful\u001b[0m\n",
      "/home/rmajumder/anaconda3/lib/python3.7/site-packages/en_core_web_sm -->\n",
      "/home/rmajumder/anaconda3/lib/python3.7/site-packages/spacy/data/en\n",
      "You can now load the model via spacy.load('en')\n"
     ]
    }
   ],
   "source": [
    "!python -m spacy download en # one time run"
   ]
  },
  {
   "cell_type": "code",
   "execution_count": 33,
   "metadata": {},
   "outputs": [],
   "source": [
    "nlp = spacy.load('en', disable=['parser', 'ner'])\n",
    "\n",
    "def lemmatization(texts, tags=['NOUN', 'ADJ']): # filter noun and adjective\n",
    "    output = []\n",
    "    for sent in texts:\n",
    "        doc = nlp(\" \".join(sent)) \n",
    "        output.append([token.lemma_ for token in doc if token.pos_ in tags])\n",
    "    return output"
   ]
  },
  {
   "cell_type": "code",
   "execution_count": 34,
   "metadata": {},
   "outputs": [
    {
     "name": "stdout",
     "output_type": "stream",
     "text": [
      "['this', 'update', 'terrible', 'basically', 'unusable', 'please', 'change', 'back', 'asap']\n"
     ]
    }
   ],
   "source": [
    "tokenized_reviews = pd.Series(reviews).apply(lambda x: x.split())\n",
    "print(tokenized_reviews[1])"
   ]
  },
  {
   "cell_type": "code",
   "execution_count": 35,
   "metadata": {},
   "outputs": [
    {
     "name": "stdout",
     "output_type": "stream",
     "text": [
      "['update', 'terrible', 'unusable']\n"
     ]
    }
   ],
   "source": [
    "reviews_2 = lemmatization(tokenized_reviews)\n",
    "print(reviews_2[1]) # print lemmatized review"
   ]
  },
  {
   "cell_type": "code",
   "execution_count": 36,
   "metadata": {},
   "outputs": [
    {
     "data": {
      "image/png": "[encoded data removed]",
      "text/plain": [
       "<Figure size 1440x360 with 1 Axes>"
      ]
     },
     "metadata": {
      "needs_background": "light"
     },
     "output_type": "display_data"
    }
   ],
   "source": [
    "reviews_3 = []\n",
    "for i in range(len(reviews_2)):\n",
    "    reviews_3.append(' '.join(reviews_2[i]))\n",
    "\n",
    "df['reviews'] = reviews_3\n",
    "\n",
    "freq_words(df['reviews'], 35)"
   ]
  },
  {
   "cell_type": "code",
   "execution_count": null,
   "metadata": {},
   "outputs": [],
   "source": []
  },
  {
   "cell_type": "code",
   "execution_count": 37,
   "metadata": {},
   "outputs": [],
   "source": [
    "dictionary = corpora.Dictionary(reviews_2)"
   ]
  },
  {
   "cell_type": "code",
   "execution_count": 38,
   "metadata": {},
   "outputs": [],
   "source": [
    "doc_term_matrix = [dictionary.doc2bow(rev) for rev in reviews_2]"
   ]
  },
  {
   "cell_type": "code",
   "execution_count": 39,
   "metadata": {},
   "outputs": [],
   "source": [
    "# Creating the object for LDA model using gensim library\n",
    "LDA = gensim.models.ldamodel.LdaModel\n",
    "\n",
    "# Build LDA model\n",
    "lda_model = LDA(corpus=doc_term_matrix, id2word=dictionary, num_topics=7, random_state=100,\n",
    "                chunksize=1000, passes=50)"
   ]
  },
  {
   "cell_type": "code",
   "execution_count": 40,
   "metadata": {},
   "outputs": [
    {
     "data": {
      "text/plain": [
       "[(0,\n",
       "  '0.100*\"business\" + 0.052*\"small\" + 0.035*\"quickbook\" + 0.029*\"user\" + 0.024*\"app\" + 0.023*\"year\" + 0.021*\"great\" + 0.019*\"company\" + 0.017*\"friendly\" + 0.014*\"owner\"'),\n",
       " (1,\n",
       "  '0.038*\"expense\" + 0.032*\"receipt\" + 0.029*\"app\" + 0.023*\"sale\" + 0.021*\"invoice\" + 0.020*\"customer\" + 0.018*\"mobile\" + 0.017*\"item\" + 0.014*\"order\" + 0.014*\"tax\"'),\n",
       " (2,\n",
       "  '0.094*\"version\" + 0.062*\"app\" + 0.060*\"online\" + 0.040*\"desktop\" + 0.025*\"ipad\" + 0.022*\"functionality\" + 0.019*\"feature\" + 0.018*\"quickbook\" + 0.018*\"good\" + 0.016*\"web\"'),\n",
       " (3,\n",
       "  '0.092*\"easy\" + 0.068*\"use\" + 0.049*\"love\" + 0.038*\"app\" + 0.038*\"invoice\" + 0.033*\"business\" + 0.031*\"book\" + 0.028*\"quick\" + 0.026*\"time\" + 0.023*\"great\"'),\n",
       " (4,\n",
       "  '0.066*\"service\" + 0.045*\"customer\" + 0.031*\"time\" + 0.026*\"month\" + 0.021*\"phone\" + 0.020*\"support\" + 0.019*\"subscription\" + 0.018*\"hour\" + 0.015*\"money\" + 0.014*\"help\"'),\n",
       " (5,\n",
       "  '0.060*\"app\" + 0.033*\"invoice\" + 0.032*\"time\" + 0.021*\"customer\" + 0.020*\"update\" + 0.019*\"account\" + 0.017*\"payment\" + 0.014*\"work\" + 0.012*\"issue\" + 0.012*\"email\"'),\n",
       " (6,\n",
       "  '0.072*\"great\" + 0.048*\"good\" + 0.033*\"app\" + 0.027*\"account\" + 0.025*\"job\" + 0.023*\"software\" + 0.020*\"accounting\" + 0.020*\"work\" + 0.019*\"product\" + 0.019*\"thank\"')]"
      ]
     },
     "execution_count": 40,
     "metadata": {},
     "output_type": "execute_result"
    }
   ],
   "source": [
    "lda_model.print_topics()"
   ]
  },
  {
   "cell_type": "code",
   "execution_count": 41,
   "metadata": {},
   "outputs": [
    {
     "name": "stderr",
     "output_type": "stream",
     "text": [
      "/home/rmajumder/anaconda3/lib/python3.7/site-packages/pyLDAvis/_prepare.py:257: FutureWarning: Sorting because non-concatenation axis is not aligned. A future version\n",
      "of pandas will change to not sort by default.\n",
      "\n",
      "To accept the future behavior, pass 'sort=False'.\n",
      "\n",
      "To retain the current behavior and silence the warning, pass 'sort=True'.\n",
      "\n",
      "  return pd.concat([default_term_info] + list(topic_dfs))\n"
     ]
    },
    {
     "data": {
      "text/html": [
       "\n",
       "<link rel=\"stylesheet\" type=\"text/css\" href=\"https://cdn.rawgit.com/bmabey/pyLDAvis/files/ldavis.v1.0.0.css\">\n",
       "\n",
       "\n",
       "<div id=\"ldavis_el26151400584168154402575779440\"></div>\n",
       "<script type=\"text/javascript\">\n",
       "\n",
       "var ldavis_el26151400584168154402575779440_data = {\"mdsDat\": {\"x\": [0.13738289156536193, -0.04330703086735723, -0.016661150539667775, -0.21657409800618418, 0.2036801198442897, 0.14026592433880428, -0.20478665633524656], \"y\": [-0.03233058404751935, -0.00430574455208185, -0.2518961970102885, 0.10536864820259326, -0.05829616593208268, 0.24402079360523105, -0.002560750265851983], \"topics\": [1, 2, 3, 4, 5, 6, 7], \"cluster\": [1, 1, 1, 1, 1, 1, 1], \"Freq\": [27.613622665405273, 14.337089538574219, 14.311893463134766, 11.841561317443848, 11.759714126586914, 10.525105476379395, 9.611013412475586]}, \"tinfo\": {\"Category\": [\"Default\", \"Default\", \"Default\", \"Default\", \"Default\", \"Default\", \"Default\", \"Default\", \"Default\", \"Default\", \"Default\", \"Default\", \"Default\", \"Default\", \"Default\", \"Default\", \"Default\", \"Default\", \"Default\", \"Default\", \"Default\", \"Default\", \"Default\", \"Default\", \"Default\", \"Default\", \"Default\", \"Default\", \"Default\", \"Default\", \"Topic1\", \"Topic1\", \"Topic1\", \"Topic1\", \"Topic1\", \"Topic1\", \"Topic1\", \"Topic1\", \"Topic1\", \"Topic1\", \"Topic1\", \"Topic1\", \"Topic1\", \"Topic1\", \"Topic1\", \"Topic1\", \"Topic1\", \"Topic1\", \"Topic1\", \"Topic1\", \"Topic1\", \"Topic1\", \"Topic1\", \"Topic1\", \"Topic1\", \"Topic1\", \"Topic1\", \"Topic1\", \"Topic1\", \"Topic1\", \"Topic1\", \"Topic1\", \"Topic1\", \"Topic1\", \"Topic1\", \"Topic1\", \"Topic1\", \"Topic1\", \"Topic1\", \"Topic1\", \"Topic1\", \"Topic1\", \"Topic1\", \"Topic1\", \"Topic1\", \"Topic1\", \"Topic1\", \"Topic1\", \"Topic1\", \"Topic1\", \"Topic1\", \"Topic1\", \"Topic1\", \"Topic1\", \"Topic1\", \"Topic1\", \"Topic1\", \"Topic1\", \"Topic1\", \"Topic1\", \"Topic1\", \"Topic1\", \"Topic1\", \"Topic1\", \"Topic2\", \"Topic2\", \"Topic2\", \"Topic2\", \"Topic2\", \"Topic2\", \"Topic2\", \"Topic2\", \"Topic2\", \"Topic2\", \"Topic2\", \"Topic2\", \"Topic2\", \"Topic2\", \"Topic2\", \"Topic2\", \"Topic2\", \"Topic2\", \"Topic2\", \"Topic2\", \"Topic2\", \"Topic2\", \"Topic2\", \"Topic2\", \"Topic2\", \"Topic2\", \"Topic2\", \"Topic2\", \"Topic2\", \"Topic2\", \"Topic2\", \"Topic2\", \"Topic2\", \"Topic2\", \"Topic2\", \"Topic2\", \"Topic2\", \"Topic2\", \"Topic2\", \"Topic2\", \"Topic2\", \"Topic2\", \"Topic2\", \"Topic2\", \"Topic2\", \"Topic2\", \"Topic2\", \"Topic2\", \"Topic2\", \"Topic2\", \"Topic2\", \"Topic2\", \"Topic2\", \"Topic2\", \"Topic2\", \"Topic2\", \"Topic2\", \"Topic2\", \"Topic2\", \"Topic2\", \"Topic3\", \"Topic3\", \"Topic3\", \"Topic3\", \"Topic3\", \"Topic3\", \"Topic3\", \"Topic3\", \"Topic3\", \"Topic3\", \"Topic3\", \"Topic3\", \"Topic3\", \"Topic3\", \"Topic3\", \"Topic3\", \"Topic3\", \"Topic3\", \"Topic3\", \"Topic3\", \"Topic3\", \"Topic3\", \"Topic3\", \"Topic3\", \"Topic3\", \"Topic3\", \"Topic3\", \"Topic3\", \"Topic3\", \"Topic3\", \"Topic3\", \"Topic3\", \"Topic3\", \"Topic3\", \"Topic3\", \"Topic3\", \"Topic3\", \"Topic3\", \"Topic3\", \"Topic3\", \"Topic3\", \"Topic3\", \"Topic3\", \"Topic3\", \"Topic3\", \"Topic3\", \"Topic3\", \"Topic3\", \"Topic3\", \"Topic3\", \"Topic3\", \"Topic3\", \"Topic3\", \"Topic3\", \"Topic3\", \"Topic3\", \"Topic3\", \"Topic3\", \"Topic3\", \"Topic3\", \"Topic4\", \"Topic4\", \"Topic4\", \"Topic4\", \"Topic4\", \"Topic4\", \"Topic4\", \"Topic4\", \"Topic4\", \"Topic4\", \"Topic4\", \"Topic4\", \"Topic4\", \"Topic4\", \"Topic4\", \"Topic4\", \"Topic4\", \"Topic4\", \"Topic4\", \"Topic4\", \"Topic4\", \"Topic4\", \"Topic4\", \"Topic4\", \"Topic4\", \"Topic4\", \"Topic4\", \"Topic4\", \"Topic4\", \"Topic4\", \"Topic4\", \"Topic4\", \"Topic4\", \"Topic4\", \"Topic4\", \"Topic4\", \"Topic4\", \"Topic4\", \"Topic4\", \"Topic4\", \"Topic4\", \"Topic4\", \"Topic4\", \"Topic4\", \"Topic4\", \"Topic4\", \"Topic4\", \"Topic4\", \"Topic4\", \"Topic4\", \"Topic4\", \"Topic4\", \"Topic4\", \"Topic4\", \"Topic4\", \"Topic4\", \"Topic5\", \"Topic5\", \"Topic5\", \"Topic5\", \"Topic5\", \"Topic5\", \"Topic5\", \"Topic5\", \"Topic5\", \"Topic5\", \"Topic5\", \"Topic5\", \"Topic5\", \"Topic5\", \"Topic5\", \"Topic5\", \"Topic5\", \"Topic5\", \"Topic5\", \"Topic5\", \"Topic5\", \"Topic5\", \"Topic5\", \"Topic5\", \"Topic5\", \"Topic5\", \"Topic5\", \"Topic5\", \"Topic5\", \"Topic5\", \"Topic5\", \"Topic5\", \"Topic5\", \"Topic5\", \"Topic5\", \"Topic5\", \"Topic5\", \"Topic5\", \"Topic5\", \"Topic5\", \"Topic5\", \"Topic5\", \"Topic5\", \"Topic5\", \"Topic5\", \"Topic5\", \"Topic5\", \"Topic5\", \"Topic5\", \"Topic5\", \"Topic6\", \"Topic6\", \"Topic6\", \"Topic6\", \"Topic6\", \"Topic6\", \"Topic6\", \"Topic6\", \"Topic6\", \"Topic6\", \"Topic6\", \"Topic6\", \"Topic6\", \"Topic6\", \"Topic6\", \"Topic6\", \"Topic6\", \"Topic6\", \"Topic6\", \"Topic6\", \"Topic6\", \"Topic6\", \"Topic6\", \"Topic6\", \"Topic6\", \"Topic6\", \"Topic6\", \"Topic6\", \"Topic6\", \"Topic6\", \"Topic6\", \"Topic6\", \"Topic6\", \"Topic6\", \"Topic6\", \"Topic6\", \"Topic6\", \"Topic6\", \"Topic6\", \"Topic6\", \"Topic6\", \"Topic6\", \"Topic6\", \"Topic6\", \"Topic6\", \"Topic6\", \"Topic6\", \"Topic6\", \"Topic6\", \"Topic6\", \"Topic6\", \"Topic6\", \"Topic6\", \"Topic6\", \"Topic6\", \"Topic6\", \"Topic6\", \"Topic6\", \"Topic6\", \"Topic6\", \"Topic6\", \"Topic7\", \"Topic7\", \"Topic7\", \"Topic7\", \"Topic7\", \"Topic7\", \"Topic7\", \"Topic7\", \"Topic7\", \"Topic7\", \"Topic7\", \"Topic7\", \"Topic7\", \"Topic7\", \"Topic7\", \"Topic7\", \"Topic7\", \"Topic7\", \"Topic7\", \"Topic7\", \"Topic7\", \"Topic7\", \"Topic7\", \"Topic7\", \"Topic7\", \"Topic7\", \"Topic7\", \"Topic7\", \"Topic7\", \"Topic7\", \"Topic7\", \"Topic7\", \"Topic7\", \"Topic7\", \"Topic7\", \"Topic7\", \"Topic7\", \"Topic7\", \"Topic7\", \"Topic7\", \"Topic7\", \"Topic7\", \"Topic7\", \"Topic7\", \"Topic7\", \"Topic7\", \"Topic7\", \"Topic7\", \"Topic7\", \"Topic7\", \"Topic7\", \"Topic7\", \"Topic7\", \"Topic7\", \"Topic7\", \"Topic7\", \"Topic7\", \"Topic7\", \"Topic7\", \"Topic7\", \"Topic7\", \"Topic7\", \"Topic7\", \"Topic7\"], \"Freq\": [1116.0, 1078.0, 1481.0, 999.0, 1048.0, 566.0, 931.0, 579.0, 501.0, 1054.0, 465.0, 758.0, 1457.0, 1421.0, 644.0, 367.0, 490.0, 310.0, 324.0, 379.0, 404.0, 564.0, 262.0, 514.0, 591.0, 226.0, 255.0, 465.0, 497.0, 348.0, 199.4046630859375, 198.26197814941406, 187.24014282226562, 158.65818786621094, 150.27981567382812, 132.17054748535156, 123.86297607421875, 107.66287994384766, 92.66119384765625, 90.26631927490234, 90.09069061279297, 72.63851165771484, 71.71959686279297, 62.64876174926758, 52.96790313720703, 40.88304138183594, 38.15335464477539, 37.37586975097656, 36.61798095703125, 36.48928451538086, 36.22418975830078, 29.471384048461914, 28.7211856842041, 28.490137100219727, 28.412351608276367, 28.15657615661621, 27.96194839477539, 26.45868682861328, 25.65130615234375, 25.27190399169922, 270.6545715332031, 98.59935760498047, 178.48556518554688, 454.7784729003906, 110.40604400634766, 72.26617431640625, 71.48013305664062, 239.76905822753906, 381.2623596191406, 132.12521362304688, 279.8258056640625, 127.11870574951172, 190.57363891601562, 418.98095703125, 735.7919921875, 717.0460205078125, 1360.669677734375, 118.6241226196289, 473.0072021484375, 326.3805847167969, 113.94158172607422, 201.7002410888672, 251.5597381591797, 177.599365234375, 228.32957458496094, 182.3177947998047, 189.7710418701172, 209.4710693359375, 203.94815063476562, 247.3971405029297, 160.43092346191406, 167.056640625, 158.947265625, 158.81480407714844, 464.311279296875, 261.6236877441406, 188.93609619140625, 117.6280746459961, 1107.1463623046875, 42.819087982177734, 28.25816535949707, 24.805065155029297, 23.444894790649414, 22.46944236755371, 22.334857940673828, 20.311647415161133, 20.08603286743164, 20.022804260253906, 19.39615821838379, 19.213457107543945, 18.47037124633789, 18.341379165649414, 18.103179931640625, 16.93111801147461, 16.092863082885742, 15.84760570526123, 15.05908203125, 14.860450744628906, 14.283974647521973, 12.905379295349121, 12.817633628845215, 12.22867202758789, 11.583748817443848, 11.586821556091309, 151.8234100341797, 153.50711059570312, 710.4215087890625, 72.41085815429688, 58.1619987487793, 143.46453857421875, 48.702178955078125, 83.9610595703125, 297.5785827636719, 42.453739166259766, 103.655029296875, 134.2779541015625, 226.41993713378906, 128.4195098876953, 49.576446533203125, 725.8995361328125, 99.38919830322266, 89.87632751464844, 125.45928955078125, 171.62094116210938, 181.60865783691406, 207.34698486328125, 80.45476531982422, 211.4588165283203, 111.93010711669922, 76.01554870605469, 96.76908111572266, 85.13849639892578, 108.36033630371094, 79.71041870117188, 1078.0997314453125, 579.059814453125, 366.99322509765625, 323.3008728027344, 169.7965850830078, 140.5385284423828, 53.839351654052734, 52.1058235168457, 47.50521469116211, 34.396446228027344, 32.88615036010742, 27.42095375061035, 26.09147071838379, 21.242902755737305, 19.534423828125, 19.41358184814453, 19.345064163208008, 17.597232818603516, 17.508670806884766, 16.334537506103516, 15.613578796386719, 15.373527526855469, 15.249824523925781, 14.872893333435059, 13.565220832824707, 13.449274063110352, 13.029821395874023, 12.874540328979492, 12.184147834777832, 12.039400100708008, 792.7720336914062, 59.40782928466797, 58.62406921386719, 84.9231185913086, 61.59947204589844, 158.02972412109375, 184.99581909179688, 148.5099334716797, 259.62506103515625, 37.86224365234375, 447.6523132324219, 162.4976806640625, 160.77651977539062, 82.76351165771484, 382.2239990234375, 175.12669372558594, 274.1827392578125, 309.9421081542969, 105.88037109375, 63.38996505737305, 449.7409973144531, 64.44747161865234, 115.45834350585938, 88.99417877197266, 113.92732238769531, 91.91285705566406, 84.75206756591797, 76.62850952148438, 64.17676544189453, 72.3084716796875, 500.9096374511719, 169.20558166503906, 135.0833282470703, 117.12565612792969, 96.055419921875, 91.67091369628906, 75.9867935180664, 64.30776977539062, 57.279781341552734, 50.326820373535156, 49.08942413330078, 47.09605026245117, 45.8896598815918, 37.103450775146484, 32.794185638427734, 32.33008575439453, 26.665908813476562, 24.518295288085938, 24.236738204956055, 20.915206909179688, 19.116361618041992, 19.003263473510742, 18.48202896118164, 18.351762771606445, 18.1094913482666, 17.981460571289062, 17.25882339477539, 17.18674087524414, 17.00455093383789, 16.24878692626953, 61.970890045166016, 968.2963256835938, 277.14501953125, 32.54164505004883, 52.965065002441406, 31.99422836303711, 68.2791519165039, 32.80528259277344, 338.5505065917969, 221.93362426757812, 186.5563507080078, 79.50325775146484, 48.606109619140625, 129.33786010742188, 51.50105285644531, 132.6436767578125, 205.7606658935547, 231.059814453125, 106.87641143798828, 56.12727737426758, 59.71299743652344, 69.6853256225586, 60.09914016723633, 62.217674255371094, 59.63834762573242, 54.42314147949219, 309.5851135253906, 225.55348205566406, 138.8971710205078, 130.39483642578125, 124.56368255615234, 111.22594451904297, 92.91937255859375, 88.6647720336914, 88.19036102294922, 78.24727630615234, 59.70181655883789, 57.604087829589844, 52.565303802490234, 44.32046127319336, 37.8531494140625, 33.557350158691406, 32.7542610168457, 32.631988525390625, 31.968704223632812, 31.455646514892578, 31.1496639251709, 28.204059600830078, 27.315826416015625, 25.691572189331055, 25.243804931640625, 24.86496353149414, 23.629533767700195, 23.484121322631836, 22.631404876708984, 22.083654403686523, 164.39816284179688, 364.92724609375, 80.9381332397461, 55.04514694213867, 98.6915054321289, 80.1788558959961, 169.20933532714844, 69.10527801513672, 119.84709930419922, 188.49371337890625, 200.16790771484375, 283.9690246582031, 99.27877807617188, 51.59989547729492, 82.80622863769531, 94.11890411376953, 128.19430541992188, 87.83670043945312, 80.37176513671875, 82.52348327636719, 565.9203491210938, 160.55014038085938, 71.33344268798828, 70.88021850585938, 68.60851287841797, 66.86544799804688, 43.72148895263672, 38.365211486816406, 29.276445388793945, 26.197458267211914, 25.509492874145508, 25.325416564941406, 25.04508399963379, 24.42365837097168, 22.575767517089844, 22.274429321289062, 21.190814971923828, 20.99109649658203, 20.795217514038086, 19.179180145263672, 17.57683563232422, 17.34359359741211, 17.13907814025879, 17.086606979370117, 17.062524795532227, 16.811105728149414, 16.75630760192871, 16.508901596069336, 16.36330223083496, 16.197551727294922, 79.46089172363281, 63.30843734741211, 59.284427642822266, 89.60389709472656, 152.65167236328125, 44.47160339355469, 70.00777435302734, 46.576786041259766, 59.55919647216797, 117.51806640625, 221.34523010253906, 130.31304931640625, 85.40772247314453, 174.75314331054688, 392.2927551269531, 180.38780212402344, 75.00357055664062, 43.61445999145508, 265.888427734375, 50.83100509643555, 94.71375274658203, 112.01973724365234, 85.4280776977539, 74.4094467163086, 107.7192153930664, 78.35057830810547, 74.91242980957031, 83.41082763671875, 98.09776306152344, 73.1535873413086, 69.64372253417969, 149.88902282714844, 111.92120361328125, 68.79017639160156, 55.317195892333984, 39.92053985595703, 36.89734649658203, 31.955352783203125, 31.815418243408203, 31.433618545532227, 30.477962493896484, 29.548988342285156, 26.984298706054688, 26.320392608642578, 25.296630859375, 24.282390594482422, 22.62812614440918, 22.18638801574707, 17.88408851623535, 17.02665901184082, 16.611083984375, 15.276172637939453, 14.653383255004883, 14.10250186920166, 13.149727821350098, 12.377077102661133, 12.331000328063965, 12.184928894042969, 11.952476501464844, 11.801687240600586, 11.774091720581055, 37.60479736328125, 44.37049102783203, 47.78055191040039, 29.01992416381836, 42.86236572265625, 192.99368286132812, 24.416854858398438, 568.4491577148438, 87.77354431152344, 160.58001708984375, 88.7447509765625, 374.2066955566406, 40.025901794433594, 51.6582145690918, 100.11900329589844, 84.9873046875, 180.27320861816406, 149.97950744628906, 210.85325622558594, 46.924560546875, 153.607666015625, 66.21308135986328, 262.9197082519531, 46.96729278564453, 60.637916564941406, 130.80593872070312, 62.60309982299805, 78.11066436767578, 76.00872039794922, 63.36265563964844, 72.4482421875, 54.58302307128906, 54.887237548828125, 48.232086181640625], \"Term\": [\"version\", \"easy\", \"business\", \"use\", \"great\", \"service\", \"online\", \"love\", \"small\", \"customer\", \"desktop\", \"good\", \"invoice\", \"time\", \"account\", \"book\", \"expense\", \"receipt\", \"quick\", \"month\", \"user\", \"ipad\", \"functionality\", \"phone\", \"year\", \"sale\", \"job\", \"software\", \"payment\", \"support\", \"credit\", \"card\", \"password\", \"open\", \"error\", \"crash\", \"late\", \"touch\", \"deposit\", \"print\", \"download\", \"due\", \"edit\", \"login\", \"second\", \"certain\", \"upgrade\", \"critical\", \"unusable\", \"response\", \"force\", \"course\", \"document\", \"custom\", \"format\", \"pin\", \"merchant\", \"reconcile\", \"clean\", \"project\", \"email\", \"message\", \"bad\", \"update\", \"sign\", \"page\", \"signature\", \"bank\", \"payment\", \"last\", \"issue\", \"info\", \"datum\", \"account\", \"invoice\", \"time\", \"app\", \"number\", \"customer\", \"work\", \"week\", \"transaction\", \"mobile\", \"problem\", \"ipad\", \"day\", \"new\", \"company\", \"able\", \"quickbook\", \"option\", \"client\", \"access\", \"phone\", \"desktop\", \"functionality\", \"web\", \"vendor\", \"version\", \"capability\", \"reporting\", \"glad\", \"usable\", \"currency\", \"space\", \"labor\", \"opinion\", \"beta\", \"mobility\", \"similar\", \"vat\", \"game\", \"regret\", \"speed\", \"make\", \"hassle\", \"quantity\", \"companion\", \"serious\", \"syncs\", \"entering\", \"cell\", \"chance\", \"disaster\", \"available\", \"full\", \"online\", \"limited\", \"important\", \"function\", \"inventory\", \"browser\", \"ipad\", \"form\", \"basic\", \"well\", \"feature\", \"report\", \"enough\", \"app\", \"useless\", \"bill\", \"many\", \"thing\", \"year\", \"good\", \"much\", \"quickbook\", \"way\", \"useful\", \"program\", \"computer\", \"work\", \"transaction\", \"easy\", \"love\", \"book\", \"quick\", \"life\", \"office\", \"supplier\", \"sheet\", \"tablet\", \"everyday\", \"navigate\", \"short\", \"flexibility\", \"understand\", \"know\", \"seamless\", \"family\", \"busy\", \"mail\", \"unpaid\", \"complex\", \"handle\", \"inconvenient\", \"calendar\", \"pull\", \"practice\", \"secure\", \"budget\", \"myob\", \"base\", \"use\", \"create\", \"road\", \"nice\", \"bit\", \"estimate\", \"program\", \"simple\", \"able\", \"professional\", \"invoice\", \"client\", \"access\", \"track\", \"business\", \"phone\", \"great\", \"time\", \"computer\", \"laptop\", \"app\", \"helpful\", \"payment\", \"lot\", \"work\", \"thing\", \"mobile\", \"way\", \"accountant\", \"quickbook\", \"small\", \"friendly\", \"owner\", \"perfect\", \"amazing\", \"wish\", \"cloud\", \"ease\", \"handy\", \"internet\", \"multi\", \"finance\", \"recommend\", \"accessible\", \"saver\", \"paypal\", \"manage\", \"stable\", \"quote\", \"useable\", \"freeze\", \"enter\", \"find\", \"complicated\", \"feed\", \"keeping\", \"boy\", \"test\", \"dollar\", \"mint\", \"platform\", \"business\", \"user\", \"location\", \"previous\", \"bookkeeper\", \"run\", \"class\", \"quickbook\", \"year\", \"company\", \"bug\", \"home\", \"intuit\", \"record\", \"software\", \"great\", \"app\", \"good\", \"invoicing\", \"star\", \"update\", \"datum\", \"day\", \"way\", \"product\", \"receipt\", \"sale\", \"order\", \"tax\", \"purchase\", \"convenient\", \"name\", \"photo\", \"search\", \"picture\", \"note\", \"register\", \"disappointed\", \"server\", \"capture\", \"world\", \"image\", \"discount\", \"ios\", \"attachment\", \"general\", \"breeze\", \"difference\", \"travel\", \"sub\", \"morning\", \"camera\", \"operation\", \"tap\", \"pathetic\", \"item\", \"expense\", \"line\", \"view\", \"ability\", \"change\", \"mobile\", \"entry\", \"new\", \"customer\", \"invoice\", \"app\", \"product\", \"list\", \"option\", \"feature\", \"time\", \"thing\", \"transaction\", \"able\", \"service\", \"subscription\", \"minute\", \"fee\", \"call\", \"sync\", \"security\", \"text\", \"answer\", \"fingerprint\", \"overdue\", \"industry\", \"choice\", \"cancel\", \"aspect\", \"used\", \"transition\", \"refund\", \"competitor\", \"fan\", \"action\", \"productive\", \"thumb\", \"alert\", \"fingertip\", \"reminder\", \"touchid\", \"room\", \"add\", \"writing\", \"monthly\", \"apple\", \"terrible\", \"trial\", \"hour\", \"fine\", \"waste\", \"horrible\", \"cost\", \"help\", \"month\", \"money\", \"worth\", \"support\", \"customer\", \"phone\", \"payroll\", \"person\", \"time\", \"price\", \"day\", \"year\", \"software\", \"problem\", \"quickbook\", \"product\", \"intuit\", \"online\", \"app\", \"invoice\", \"good\", \"thank\", \"excellent\", \"intuitive\", \"fantastic\", \"essential\", \"paperwork\", \"construction\", \"mileage\", \"loss\", \"additional\", \"copy\", \"powerful\", \"incredible\", \"moment\", \"smart\", \"piece\", \"limitation\", \"benefit\", \"spending\", \"asset\", \"map\", \"cut\", \"paperless\", \"graph\", \"quality\", \"detailed\", \"stock\", \"investment\", \"valuable\", \"fit\", \"chart\", \"tracking\", \"profit\", \"market\", \"personal\", \"job\", \"side\", \"great\", \"tool\", \"accounting\", \"application\", \"good\", \"efficient\", \"statement\", \"useful\", \"invoicing\", \"software\", \"product\", \"account\", \"financial\", \"work\", \"need\", \"app\", \"complete\", \"field\", \"business\", \"system\", \"expense\", \"feature\", \"simple\", \"mobile\", \"bank\", \"company\", \"track\"], \"Total\": [1116.0, 1078.0, 1481.0, 999.0, 1048.0, 566.0, 931.0, 579.0, 501.0, 1054.0, 465.0, 758.0, 1457.0, 1421.0, 644.0, 367.0, 490.0, 310.0, 324.0, 379.0, 404.0, 564.0, 262.0, 514.0, 591.0, 226.0, 255.0, 465.0, 497.0, 348.0, 200.2172088623047, 199.0743408203125, 188.0526885986328, 159.47540283203125, 151.09231567382812, 132.98268127441406, 124.67597961425781, 108.47552490234375, 93.47415924072266, 91.07964324951172, 90.90352630615234, 73.45187377929688, 72.53300476074219, 63.46174621582031, 53.781314849853516, 41.69636154174805, 38.96744155883789, 38.18854522705078, 37.42999267578125, 37.302249908447266, 37.08408737182617, 30.286766052246094, 29.534406661987305, 29.304170608520508, 29.228046417236328, 28.968162536621094, 28.775497436523438, 27.272180557250977, 26.46648597717285, 26.086462020874023, 281.79638671875, 103.48045349121094, 200.0644989013672, 554.9771118164062, 124.01659393310547, 79.15937805175781, 78.89450073242188, 295.0339050292969, 497.40435791015625, 156.62306213378906, 381.9194030761719, 155.8812713623047, 251.34983825683594, 644.3021240234375, 1457.161865234375, 1421.990966796875, 3412.3564453125, 153.87261962890625, 1054.319580078125, 748.78125, 148.95213317871094, 386.1127624511719, 578.3826904296875, 314.7908935546875, 564.1514282226562, 380.6614685058594, 417.2304992675781, 526.5211181640625, 593.2553100585938, 1027.6527099609375, 317.3899230957031, 373.2620849609375, 377.43389892578125, 514.86474609375, 465.13739013671875, 262.4498596191406, 189.76202392578125, 118.45516967773438, 1116.9443359375, 43.646263122558594, 29.084259033203125, 25.631921768188477, 24.27044105529785, 23.295303344726562, 23.16087532043457, 21.144573211669922, 20.91408920288086, 20.848548889160156, 20.223499298095703, 20.03998374938965, 19.296871185302734, 19.168264389038086, 18.929725646972656, 17.76156234741211, 16.920202255249023, 16.676790237426758, 15.885831832885742, 15.686826705932617, 15.111166000366211, 13.732653617858887, 13.644384384155273, 13.056724548339844, 12.409602165222168, 12.413676261901855, 170.56312561035156, 172.87709045410156, 931.6156616210938, 86.7173080444336, 69.07726287841797, 189.81027221679688, 60.481201171875, 120.03563690185547, 564.1514282226562, 54.3643913269043, 163.73875427246094, 235.60008239746094, 480.4619140625, 258.204833984375, 72.26248168945312, 3412.3564453125, 215.64210510253906, 186.72804260253906, 312.44342041015625, 530.847900390625, 591.8826904296875, 758.484619140625, 178.75942993164062, 1027.6527099609375, 346.30792236328125, 176.82974243164062, 358.73046875, 258.8605041503906, 748.78125, 386.1127624511719, 1078.9237060546875, 579.8836669921875, 367.81793212890625, 324.125244140625, 170.62045288085938, 141.36329650878906, 54.664695739746094, 52.93181228637695, 48.329830169677734, 35.22126770019531, 33.70961380004883, 28.249792098999023, 26.9173583984375, 22.06643295288086, 20.360841751098633, 20.238162994384766, 20.170042037963867, 18.422212600708008, 18.333011627197266, 17.16112518310547, 16.438480377197266, 16.197582244873047, 16.07859992980957, 15.697684288024902, 14.391141891479492, 14.274853706359863, 13.855400085449219, 13.70351505279541, 13.008227348327637, 12.868365287780762, 999.2670288085938, 74.98860168457031, 74.94866943359375, 121.91061401367188, 85.61922454833984, 278.57525634765625, 358.73046875, 282.5589904785156, 593.2553100585938, 51.422000885009766, 1457.161865234375, 373.2620849609375, 377.43389892578125, 157.70254516601562, 1481.8831787109375, 514.86474609375, 1048.9495849609375, 1421.990966796875, 258.8605041503906, 115.81878662109375, 3412.3564453125, 125.3297348022461, 497.40435791015625, 294.9897766113281, 748.78125, 530.847900390625, 578.3826904296875, 346.30792236328125, 127.87071228027344, 1027.6527099609375, 501.72698974609375, 170.0228271484375, 135.90049743652344, 117.94335174560547, 96.87284851074219, 92.4893798828125, 76.8050537109375, 65.12638092041016, 58.09773635864258, 51.1451416015625, 49.90631103515625, 47.913753509521484, 46.70688247680664, 37.922115325927734, 33.61294937133789, 33.14907455444336, 27.485456466674805, 25.33652687072754, 25.054399490356445, 21.731401443481445, 19.93582534790039, 19.823169708251953, 19.303712844848633, 19.170259475708008, 18.9278621673584, 18.798973083496094, 18.07581901550293, 18.004419326782227, 17.822031021118164, 17.066808700561523, 71.11491394042969, 1481.8831787109375, 404.6354064941406, 39.09162902832031, 73.53071594238281, 39.715599060058594, 107.95287322998047, 41.20394515991211, 1027.6527099609375, 591.8826904296875, 526.5211181640625, 164.12631225585938, 76.21989440917969, 363.5993347167969, 89.10086822509766, 465.8135986328125, 1048.9495849609375, 3412.3564453125, 758.484619140625, 141.80116271972656, 232.5640411376953, 554.9771118164062, 251.34983825683594, 380.6614685058594, 346.30792236328125, 382.43121337890625, 310.3994445800781, 226.36837768554688, 139.71157836914062, 131.209228515625, 125.37813568115234, 112.04129791259766, 93.7339859008789, 89.47859954833984, 89.00468444824219, 79.06134033203125, 60.516357421875, 58.42002868652344, 53.38068389892578, 45.1357421875, 38.667686462402344, 34.372257232666016, 33.56806945800781, 33.446319580078125, 32.78318786621094, 32.269371032714844, 31.966297149658203, 29.019807815551758, 28.130699157714844, 26.50778579711914, 26.058338165283203, 25.680980682373047, 24.443300247192383, 24.299612045288086, 23.445358276367188, 22.897863388061523, 191.33090209960938, 490.33807373046875, 123.59893798828125, 82.90092468261719, 223.05245971679688, 162.49319458007812, 578.3826904296875, 137.343505859375, 417.2304992675781, 1054.319580078125, 1457.161865234375, 3412.3564453125, 382.43121337890625, 96.93846130371094, 317.3899230957031, 480.4619140625, 1421.990966796875, 530.847900390625, 386.1127624511719, 593.2553100585938, 566.7261962890625, 161.355712890625, 72.13910675048828, 71.68566131591797, 69.4139175415039, 67.67237854003906, 44.5276985168457, 39.173133850097656, 30.082019805908203, 27.004154205322266, 26.317279815673828, 26.13187026977539, 25.851741790771484, 25.22837257385254, 23.382598876953125, 23.08106803894043, 22.00137710571289, 21.795961380004883, 21.601839065551758, 19.987056732177734, 18.3841552734375, 18.150705337524414, 17.94615364074707, 17.89213752746582, 17.86867904663086, 17.618558883666992, 17.562458038330078, 17.319576263427734, 17.17020606994629, 17.00481414794922, 85.13126373291016, 70.14879608154297, 65.68701934814453, 104.73834228515625, 198.2237548828125, 51.15930938720703, 84.4535140991211, 55.59878921508789, 75.75286865234375, 168.30056762695312, 379.2021179199219, 213.94137573242188, 129.84188842773438, 348.3481750488281, 1054.319580078125, 514.86474609375, 141.416015625, 62.607940673828125, 1421.990966796875, 102.95515441894531, 380.6614685058594, 591.8826904296875, 465.8135986328125, 314.7908935546875, 1027.6527099609375, 382.43121337890625, 363.5993347167969, 931.6156616210938, 3412.3564453125, 1457.161865234375, 758.484619140625, 150.7117156982422, 112.7435302734375, 69.61271667480469, 56.13957595825195, 40.74275207519531, 37.72064208984375, 32.77772903442383, 32.63713836669922, 32.256168365478516, 31.302637100219727, 30.373336791992188, 27.806684494018555, 27.143634796142578, 26.119441986083984, 25.10525131225586, 23.45157241821289, 23.010183334350586, 18.708255767822266, 17.851665496826172, 17.433345794677734, 16.101036071777344, 15.476527214050293, 14.927119255065918, 13.97236156463623, 13.200560569763184, 13.153081893920898, 13.007463455200195, 12.774123191833496, 12.624701499938965, 12.596488952636719, 41.96214294433594, 49.95551681518555, 54.23236083984375, 32.415931701660156, 49.037811279296875, 255.25289916992188, 27.509387969970703, 1048.9495849609375, 123.44590759277344, 260.61883544921875, 129.35894775390625, 758.484619140625, 50.9253044128418, 72.78223419189453, 176.82974243164062, 141.80116271972656, 465.8135986328125, 382.43121337890625, 644.3021240234375, 67.13221740722656, 748.78125, 158.942626953125, 3412.3564453125, 83.93560791015625, 162.14617919921875, 1481.8831787109375, 201.88644409179688, 490.33807373046875, 480.4619140625, 282.5589904785156, 578.3826904296875, 295.0339050292969, 526.5211181640625, 157.70254516601562], \"loglift\": [30.0, 29.0, 28.0, 27.0, 26.0, 25.0, 24.0, 23.0, 22.0, 21.0, 20.0, 19.0, 18.0, 17.0, 16.0, 15.0, 14.0, 13.0, 12.0, 11.0, 10.0, 9.0, 8.0, 7.0, 6.0, 5.0, 4.0, 3.0, 2.0, 1.0, 1.2827999591827393, 1.2827999591827393, 1.2825000286102295, 1.2817000150680542, 1.281499981880188, 1.2806999683380127, 1.2803000211715698, 1.2792999744415283, 1.2781000137329102, 1.277899980545044, 1.277899980545044, 1.2756999731063843, 1.2755999565124512, 1.2740000486373901, 1.2716000080108643, 1.267199993133545, 1.2656999826431274, 1.2654000520706177, 1.2648999691009521, 1.264799952507019, 1.2633999586105347, 1.259600043296814, 1.2589000463485718, 1.2587000131607056, 1.2585999965667725, 1.2583999633789062, 1.2582000494003296, 1.256600022315979, 1.2555999755859375, 1.2551000118255615, 1.246500015258789, 1.2384999990463257, 1.172700047492981, 1.0877000093460083, 1.1706000566482544, 1.1957999467849731, 1.1881999969482422, 1.0793999433517456, 1.020900011062622, 1.1167999505996704, 0.9757999777793884, 1.082900047302246, 1.01010000705719, 0.8565000295639038, 0.603600025177002, 0.6021999716758728, 0.36739999055862427, 1.0267000198364258, 0.4853000044822693, 0.45649999380111694, 1.0189000368118286, 0.637499988079071, 0.4542999863624573, 0.7145000100135803, 0.3822999894618988, 0.5507000088691711, 0.49900001287460327, 0.365200012922287, 0.2190999984741211, -0.1371999979019165, 0.6046000123023987, 0.4828999936580658, 0.421999990940094, 0.11069999635219574, 1.940500020980835, 1.9392000436782837, 1.937999963760376, 1.9352999925613403, 1.933500051498413, 1.923200011253357, 1.9134999513626099, 1.909500002861023, 1.9076999425888062, 1.9062000513076782, 1.906000018119812, 1.9020999670028687, 1.901900053024292, 1.901900053024292, 1.9005000591278076, 1.9002000093460083, 1.8984999656677246, 1.8982000350952148, 1.8976999521255493, 1.8944000005722046, 1.892199993133545, 1.8912999629974365, 1.8889000415802002, 1.888200044631958, 1.8860000371932983, 1.8802000284194946, 1.8797999620437622, 1.8767999410629272, 1.8734999895095825, 1.8733999729156494, 1.8258999586105347, 1.8235000371932983, 1.6713000535964966, 1.7619999647140503, 1.770300030708313, 1.6624000072479248, 1.7257000207901, 1.5849000215530396, 1.3027000427246094, 1.6950000524520874, 1.4851000308990479, 1.3801000118255615, 1.190000057220459, 1.243899941444397, 1.565500020980835, 0.3946000039577484, 1.1677000522613525, 1.2110999822616577, 1.0298999547958374, 0.8130999803543091, 0.7609000205993652, 0.6453999876976013, 1.1440000534057617, 0.361299991607666, 0.8129000067710876, 1.098099946975708, 0.632099986076355, 0.830299973487854, 0.00930000003427267, 0.3646000027656555, 1.9433000087738037, 1.9427000284194946, 1.9417999982833862, 1.941499948501587, 1.9392000436782837, 1.9381999969482422, 1.9289000034332275, 1.9284000396728516, 1.926900029182434, 1.9204000234603882, 1.9192999601364136, 1.9142999649047852, 1.9128999710083008, 1.906000018119812, 1.9026000499725342, 1.902500033378601, 1.9023000001907349, 1.898300051689148, 1.8981000185012817, 1.894700050354004, 1.8926000595092773, 1.8918999433517456, 1.8911999464035034, 1.8901000022888184, 1.8849999904632568, 1.8845000267028809, 1.882599949836731, 1.881700038909912, 1.878600001335144, 1.877500057220459, 1.7125999927520752, 1.7111999988555908, 1.6984000205993652, 1.5824999809265137, 1.614799976348877, 1.3772000074386597, 1.2818000316619873, 1.3007999658584595, 1.1176999807357788, 1.6380000114440918, 0.7638999819755554, 1.1124999523162842, 1.0907000303268433, 1.299399971961975, 0.5889999866485596, 0.8657000064849854, 0.6022999882698059, 0.4207000136375427, 1.0500999689102173, 1.3414000272750854, -0.08240000158548355, 1.2790000438690186, 0.483599990606308, 0.7457000017166138, 0.06120000034570694, 0.19040000438690186, 0.023600000888109207, 0.435699999332428, 1.254699945449829, -0.7099999785423279, 2.1319000720977783, 2.128700017929077, 2.127500057220459, 2.1266000270843506, 2.1250998973846436, 2.1247000694274902, 2.12280011177063, 2.1208999156951904, 2.1194000244140625, 2.1173999309539795, 2.1171000003814697, 2.116300106048584, 2.1159000396728516, 2.1117000579833984, 2.1089000701904297, 2.1085000038146973, 2.103300094604492, 2.1006999015808105, 2.100399971008301, 2.0952999591827393, 2.091599941253662, 2.0913000106811523, 2.090100049972534, 2.089900016784668, 2.089400053024292, 2.089099884033203, 2.0873000621795654, 2.087100028991699, 2.0866000652313232, 2.084399938583374, 1.99590003490448, 1.7079999446868896, 1.7551000118255615, 1.9501999616622925, 1.8055000305175781, 1.9174000024795532, 1.6755000352859497, 1.9055999517440796, 1.0232000350952148, 1.1526000499725342, 1.0959999561309814, 1.4086999893188477, 1.6836999654769897, 1.0999000072479248, 1.5853999853134155, 0.8773999810218811, 0.5047000050544739, -0.558899998664856, 0.17389999330043793, 1.2067999839782715, 0.7738999724388123, 0.05860000103712082, 0.7027000188827515, 0.322299987077713, 0.37450000643730164, 0.18379999697208405, 2.1379001140594482, 2.136899948120117, 2.1345999240875244, 2.1342999935150146, 2.134000062942505, 2.13319993019104, 2.1317999362945557, 2.1314001083374023, 2.1312999725341797, 2.1301000118255615, 2.1268999576568604, 2.1263999938964844, 2.1250998973846436, 2.122299909591675, 2.1191999912261963, 2.116499900817871, 2.1159000396728516, 2.115799903869629, 2.115299940109253, 2.115000009536743, 2.1145999431610107, 2.111999988555908, 2.1110999584198, 2.1092000007629395, 2.1087000370025635, 2.1082000732421875, 2.106600046157837, 2.1064000129699707, 2.1052000522613525, 2.104300022125244, 1.988800048828125, 1.8451000452041626, 1.7171000242233276, 1.7309999465942383, 1.3250999450683594, 1.4341000318527222, 0.9114000201225281, 1.4536000490188599, 0.8931000232696533, 0.4189000129699707, 0.15539999306201935, -0.3458000123500824, 0.7918999791145325, 1.5098999738693237, 0.7968999743461609, 0.5102999806404114, -0.26579999923706055, 0.34150001406669617, 0.5709999799728394, 0.1678999960422516, 2.25, 2.2464001178741455, 2.2402000427246094, 2.2400999069213867, 2.2397000789642334, 2.2393999099731445, 2.233099937438965, 2.230600118637085, 2.224299907684326, 2.221100091934204, 2.2202000617980957, 2.220099925994873, 2.2197000980377197, 2.2190001010894775, 2.2163000106811523, 2.2158000469207764, 2.213900089263916, 2.2137999534606934, 2.213399887084961, 2.210099935531616, 2.2065000534057617, 2.205899953842163, 2.205399990081787, 2.2053000926971436, 2.205199956893921, 2.2044999599456787, 2.204400062561035, 2.2035000324249268, 2.2032999992370605, 2.2028000354766846, 2.182499885559082, 2.1487998962402344, 2.148900032043457, 2.0952999591827393, 1.9902000427246094, 2.111299991607666, 2.063800096511841, 2.0743000507354736, 2.0109000205993652, 1.892199993133545, 1.7130999565124512, 1.7555999755859375, 1.8324999809265137, 1.5615999698638916, 1.2627999782562256, 1.2026000022888184, 1.6172000169754028, 1.8898999691009521, 0.5746999979019165, 1.5456000566482544, 0.8604000210762024, 0.5867999792098999, 0.5552999973297119, 0.8090999722480774, -0.004100000020116568, 0.666100025177002, 0.6717000007629395, -0.16169999539852142, -1.2977999448776245, -0.7402999997138977, -0.13650000095367432, 2.3368000984191895, 2.33489990234375, 2.330399990081787, 2.327500104904175, 2.321899890899658, 2.320199966430664, 2.3169000148773193, 2.316800117492676, 2.3164000511169434, 2.3155999183654785, 2.31469988822937, 2.3122000694274902, 2.311500072479248, 2.31030011177063, 2.3089001178741455, 2.30649995803833, 2.305799961090088, 2.2971999645233154, 2.2948999404907227, 2.2939000129699707, 2.2897000312805176, 2.287600040435791, 2.285399913787842, 2.281599998474121, 2.2778000831604004, 2.2776999473571777, 2.276900053024292, 2.2757999897003174, 2.2748000621795654, 2.2746999263763428, 2.232599973678589, 2.2237000465393066, 2.21560001373291, 2.231600046157837, 2.20770001411438, 2.062700033187866, 2.2230000495910645, 1.729599952697754, 2.001199960708618, 1.8580000400543213, 1.965399980545044, 1.635699987411499, 2.1013998985290527, 1.999400019645691, 1.7733999490737915, 1.830299973487854, 1.392899990081787, 1.4062000513076782, 1.2252999544143677, 1.9840999841690063, 0.7581999897956848, 1.466599941253662, -0.22100000083446503, 1.7617000341415405, 1.3587000370025635, -0.08510000258684158, 1.1713999509811401, 0.505299985408783, 0.4984000027179718, 0.8471999764442444, 0.26489999890327454, 0.6549000144004822, 0.0812000036239624, 1.1576000452041626], \"logprob\": [30.0, 29.0, 28.0, 27.0, 26.0, 25.0, 24.0, 23.0, 22.0, 21.0, 20.0, 19.0, 18.0, 17.0, 16.0, 15.0, 14.0, 13.0, 12.0, 11.0, 10.0, 9.0, 8.0, 7.0, 6.0, 5.0, 4.0, 3.0, 2.0, 1.0, -4.731800079345703, -4.737500190734863, -4.7947001457214355, -4.960299968719482, -5.014599800109863, -5.14300012588501, -5.207900047302246, -5.348100185394287, -5.498199939727783, -5.5243000984191895, -5.526299953460693, -5.741600036621094, -5.754300117492676, -5.889599800109863, -6.057400226593018, -6.316400051116943, -6.385499954223633, -6.406099796295166, -6.426599979400635, -6.430099964141846, -6.437399864196777, -6.643700122833252, -6.66949987411499, -6.677499771118164, -6.680300235748291, -6.689300060272217, -6.696300029754639, -6.751500129699707, -6.78249979019165, -6.797399997711182, -4.426300048828125, -5.435999870300293, -4.842599868774414, -3.9072999954223633, -5.32289981842041, -5.746699810028076, -5.757699966430664, -4.547399997711182, -4.083600044250488, -5.143400192260742, -4.392899990081787, -5.182000160217285, -4.777100086212158, -3.989300012588501, -3.4261999130249023, -3.4519999027252197, -2.8113999366760254, -5.251100063323975, -3.868000030517578, -4.238999843597412, -5.291399955749512, -4.720300197601318, -4.4994001388549805, -4.847599983215332, -4.59630012512207, -4.821300029754639, -4.781300067901611, -4.682499885559082, -4.709199905395508, -4.51609992980957, -4.94920015335083, -4.90880012512207, -4.958499908447266, -4.959400177001953, -3.231100082397461, -3.8046998977661133, -4.130199909210205, -4.604100227355957, -2.3620998859405518, -5.614699840545654, -6.030300140380859, -6.160600185394287, -6.2170000076293945, -6.259500026702881, -6.265500068664551, -6.360400199890137, -6.371600151062012, -6.374800205230713, -6.406599998474121, -6.415999889373779, -6.45550012588501, -6.462500095367432, -6.475599765777588, -6.542500019073486, -6.593299865722656, -6.60860013961792, -6.6596999168396, -6.672900199890137, -6.712500095367432, -6.814000129699707, -6.820799827575684, -6.8678998947143555, -6.921999931335449, -6.921800136566162, -4.348899841308594, -4.337900161743164, -2.805799961090088, -5.089300155639648, -5.3084001541137695, -4.405600070953369, -5.485899925231934, -4.941299915313721, -3.6760001182556152, -5.623199939727783, -4.730599880218506, -4.471700191497803, -3.9493000507354736, -4.516300201416016, -5.468100070953369, -2.7841999530792236, -4.772600173950195, -4.873199939727783, -4.539700031280518, -4.226399898529053, -4.1697998046875, -4.037199974060059, -4.98390007019043, -4.017600059509277, -4.653800010681152, -5.0406999588012695, -4.799300193786621, -4.9274001121521, -4.686200141906738, -4.993199825286865, -2.386899948120117, -3.008500099182129, -3.4644999504089355, -3.5913000106811523, -4.235300064086914, -4.4243998527526855, -5.383900165557861, -5.416600227355957, -5.508999824523926, -5.831900119781494, -5.876800060272217, -6.058599948883057, -6.10830020904541, -6.313899993896484, -6.39769983291626, -6.403900146484375, -6.407400131225586, -6.502099990844727, -6.507199764251709, -6.576600074768066, -6.621699810028076, -6.637199878692627, -6.645299911499023, -6.670300006866455, -6.762400150299072, -6.770999908447266, -6.802599906921387, -6.814599990844727, -6.869699954986572, -6.881700038909912, -2.6942999362945557, -5.2855000495910645, -5.298699855804443, -4.928100109100342, -5.249199867248535, -4.30709981918335, -4.149499893188477, -4.369200229644775, -3.8106000423431396, -5.735899925231934, -3.265899896621704, -4.279200077056885, -4.289899826049805, -4.95389986038208, -3.4238998889923096, -4.204400062561035, -3.7560999393463135, -3.633500099182129, -4.707600116729736, -5.220600128173828, -3.261199951171875, -5.203999996185303, -4.620999813079834, -4.88129997253418, -4.634300231933594, -4.848999977111816, -4.930200099945068, -5.030900001525879, -5.208199977874756, -5.088900089263916, -2.9639999866485596, -4.049300193786621, -4.274499893188477, -4.417200088500977, -4.615499973297119, -4.662199974060059, -4.849800109863281, -5.01669979095459, -5.132500171661377, -5.261899948120117, -5.286799907684326, -5.328199863433838, -5.3541998863220215, -5.566699981689453, -5.690199851989746, -5.704400062561035, -5.896999835968018, -5.980999946594238, -5.992499828338623, -6.139900207519531, -6.229899883270264, -6.235799789428711, -6.263599872589111, -6.270699977874756, -6.283999919891357, -6.291100025177002, -6.332099914550781, -6.336299896240234, -6.34689998626709, -6.392399787902832, -5.053699970245361, -2.3048999309539795, -3.5559000968933105, -5.69789981842041, -5.2108001708984375, -5.714900016784668, -4.9567999839782715, -5.689799785614014, -3.3557000160217285, -3.7780001163482666, -3.95169997215271, -4.804599761962891, -5.2967000007629395, -4.317999839782715, -5.238800048828125, -4.292699813842773, -3.8536999225616455, -3.7376999855041504, -4.508699893951416, -5.1528000831604, -5.09089994430542, -4.936399936676025, -5.084400177001953, -5.049799919128418, -5.092100143432617, -5.183599948883057, -3.438199996948242, -3.7548999786376953, -4.239699840545654, -4.3028998374938965, -4.348700046539307, -4.461900234222412, -4.64169979095459, -4.688600063323975, -4.693999767303467, -4.813600063323975, -5.084099769592285, -5.119900226593018, -5.211400032043457, -5.381999969482422, -5.53980016708374, -5.660200119018555, -5.6844000816345215, -5.688199996948242, -5.708700180053711, -5.724899768829346, -5.7347002029418945, -5.834000110626221, -5.866000175476074, -5.927299976348877, -5.944900035858154, -5.960000038146973, -6.011000156402588, -6.017099857330322, -6.054100036621094, -6.07859992980957, -4.071199893951416, -3.2737998962402344, -4.779799938201904, -5.165299892425537, -4.581500053405762, -4.7891998291015625, -4.042300224304199, -4.93779993057251, -4.38730001449585, -3.9344000816345215, -3.874300003051758, -3.524600028991699, -4.575500011444092, -5.230000019073486, -4.756999969482422, -4.628900051116943, -4.319900035858154, -4.697999954223633, -4.786799907684326, -4.76039981842041, -2.724100112915039, -3.9839000701904297, -4.795199871063232, -4.801599979400635, -4.834099769592285, -4.859899997711182, -5.2846999168396, -5.41540002822876, -5.685800075531006, -5.796899795532227, -5.823500156402588, -5.830699920654297, -5.841899871826172, -5.867000102996826, -5.945700168609619, -5.959099769592285, -6.008999824523926, -6.018499851226807, -6.0278000831604, -6.108699798583984, -6.196000099182129, -6.2093000411987305, -6.221199989318848, -6.224299907684326, -6.2256999015808105, -6.240499973297119, -6.243800163269043, -6.258699893951416, -6.267499923706055, -6.277699947357178, -4.687300205230713, -4.9145002365112305, -4.980199813842773, -4.567200183868408, -4.03439998626709, -5.2677001953125, -4.813899993896484, -5.221499919891357, -4.975599765777588, -4.296000003814697, -3.6628000736236572, -4.192599773406982, -4.615099906921387, -3.899199962615967, -3.0905001163482666, -3.8673999309539795, -4.744999885559082, -5.287199974060059, -3.4795000553131104, -5.133999824523926, -4.51170015335083, -4.343900203704834, -4.6149001121521, -4.752999782562256, -4.382999897003174, -4.701399803161621, -4.746200084686279, -4.638800144195557, -4.476600170135498, -4.769999980926514, -4.819200038909912, -3.9618000984191895, -4.253900051116943, -4.740600109100342, -4.958600044250488, -5.284800052642822, -5.36359977722168, -5.507400035858154, -5.5117998123168945, -5.523799896240234, -5.554699897766113, -5.585700035095215, -5.676400184631348, -5.701399803161621, -5.741000175476074, -5.7820000648498535, -5.852499961853027, -5.872200012207031, -6.087800025939941, -6.136899948120117, -6.161600112915039, -6.2453999519348145, -6.2870001792907715, -6.325300216674805, -6.395299911499023, -6.455900192260742, -6.45959997177124, -6.471499919891357, -6.490799903869629, -6.503499984741211, -6.505799770355225, -5.344600200653076, -5.179100036621094, -5.105100154876709, -5.603700160980225, -5.213699817657471, -3.7090001106262207, -5.776400089263916, -2.6287999153137207, -4.4969000816345215, -3.892899990081787, -4.485899925231934, -3.0469000339508057, -5.282199859619141, -5.027100086212158, -4.365300178527832, -4.529200077056885, -3.7771999835968018, -3.961199998855591, -3.620500087738037, -5.123199939727783, -3.937299966812134, -4.778800010681152, -3.399899959564209, -5.122200012207031, -4.866799831390381, -4.0980000495910645, -4.83489990234375, -4.61359977722168, -4.640900135040283, -4.822800159454346, -4.688799858093262, -4.9720001220703125, -4.966400146484375, -5.095699787139893]}, \"token.table\": {\"Topic\": [1, 3, 4, 5, 7, 1, 2, 3, 5, 1, 3, 6, 7, 4, 1, 4, 7, 2, 3, 4, 1, 2, 7, 6, 6, 7, 6, 4, 6, 1, 2, 3, 4, 5, 6, 7, 5, 6, 4, 7, 6, 7, 5, 1, 2, 1, 5, 1, 7, 3, 2, 5, 7, 7, 2, 2, 3, 5, 1, 3, 3, 1, 4, 4, 5, 1, 2, 3, 1, 4, 5, 3, 4, 7, 3, 3, 6, 5, 6, 2, 5, 1, 2, 1, 2, 1, 2, 5, 6, 7, 6, 3, 4, 1, 1, 2, 3, 4, 4, 2, 1, 4, 5, 6, 7, 6, 1, 7, 3, 4, 1, 2, 3, 7, 5, 7, 6, 7, 1, 1, 1, 2, 3, 1, 1, 2, 1, 1, 5, 6, 7, 1, 4, 1, 3, 4, 6, 1, 2, 7, 5, 5, 2, 5, 1, 4, 1, 1, 4, 3, 1, 2, 7, 1, 6, 2, 3, 4, 2, 1, 5, 1, 7, 1, 3, 3, 7, 3, 5, 7, 3, 6, 7, 1, 2, 5, 7, 6, 4, 1, 2, 5, 7, 4, 4, 7, 4, 3, 6, 6, 6, 7, 3, 1, 2, 7, 1, 4, 4, 2, 6, 1, 2, 4, 2, 2, 5, 2, 2, 4, 6, 7, 7, 3, 4, 7, 3, 4, 2, 1, 4, 6, 1, 2, 3, 7, 3, 4, 5, 6, 1, 6, 5, 2, 5, 3, 7, 6, 1, 7, 4, 1, 2, 4, 5, 6, 7, 2, 5, 7, 1, 3, 5, 6, 4, 7, 5, 1, 2, 5, 1, 4, 5, 6, 1, 5, 3, 7, 4, 3, 2, 1, 3, 5, 6, 1, 5, 1, 3, 7, 1, 2, 1, 5, 1, 5, 4, 7, 1, 7, 1, 2, 3, 7, 3, 3, 2, 4, 1, 2, 4, 5, 7, 7, 4, 7, 1, 1, 5, 7, 4, 6, 1, 3, 5, 7, 2, 7, 1, 3, 6, 7, 1, 4, 6, 2, 6, 5, 1, 2, 3, 4, 4, 3, 5, 3, 1, 2, 4, 6, 7, 1, 2, 5, 6, 2, 3, 5, 1, 5, 6, 3, 1, 2, 6, 1, 5, 2, 1, 2, 5, 6, 7, 5, 6, 4, 1, 7, 7, 7, 1, 5, 1, 3, 4, 3, 4, 6, 7, 4, 5, 6, 4, 7, 1, 3, 6, 5, 5, 7, 1, 4, 7, 7, 3, 4, 5, 2, 4, 5, 6, 7, 1, 1, 2, 5, 6, 4, 5, 6, 7, 6, 3, 4, 2, 7, 1, 2, 3, 5, 6, 1, 3, 5, 7, 2, 3, 1, 2, 3, 4, 5, 6, 7, 4, 5, 4, 1, 1, 4, 5, 6, 5, 2, 6, 2, 3, 5, 7, 2, 1, 1, 3, 6, 2, 4, 5, 4, 3, 5, 1, 3, 6, 2, 5, 6, 3, 3, 5, 7, 1, 6, 1, 5, 2, 2, 3, 4, 5, 7, 4, 7, 2, 4, 6, 7, 2, 2, 7, 4, 1, 2, 4, 5, 2, 6, 7, 7, 5, 6, 3, 1, 4, 6, 6, 2, 1, 2, 4, 5, 7, 3, 5, 5, 5, 6, 4, 6, 7, 1, 2, 3, 4, 5, 6, 6, 1, 2, 3, 5, 6, 4, 7, 1, 6, 3, 4, 5, 7, 5, 7, 1, 2, 3, 5, 6, 5, 1, 6, 3, 3, 1, 1, 4, 5, 1, 2, 1, 3, 4, 4, 6, 2, 7, 1, 2, 1, 2, 4, 7, 2, 2, 2, 4, 1, 2, 5, 5, 6, 1, 2, 3, 4, 5, 2, 1, 6, 1, 2, 4, 5, 4, 1, 2, 3, 4, 6, 7, 5, 2, 3, 6, 7, 6, 1, 2, 4, 6], \"Freq\": [0.2376122623682022, 0.14346401393413544, 0.08518175780773163, 0.4438417851924896, 0.08518175780773163, 0.34386545419692993, 0.07922390103340149, 0.43825986981391907, 0.13990603387355804, 0.4212658107280731, 0.4265647530555725, 0.04504099860787392, 0.105978824198246, 0.9756839871406555, 0.650316059589386, 0.021728936582803726, 0.327486127614975, 0.13294678926467896, 0.5005055665969849, 0.3597383499145508, 0.14580680429935455, 0.23789530992507935, 0.617760419845581, 0.9791039824485779, 0.9318466782569885, 0.958385705947876, 0.9501380324363708, 0.9909897446632385, 0.9640310406684875, 0.3988446295261383, 0.2127562016248703, 0.13187368214130402, 0.06769515573978424, 0.08322694152593613, 0.028719156980514526, 0.07707283645868301, 0.08553247153759003, 0.8980909585952759, 0.30921709537506104, 0.6880080699920654, 0.9836374521255493, 0.9751427173614502, 0.9606632590293884, 0.10553277283906937, 0.8911656737327576, 0.8897130489349365, 0.10496614873409271, 0.8134658336639404, 0.18641924858093262, 0.9325193762779236, 0.635158121585846, 0.23818430304527283, 0.12825308740139008, 0.9621420502662659, 0.9592993855476379, 0.48198437690734863, 0.27312448620796204, 0.24099218845367432, 0.268631249666214, 0.7241364121437073, 0.9977762699127197, 0.17625316977500916, 0.8057287335395813, 0.9404829740524292, 0.9648582339286804, 0.29158008098602295, 0.699792206287384, 0.9486616849899292, 0.35947921872138977, 0.4874294698238373, 0.1523217111825943, 0.2577801048755646, 0.6532228589057922, 0.08840102702379227, 0.9770813584327698, 0.9555549621582031, 0.9940369725227356, 0.9818641543388367, 0.951309859752655, 0.985193133354187, 0.9827327132225037, 0.9946033358573914, 0.9190666675567627, 0.983299195766449, 0.9669931530952454, 0.326167494058609, 0.17846901714801788, 0.49232831597328186, 0.09532401710748672, 0.9055781364440918, 0.9670528173446655, 0.19415616989135742, 0.8008942008018494, 0.9823744893074036, 0.4474067986011505, 0.05090257152915001, 0.43401139974594116, 0.06697706878185272, 0.9895182251930237, 0.9562163352966309, 0.39694514870643616, 0.3551614284515381, 0.05127999559044838, 0.09306369721889496, 0.104459248483181, 0.9721394777297974, 0.42890021204948425, 0.5599530339241028, 0.9733259677886963, 0.9389544129371643, 0.25882667303085327, 0.32836219668388367, 0.40948694944381714, 0.9762726426124573, 0.9907061457633972, 0.9877083897590637, 0.79204922914505, 0.2112131267786026, 0.9575139284133911, 0.9926104545593262, 0.0666768029332161, 0.1333536058664322, 0.7867862582206726, 0.9939205646514893, 0.9688768982887268, 0.9443963766098022, 0.9554954171180725, 0.44863057136535645, 0.17831405997276306, 0.37180376052856445, 0.9692096710205078, 0.7598970532417297, 0.23871111869812012, 0.47811511158943176, 0.10770724713802338, 0.16287437081336975, 0.24956558644771576, 0.9949273467063904, 0.9975547194480896, 0.9123337268829346, 0.9598054885864258, 0.9928684830665588, 0.9666757583618164, 0.9866556525230408, 0.9819056391716003, 0.9538755416870117, 0.9900606274604797, 0.9938480257987976, 0.9827046990394592, 0.9991438388824463, 0.9926515817642212, 0.19636602699756622, 0.7854641079902649, 0.9616872668266296, 0.0354866161942482, 0.6919220089912415, 0.30444568395614624, 0.958474338054657, 0.9527729153633118, 0.495108962059021, 0.5023899674415588, 0.9927705526351929, 0.9817697405815125, 0.430763304233551, 0.5671716928482056, 0.9653258323669434, 0.9934051036834717, 0.09585223346948624, 0.7443843483924866, 0.15907391905784607, 0.9419910907745361, 0.9506152272224426, 0.979701042175293, 0.17275042831897736, 0.47038066387176514, 0.1956450641155243, 0.1581811159849167, 0.9904351830482483, 0.9509790539741516, 0.3762037456035614, 0.1726836860179901, 0.0740072950720787, 0.3762037456035614, 0.9809291958808899, 0.29791954159736633, 0.7001109719276428, 0.9324631094932556, 0.11728070676326752, 0.8600585460662842, 0.9628148078918457, 0.9513853788375854, 0.9526464343070984, 0.9659194350242615, 0.9707667827606201, 0.7725645303726196, 0.2023383229970932, 0.9579839706420898, 0.953058123588562, 0.9939841628074646, 0.8908063173294067, 0.10990466922521591, 0.2001999169588089, 0.7533838748931885, 0.04214734956622124, 0.9982859492301941, 0.939052164554596, 0.9697713851928711, 0.9753463268280029, 0.2729125916957855, 0.14107075333595276, 0.0922892838716507, 0.4930884540081024, 0.930408239364624, 0.2612136900424957, 0.1963869333267212, 0.5414940714836121, 0.926064133644104, 0.9811053276062012, 0.9594172239303589, 0.2079612761735916, 0.09506800770759583, 0.7011265754699707, 0.21543172001838684, 0.1276632398366928, 0.5106529593467712, 0.1356421858072281, 0.35423821210861206, 0.6428768038749695, 0.14388802647590637, 0.8453421592712402, 0.22701618075370789, 0.7718549966812134, 0.9830771088600159, 0.8396395444869995, 0.1447654366493225, 0.932917058467865, 0.9578672647476196, 0.9566861987113953, 0.8147226572036743, 0.17962388694286346, 0.9776099920272827, 0.20077043771743774, 0.17601792514324188, 0.35478612780570984, 0.06050616130232811, 0.2062710076570511, 0.9911981821060181, 0.8101691007614136, 0.18187469244003296, 0.9393991231918335, 0.5050914287567139, 0.3074469566345215, 0.13725310564041138, 0.05009738728404045, 0.39491918683052063, 0.5994309186935425, 0.9761101007461548, 0.40414682030677795, 0.5282269716262817, 0.06735780090093613, 0.7331389784812927, 0.08116895705461502, 0.03927530348300934, 0.14400944113731384, 0.13589023053646088, 0.8571537733078003, 0.24289636313915253, 0.7561128735542297, 0.957499086856842, 0.9822776317596436, 0.9458691477775574, 0.3194645941257477, 0.5439531803131104, 0.025902533903717995, 0.10361013561487198, 0.8427877426147461, 0.15323413908481598, 0.9945781230926514, 0.9963635206222534, 0.9560984373092651, 0.16144412755966187, 0.830284059047699, 0.33980873227119446, 0.6553454399108887, 0.464212030172348, 0.5364227890968323, 0.8441705107688904, 0.15348555147647858, 0.9927240014076233, 0.9610564708709717, 0.42035356163978577, 0.15593761205673218, 0.30170536041259766, 0.11864817887544632, 0.9984761476516724, 0.9818354249000549, 0.9456151723861694, 0.9823377132415771, 0.3648660480976105, 0.4000724256038666, 0.16002897918224335, 0.035206373780965805, 0.03840695321559906, 0.9316170811653137, 0.09254708886146545, 0.8946218490600586, 0.973050057888031, 0.9567024111747742, 0.038654644042253494, 0.9804781079292297, 0.9374921917915344, 0.9842095971107483, 0.43569767475128174, 0.1469615250825882, 0.29219406843185425, 0.12448505312204361, 0.9395011067390442, 0.9571413993835449, 0.14489950239658356, 0.13087697327136993, 0.6076430678367615, 0.11218026280403137, 0.4008416533470154, 0.013185580261051655, 0.5828026533126831, 0.05873282998800278, 0.9279786944389343, 0.9734830856323242, 0.11747632175683975, 0.4475288391113281, 0.3356466293334961, 0.09509988129138947, 0.9818397760391235, 0.9224931001663208, 0.9921694993972778, 0.9789491891860962, 0.05662420392036438, 0.24537156522274017, 0.16358104348182678, 0.11953999102115631, 0.4152441620826721, 0.4553837776184082, 0.12702810764312744, 0.287610799074173, 0.12942485511302948, 0.29529833793640137, 0.6972321271896362, 0.9914674758911133, 0.7733669877052307, 0.04549217224121094, 0.17546981573104858, 0.9974300265312195, 0.14705635607242584, 0.7621168494224548, 0.08909253031015396, 0.9970189332962036, 0.9465171694755554, 0.9562931656837463, 0.5041117668151855, 0.0630139708518982, 0.2615079879760742, 0.08821956068277359, 0.08191816508769989, 0.9949067831039429, 0.9879440665245056, 0.9933738708496094, 0.9095574021339417, 0.0757964551448822, 0.9378902912139893, 0.9808952808380127, 0.9944021701812744, 0.9607883095741272, 0.7659764289855957, 0.2312002331018448, 0.9653361439704895, 0.11314135789871216, 0.2050687074661255, 0.5303500890731812, 0.1484980285167694, 0.9920016527175903, 0.2875034809112549, 0.7027862668037415, 0.1019621342420578, 0.8768743872642517, 0.3088189661502838, 0.339895099401474, 0.34960636496543884, 0.9946512579917908, 0.986575722694397, 0.980744481086731, 0.9665783643722534, 0.8718283772468567, 0.11249398440122604, 0.9709895253181458, 0.9106923341751099, 0.7207872271537781, 0.2719951868057251, 0.05827780067920685, 0.1651204377412796, 0.1651204377412796, 0.4953612983226776, 0.10684263706207275, 0.988146185874939, 0.5654547214508057, 0.05718081444501877, 0.14295203983783722, 0.2350766807794571, 0.14120186865329742, 0.25887009501457214, 0.20395824313163757, 0.3922274112701416, 0.9366027116775513, 0.7389832735061646, 0.2528100907802582, 0.11063504964113235, 0.8850803971290588, 0.04738933965563774, 0.27039799094200134, 0.5157074928283691, 0.0501769483089447, 0.11707954853773117, 0.9583514928817749, 0.9728206396102905, 0.99698406457901, 0.909052312374115, 0.9442375898361206, 0.9965283870697021, 0.2403535693883896, 0.2053222805261612, 0.07006257772445679, 0.32987797260284424, 0.0068116397596895695, 0.10509386658668518, 0.041842930018901825, 0.9579156041145325, 0.9987131357192993, 0.9848655462265015, 0.9533524513244629, 0.35914352536201477, 0.5836082100868225, 0.05611617490649223, 0.9634812474250793, 0.9928101897239685, 0.9508854150772095, 0.9648916125297546, 0.495730459690094, 0.13167840242385864, 0.19751760363578796, 0.17040733993053436, 0.9627200961112976, 0.9650892615318298, 0.2134794443845749, 0.7872054576873779, 0.9815482497215271, 0.3612687587738037, 0.6299045085906982, 0.9983726739883423, 0.9817644953727722, 0.9388203620910645, 0.9887120127677917, 0.9854723811149597, 0.9382623434066772, 0.9881489872932434, 0.92646723985672, 0.9748371839523315, 0.9987186193466187, 0.9823960065841675, 0.9557592272758484, 0.07270245254039764, 0.8724294304847717, 0.8869780898094177, 0.10482468456029892, 0.8999359607696533, 0.08872608095407486, 0.9481045603752136, 0.1203288584947586, 0.5273235440254211, 0.0672425925731659, 0.0601644292473793, 0.22296229004859924, 0.9985510110855103, 0.9559752941131592, 0.14383435249328613, 0.285521924495697, 0.18247643113136292, 0.38642066717147827, 0.9498777389526367, 0.9571229815483093, 0.9522920846939087, 0.986717700958252, 0.3955899477005005, 0.2751930058002472, 0.2579934597015381, 0.0687982514500618, 0.12365654855966568, 0.15113578736782074, 0.7144600749015808, 0.9225472807884216, 0.9593858122825623, 0.9977954626083374, 0.987840473651886, 0.3932846784591675, 0.10621556639671326, 0.5023709535598755, 0.9900642037391663, 0.9466487765312195, 0.2625238299369812, 0.1832713484764099, 0.13869182765483856, 0.09906559437513351, 0.31205660104751587, 0.9931754469871521, 0.9810044169425964, 0.9907839894294739, 0.0913422480225563, 0.8981987833976746, 0.9442126154899597, 0.9700525999069214, 0.9952776432037354, 0.21851833164691925, 0.3240099549293518, 0.1733076423406601, 0.08853760361671448, 0.16577252745628357, 0.030140459537506104, 0.9472782015800476, 0.5042226314544678, 0.0007032393477857113, 0.21800419688224792, 0.09001463651657104, 0.18706166744232178, 0.2835249900817871, 0.7128628492355347, 0.9956163167953491, 0.9679738283157349, 0.5263072848320007, 0.11413893103599548, 0.050728414207696915, 0.3043704926967621, 0.10008904337882996, 0.8807836174964905, 0.5231632590293884, 0.20719335973262787, 0.0621580071747303, 0.20719335973262787, 0.9544857144355774, 0.9808439016342163, 0.13366642594337463, 0.8592841625213623, 0.9516717195510864, 0.9323397874832153, 0.9885120987892151, 0.8198536038398743, 0.1261313259601593, 0.054056283086538315, 0.9751730561256409, 0.9476547837257385, 0.1531122326850891, 0.7935816645622253, 0.05303887650370598, 0.9663435816764832, 0.9531621336936951, 0.42979195713996887, 0.5655156970024109, 0.5379283428192139, 0.45909401774406433, 0.14333891868591309, 0.17052388191223145, 0.6845669150352478, 0.9505175352096558, 0.9327937364578247, 0.9961574673652649, 0.9910968542098999, 0.008057697676122189, 0.07237555086612701, 0.265377014875412, 0.6634425520896912, 0.16577166318893433, 0.8288583755493164, 0.16170580685138702, 0.32341161370277405, 0.2223454713821411, 0.17325621843338013, 0.1183917447924614, 0.9959843158721924, 0.7653465270996094, 0.22826124727725983, 0.22495748102664948, 0.5687603950500488, 0.20373506844043732, 0.00424448074772954, 0.994708776473999, 0.4353741407394409, 0.14423437416553497, 0.15224739909172058, 0.056091148406267166, 0.005342014133930206, 0.20566754043102264, 0.9891698360443115, 0.07701674848794937, 0.11552511900663376, 0.6546423435211182, 0.1463318169116974, 0.9409100413322449, 0.12840382754802704, 0.3074933588504791, 0.3750743269920349, 0.1892266869544983], \"Term\": [\"ability\", \"ability\", \"ability\", \"ability\", \"ability\", \"able\", \"able\", \"able\", \"able\", \"access\", \"access\", \"access\", \"access\", \"accessible\", \"account\", \"account\", \"account\", \"accountant\", \"accountant\", \"accountant\", \"accounting\", \"accounting\", \"accounting\", \"action\", \"add\", \"additional\", \"alert\", \"amazing\", \"answer\", \"app\", \"app\", \"app\", \"app\", \"app\", \"app\", \"app\", \"apple\", \"apple\", \"application\", \"application\", \"aspect\", \"asset\", \"attachment\", \"available\", \"available\", \"bad\", \"bad\", \"bank\", \"bank\", \"base\", \"basic\", \"basic\", \"basic\", \"benefit\", \"beta\", \"bill\", \"bill\", \"bill\", \"bit\", \"bit\", \"book\", \"bookkeeper\", \"bookkeeper\", \"boy\", \"breeze\", \"browser\", \"browser\", \"budget\", \"bug\", \"bug\", \"bug\", \"business\", \"business\", \"business\", \"busy\", \"calendar\", \"call\", \"camera\", \"cancel\", \"capability\", \"capture\", \"card\", \"cell\", \"certain\", \"chance\", \"change\", \"change\", \"change\", \"chart\", \"chart\", \"choice\", \"class\", \"class\", \"clean\", \"client\", \"client\", \"client\", \"client\", \"cloud\", \"companion\", \"company\", \"company\", \"company\", \"company\", \"company\", \"competitor\", \"complete\", \"complete\", \"complex\", \"complicated\", \"computer\", \"computer\", \"computer\", \"construction\", \"convenient\", \"copy\", \"cost\", \"cost\", \"course\", \"crash\", \"create\", \"create\", \"create\", \"credit\", \"critical\", \"currency\", \"custom\", \"customer\", \"customer\", \"customer\", \"cut\", \"datum\", \"datum\", \"day\", \"day\", \"day\", \"day\", \"deposit\", \"desktop\", \"detailed\", \"difference\", \"disappointed\", \"disaster\", \"discount\", \"document\", \"dollar\", \"download\", \"due\", \"ease\", \"easy\", \"edit\", \"efficient\", \"efficient\", \"email\", \"email\", \"enough\", \"enough\", \"enter\", \"entering\", \"entry\", \"entry\", \"error\", \"essential\", \"estimate\", \"estimate\", \"everyday\", \"excellent\", \"expense\", \"expense\", \"expense\", \"family\", \"fan\", \"fantastic\", \"feature\", \"feature\", \"feature\", \"feature\", \"fee\", \"feed\", \"field\", \"field\", \"field\", \"field\", \"finance\", \"financial\", \"financial\", \"find\", \"fine\", \"fine\", \"fingerprint\", \"fingertip\", \"fit\", \"flexibility\", \"force\", \"form\", \"form\", \"format\", \"freeze\", \"friendly\", \"full\", \"full\", \"function\", \"function\", \"function\", \"functionality\", \"game\", \"general\", \"glad\", \"good\", \"good\", \"good\", \"good\", \"graph\", \"great\", \"great\", \"great\", \"handle\", \"handy\", \"hassle\", \"help\", \"help\", \"help\", \"helpful\", \"helpful\", \"helpful\", \"helpful\", \"home\", \"home\", \"horrible\", \"horrible\", \"hour\", \"hour\", \"image\", \"important\", \"important\", \"inconvenient\", \"incredible\", \"industry\", \"info\", \"info\", \"internet\", \"intuit\", \"intuit\", \"intuit\", \"intuit\", \"intuit\", \"intuitive\", \"inventory\", \"inventory\", \"investment\", \"invoice\", \"invoice\", \"invoice\", \"invoice\", \"invoicing\", \"invoicing\", \"ios\", \"ipad\", \"ipad\", \"ipad\", \"issue\", \"issue\", \"issue\", \"issue\", \"item\", \"item\", \"job\", \"job\", \"keeping\", \"know\", \"labor\", \"laptop\", \"laptop\", \"laptop\", \"laptop\", \"last\", \"last\", \"late\", \"life\", \"limitation\", \"limited\", \"limited\", \"line\", \"line\", \"list\", \"list\", \"location\", \"location\", \"login\", \"loss\", \"lot\", \"lot\", \"lot\", \"lot\", \"love\", \"mail\", \"make\", \"manage\", \"many\", \"many\", \"many\", \"many\", \"many\", \"map\", \"market\", \"market\", \"merchant\", \"message\", \"message\", \"mileage\", \"mint\", \"minute\", \"mobile\", \"mobile\", \"mobile\", \"mobile\", \"mobility\", \"moment\", \"money\", \"money\", \"money\", \"money\", \"month\", \"month\", \"month\", \"monthly\", \"monthly\", \"morning\", \"much\", \"much\", \"much\", \"much\", \"multi\", \"myob\", \"name\", \"navigate\", \"need\", \"need\", \"need\", \"need\", \"need\", \"new\", \"new\", \"new\", \"new\", \"nice\", \"nice\", \"note\", \"number\", \"number\", \"number\", \"office\", \"online\", \"online\", \"online\", \"open\", \"operation\", \"opinion\", \"option\", \"option\", \"option\", \"option\", \"option\", \"order\", \"overdue\", \"owner\", \"page\", \"page\", \"paperless\", \"paperwork\", \"password\", \"pathetic\", \"payment\", \"payment\", \"paypal\", \"payroll\", \"payroll\", \"payroll\", \"payroll\", \"perfect\", \"person\", \"person\", \"personal\", \"personal\", \"phone\", \"phone\", \"phone\", \"photo\", \"picture\", \"piece\", \"pin\", \"platform\", \"platform\", \"powerful\", \"practice\", \"previous\", \"previous\", \"price\", \"price\", \"price\", \"price\", \"price\", \"print\", \"problem\", \"problem\", \"problem\", \"problem\", \"product\", \"product\", \"product\", \"product\", \"productive\", \"professional\", \"professional\", \"profit\", \"profit\", \"program\", \"program\", \"program\", \"program\", \"program\", \"project\", \"pull\", \"purchase\", \"quality\", \"quantity\", \"quick\", \"quickbook\", \"quickbook\", \"quickbook\", \"quickbook\", \"quickbook\", \"quickbook\", \"quickbook\", \"quote\", \"receipt\", \"recommend\", \"reconcile\", \"record\", \"record\", \"record\", \"refund\", \"register\", \"regret\", \"reminder\", \"report\", \"report\", \"report\", \"report\", \"reporting\", \"response\", \"road\", \"road\", \"room\", \"run\", \"run\", \"sale\", \"saver\", \"seamless\", \"search\", \"second\", \"secure\", \"security\", \"serious\", \"server\", \"service\", \"sheet\", \"short\", \"side\", \"side\", \"sign\", \"sign\", \"signature\", \"signature\", \"similar\", \"simple\", \"simple\", \"simple\", \"simple\", \"simple\", \"small\", \"smart\", \"software\", \"software\", \"software\", \"software\", \"space\", \"speed\", \"spending\", \"stable\", \"star\", \"star\", \"star\", \"star\", \"statement\", \"statement\", \"statement\", \"stock\", \"sub\", \"subscription\", \"supplier\", \"support\", \"support\", \"support\", \"sync\", \"syncs\", \"system\", \"system\", \"system\", \"system\", \"system\", \"tablet\", \"tap\", \"tax\", \"terrible\", \"terrible\", \"test\", \"text\", \"thank\", \"thing\", \"thing\", \"thing\", \"thing\", \"thing\", \"thing\", \"thumb\", \"time\", \"time\", \"time\", \"time\", \"time\", \"tool\", \"tool\", \"touch\", \"touchid\", \"track\", \"track\", \"track\", \"track\", \"tracking\", \"tracking\", \"transaction\", \"transaction\", \"transaction\", \"transaction\", \"transition\", \"travel\", \"trial\", \"trial\", \"understand\", \"unpaid\", \"unusable\", \"update\", \"update\", \"update\", \"upgrade\", \"usable\", \"use\", \"use\", \"use\", \"useable\", \"used\", \"useful\", \"useful\", \"useless\", \"useless\", \"user\", \"user\", \"user\", \"valuable\", \"vat\", \"vendor\", \"version\", \"version\", \"view\", \"view\", \"view\", \"waste\", \"waste\", \"way\", \"way\", \"way\", \"way\", \"way\", \"web\", \"week\", \"week\", \"well\", \"well\", \"well\", \"well\", \"wish\", \"work\", \"work\", \"work\", \"work\", \"work\", \"work\", \"world\", \"worth\", \"worth\", \"worth\", \"worth\", \"writing\", \"year\", \"year\", \"year\", \"year\"]}, \"R\": 30, \"lambda.step\": 0.01, \"plot.opts\": {\"xlab\": \"PC1\", \"ylab\": \"PC2\"}, \"topic.order\": [6, 3, 4, 1, 2, 5, 7]};\n",
       "\n",
       "function LDAvis_load_lib(url, callback){\n",
       "  var s = document.createElement('script');\n",
       "  s.src = url;\n",
       "  s.async = true;\n",
       "  s.onreadystatechange = s.onload = callback;\n",
       "  s.onerror = function(){console.warn(\"failed to load library \" + url);};\n",
       "  document.getElementsByTagName(\"head\")[0].appendChild(s);\n",
       "}\n",
       "\n",
       "if(typeof(LDAvis) !== \"undefined\"){\n",
       "   // already loaded: just create the visualization\n",
       "   !function(LDAvis){\n",
       "       new LDAvis(\"#\" + \"ldavis_el26151400584168154402575779440\", ldavis_el26151400584168154402575779440_data);\n",
       "   }(LDAvis);\n",
       "}else if(typeof define === \"function\" && define.amd){\n",
       "   // require.js is available: use it to load d3/LDAvis\n",
       "   require.config({paths: {d3: \"https://cdnjs.cloudflare.com/ajax/libs/d3/3.5.5/d3.min\"}});\n",
       "   require([\"d3\"], function(d3){\n",
       "      window.d3 = d3;\n",
       "      LDAvis_load_lib(\"https://cdn.rawgit.com/bmabey/pyLDAvis/files/ldavis.v1.0.0.js\", function(){\n",
       "        new LDAvis(\"#\" + \"ldavis_el26151400584168154402575779440\", ldavis_el26151400584168154402575779440_data);\n",
       "      });\n",
       "    });\n",
       "}else{\n",
       "    // require.js not available: dynamically load d3 & LDAvis\n",
       "    LDAvis_load_lib(\"https://cdnjs.cloudflare.com/ajax/libs/d3/3.5.5/d3.min.js\", function(){\n",
       "         LDAvis_load_lib(\"https://cdn.rawgit.com/bmabey/pyLDAvis/files/ldavis.v1.0.0.js\", function(){\n",
       "                 new LDAvis(\"#\" + \"ldavis_el26151400584168154402575779440\", ldavis_el26151400584168154402575779440_data);\n",
       "            })\n",
       "         });\n",
       "}\n",
       "</script>"
      ],
      "text/plain": [
       "PreparedData(topic_coordinates=              x         y  topics  cluster       Freq\n",
       "topic                                                \n",
       "5      0.137383 -0.032331       1        1  27.613623\n",
       "2     -0.043307 -0.004306       2        1  14.337090\n",
       "3     -0.016661 -0.251896       3        1  14.311893\n",
       "0     -0.216574  0.105369       4        1  11.841561\n",
       "1      0.203680 -0.058296       5        1  11.759714\n",
       "4      0.140266  0.244021       6        1  10.525105\n",
       "6     -0.204787 -0.002561       7        1   9.611013, topic_info=    Category         Freq      Term        Total  loglift  logprob\n",
       "171  Default  1116.000000   version  1116.000000  30.0000  30.0000\n",
       "85   Default  1078.000000      easy  1078.000000  29.0000  29.0000\n",
       "84   Default  1481.000000  business  1481.000000  28.0000  28.0000\n",
       "94   Default   999.000000       use   999.000000  27.0000  27.0000\n",
       "254  Default  1048.000000     great  1048.000000  26.0000  26.0000\n",
       "..       ...          ...       ...          ...      ...      ...\n",
       "160   Topic7    63.362656    simple   282.558990   0.8472  -4.8228\n",
       "299   Topic7    72.448242    mobile   578.382690   0.2649  -4.6888\n",
       "161   Topic7    54.583023      bank   295.033905   0.6549  -4.9720\n",
       "6     Topic7    54.887238   company   526.521118   0.0812  -4.9664\n",
       "276   Topic7    48.232086     track   157.702545   1.1576  -5.0957\n",
       "\n",
       "[445 rows x 6 columns], token_table=      Topic      Freq     Term\n",
       "term                          \n",
       "454       1  0.237612  ability\n",
       "454       3  0.143464  ability\n",
       "454       4  0.085182  ability\n",
       "454       5  0.443842  ability\n",
       "454       7  0.085182  ability\n",
       "...     ...       ...      ...\n",
       "1823      6  0.940910  writing\n",
       "104       1  0.128404     year\n",
       "104       2  0.307493     year\n",
       "104       4  0.375074     year\n",
       "104       6  0.189227     year\n",
       "\n",
       "[608 rows x 3 columns], R=30, lambda_step=0.01, plot_opts={'xlab': 'PC1', 'ylab': 'PC2'}, topic_order=[6, 3, 4, 1, 2, 5, 7])"
      ]
     },
     "execution_count": 41,
     "metadata": {},
     "output_type": "execute_result"
    }
   ],
   "source": [
    "# Visualize the topics\n",
    "pyLDAvis.enable_notebook()\n",
    "vis = pyLDAvis.gensim.prepare(lda_model, doc_term_matrix, dictionary)\n",
    "vis"
   ]
  },
  {
   "cell_type": "code",
   "execution_count": null,
   "metadata": {},
   "outputs": [],
   "source": []
  }
 ],
 "metadata": {
  "kernelspec": {
   "display_name": "Python 3",
   "language": "python",
   "name": "python3"
  },
  "language_info": {
   "codemirror_mode": {
    "name": "ipython",
    "version": 3
   },
   "file_extension": ".py",
   "mimetype": "text/x-python",
   "name": "python",
   "nbconvert_exporter": "python",
   "pygments_lexer": "ipython3",
   "version": "3.7.4"
  }
 },
 "nbformat": 4,
 "nbformat_minor": 2
}
