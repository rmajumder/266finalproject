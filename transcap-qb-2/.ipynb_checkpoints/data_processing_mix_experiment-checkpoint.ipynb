{
 "cells": [
  {
   "cell_type": "code",
   "execution_count": 1,
   "metadata": {},
   "outputs": [],
   "source": [
    "import pandas as pd\n",
    "import numpy as np\n",
    "import spacy\n",
    "from spacy.matcher import PhraseMatcher\n",
    "from spacy.tokens import Span\n",
    "from spacy import displacy\n",
    "import json\n",
    "import random\n",
    "import re"
   ]
  },
  {
   "cell_type": "code",
   "execution_count": 2,
   "metadata": {},
   "outputs": [],
   "source": [
    "\n",
    "df_position_sentiment = pd.read_csv(r'./data/qb/processed/combine_aspect_position_14000.csv')"
   ]
  },
  {
   "cell_type": "code",
   "execution_count": null,
   "metadata": {},
   "outputs": [],
   "source": []
  },
  {
   "cell_type": "code",
   "execution_count": 3,
   "metadata": {},
   "outputs": [],
   "source": [
    "df_position_sentiment['Asp Sentiment'].replace('0', np.nan, inplace=True)"
   ]
  },
  {
   "cell_type": "code",
   "execution_count": 4,
   "metadata": {},
   "outputs": [],
   "source": [
    "df_position_sentiment.dropna(subset=['Asp Sentiment'], inplace=True)"
   ]
  },
  {
   "cell_type": "code",
   "execution_count": 5,
   "metadata": {},
   "outputs": [],
   "source": [
    "#df_position_sentiment = df_position_sentiment.head(3000)\n",
    "#(df_position_sentiment['Doc Sentiment'].values != df_position_sentiment['Asp Sentiment'].values).sum() "
   ]
  },
  {
   "cell_type": "code",
   "execution_count": 6,
   "metadata": {},
   "outputs": [],
   "source": [
    "#df_position_sentiment.drop(\n",
    "#    df_position_sentiment[df_position_sentiment['Doc Sentiment'].values == df_position_sentiment['Asp Sentiment']\n",
    "#                          .values].index, inplace=True)"
   ]
  },
  {
   "cell_type": "code",
   "execution_count": null,
   "metadata": {},
   "outputs": [],
   "source": []
  },
  {
   "cell_type": "code",
   "execution_count": 7,
   "metadata": {},
   "outputs": [
    {
     "data": {
      "text/html": [
       "<div>\n",
       "<style scoped>\n",
       "    .dataframe tbody tr th:only-of-type {\n",
       "        vertical-align: middle;\n",
       "    }\n",
       "\n",
       "    .dataframe tbody tr th {\n",
       "        vertical-align: top;\n",
       "    }\n",
       "\n",
       "    .dataframe thead th {\n",
       "        text-align: right;\n",
       "    }\n",
       "</style>\n",
       "<table border=\"1\" class=\"dataframe\">\n",
       "  <thead>\n",
       "    <tr style=\"text-align: right;\">\n",
       "      <th></th>\n",
       "      <th>Unnamed: 0</th>\n",
       "      <th>Unnamed: 0.1</th>\n",
       "      <th>Review ID</th>\n",
       "      <th>Country</th>\n",
       "      <th>Version</th>\n",
       "      <th>Rating</th>\n",
       "      <th>Date</th>\n",
       "      <th>Doc Sentiment</th>\n",
       "      <th>Asp Sentiment</th>\n",
       "      <th>Review</th>\n",
       "      <th>Aspects</th>\n",
       "      <th>AspectText</th>\n",
       "      <th>Positions</th>\n",
       "    </tr>\n",
       "  </thead>\n",
       "  <tbody>\n",
       "    <tr>\n",
       "      <td>0</td>\n",
       "      <td>0.0</td>\n",
       "      <td>0.0</td>\n",
       "      <td>5464235433</td>\n",
       "      <td>Canada</td>\n",
       "      <td>20.01.5</td>\n",
       "      <td>1.0</td>\n",
       "      <td>2020-01-30</td>\n",
       "      <td>negative</td>\n",
       "      <td>neutral</td>\n",
       "      <td>latest app update. this update is terrible bas...</td>\n",
       "      <td>app</td>\n",
       "      <td>app</td>\n",
       "      <td>7,9</td>\n",
       "    </tr>\n",
       "    <tr>\n",
       "      <td>1</td>\n",
       "      <td>1.0</td>\n",
       "      <td>1.0</td>\n",
       "      <td>5464235433</td>\n",
       "      <td>Canada</td>\n",
       "      <td>20.01.5</td>\n",
       "      <td>1.0</td>\n",
       "      <td>2020-01-30</td>\n",
       "      <td>negative</td>\n",
       "      <td>negative</td>\n",
       "      <td>latest app update. this update is terrible bas...</td>\n",
       "      <td>updates</td>\n",
       "      <td>update</td>\n",
       "      <td>11,16</td>\n",
       "    </tr>\n",
       "    <tr>\n",
       "      <td>2</td>\n",
       "      <td>2.0</td>\n",
       "      <td>2.0</td>\n",
       "      <td>5466985498</td>\n",
       "      <td>USA</td>\n",
       "      <td>20.01.5</td>\n",
       "      <td>5.0</td>\n",
       "      <td>2020-01-30</td>\n",
       "      <td>positive</td>\n",
       "      <td>positive</td>\n",
       "      <td>life saver. one my favorite apps to use while ...</td>\n",
       "      <td>app</td>\n",
       "      <td>apps</td>\n",
       "      <td>28,31</td>\n",
       "    </tr>\n",
       "    <tr>\n",
       "      <td>3</td>\n",
       "      <td>3.0</td>\n",
       "      <td>3.0</td>\n",
       "      <td>5460552711</td>\n",
       "      <td>USA</td>\n",
       "      <td>20.01.4</td>\n",
       "      <td>1.0</td>\n",
       "      <td>2020-01-29</td>\n",
       "      <td>negative</td>\n",
       "      <td>negative</td>\n",
       "      <td>worst update yet. just deleted. crashed. didn’...</td>\n",
       "      <td>updates</td>\n",
       "      <td>update</td>\n",
       "      <td>6,11</td>\n",
       "    </tr>\n",
       "    <tr>\n",
       "      <td>4</td>\n",
       "      <td>4.0</td>\n",
       "      <td>4.0</td>\n",
       "      <td>5460552711</td>\n",
       "      <td>USA</td>\n",
       "      <td>20.01.4</td>\n",
       "      <td>1.0</td>\n",
       "      <td>2020-01-29</td>\n",
       "      <td>negative</td>\n",
       "      <td>negative</td>\n",
       "      <td>worst update yet. just deleted. crashed. didn’...</td>\n",
       "      <td>experience</td>\n",
       "      <td>deleted</td>\n",
       "      <td>23,29</td>\n",
       "    </tr>\n",
       "  </tbody>\n",
       "</table>\n",
       "</div>"
      ],
      "text/plain": [
       "   Unnamed: 0  Unnamed: 0.1   Review ID Country  Version  Rating        Date  \\\n",
       "0         0.0           0.0  5464235433  Canada  20.01.5     1.0  2020-01-30   \n",
       "1         1.0           1.0  5464235433  Canada  20.01.5     1.0  2020-01-30   \n",
       "2         2.0           2.0  5466985498     USA  20.01.5     5.0  2020-01-30   \n",
       "3         3.0           3.0  5460552711     USA  20.01.4     1.0  2020-01-29   \n",
       "4         4.0           4.0  5460552711     USA  20.01.4     1.0  2020-01-29   \n",
       "\n",
       "  Doc Sentiment Asp Sentiment  \\\n",
       "0      negative       neutral   \n",
       "1      negative      negative   \n",
       "2      positive      positive   \n",
       "3      negative      negative   \n",
       "4      negative      negative   \n",
       "\n",
       "                                              Review     Aspects AspectText  \\\n",
       "0  latest app update. this update is terrible bas...         app        app   \n",
       "1  latest app update. this update is terrible bas...     updates     update   \n",
       "2  life saver. one my favorite apps to use while ...         app       apps   \n",
       "3  worst update yet. just deleted. crashed. didn’...     updates     update   \n",
       "4  worst update yet. just deleted. crashed. didn’...  experience    deleted   \n",
       "\n",
       "  Positions  \n",
       "0       7,9  \n",
       "1     11,16  \n",
       "2     28,31  \n",
       "3      6,11  \n",
       "4     23,29  "
      ]
     },
     "execution_count": 7,
     "metadata": {},
     "output_type": "execute_result"
    }
   ],
   "source": [
    "df_position_sentiment.head()"
   ]
  },
  {
   "cell_type": "code",
   "execution_count": 8,
   "metadata": {},
   "outputs": [
    {
     "name": "stdout",
     "output_type": "stream",
     "text": [
      "14824\n",
      "14821\n"
     ]
    }
   ],
   "source": [
    "#df_position_sentiment[df_position_sentiment.AspectText == ]\n",
    "print(len(df_position_sentiment))\n",
    "df_position_sentiment.dropna(subset=['AspectText'], inplace=True)\n",
    "print(len(df_position_sentiment))"
   ]
  },
  {
   "cell_type": "code",
   "execution_count": 9,
   "metadata": {},
   "outputs": [
    {
     "data": {
      "text/plain": [
       "array(['neutral', 'negative', 'positive'], dtype=object)"
      ]
     },
     "execution_count": 9,
     "metadata": {},
     "output_type": "execute_result"
    }
   ],
   "source": [
    "df_position_sentiment['Asp Sentiment'].unique()"
   ]
  },
  {
   "cell_type": "code",
   "execution_count": 10,
   "metadata": {},
   "outputs": [],
   "source": [
    "#recalculate position\n",
    "for index, row in df_position_sentiment.iterrows():\n",
    "    \n",
    "    df_position_sentiment.loc[index,'Review'] = row['Review'].replace('/', '').replace('-', '')\n",
    "    \n",
    "    start_idx = row['Review'].find(row['AspectText'])\n",
    "          \n",
    "    df_position_sentiment.loc[index,'Positions'] = str(start_idx) + ',' + str(start_idx + len(row['AspectText']) - 1)\n",
    "    "
   ]
  },
  {
   "cell_type": "code",
   "execution_count": 11,
   "metadata": {},
   "outputs": [
    {
     "name": "stdout",
     "output_type": "stream",
     "text": [
      "14821\n",
      "14821\n"
     ]
    }
   ],
   "source": [
    "#df_position_sentiment[df_position_sentiment.AspectText == ]\n",
    "print(len(df_position_sentiment))\n",
    "df_position_sentiment.dropna(subset=['Positions'], inplace=True)\n",
    "print(len(df_position_sentiment))"
   ]
  },
  {
   "cell_type": "code",
   "execution_count": null,
   "metadata": {},
   "outputs": [],
   "source": []
  },
  {
   "cell_type": "code",
   "execution_count": 14,
   "metadata": {},
   "outputs": [],
   "source": [
    "df_positive = df_position_sentiment[df_position_sentiment['Rating'] == 5.0]"
   ]
  },
  {
   "cell_type": "code",
   "execution_count": 15,
   "metadata": {},
   "outputs": [
    {
     "data": {
      "text/plain": [
       "6778"
      ]
     },
     "execution_count": 15,
     "metadata": {},
     "output_type": "execute_result"
    }
   ],
   "source": [
    "len(df_positive)"
   ]
  },
  {
   "cell_type": "code",
   "execution_count": 16,
   "metadata": {},
   "outputs": [],
   "source": [
    "df_negative = df_position_sentiment[df_position_sentiment['Rating'] == 1.0]"
   ]
  },
  {
   "cell_type": "code",
   "execution_count": 17,
   "metadata": {},
   "outputs": [
    {
     "data": {
      "text/plain": [
       "4657"
      ]
     },
     "execution_count": 17,
     "metadata": {},
     "output_type": "execute_result"
    }
   ],
   "source": [
    "len(df_negative)"
   ]
  },
  {
   "cell_type": "code",
   "execution_count": null,
   "metadata": {},
   "outputs": [],
   "source": []
  },
  {
   "cell_type": "code",
   "execution_count": null,
   "metadata": {},
   "outputs": [],
   "source": [
    "#generate aspect position index\n",
    "\n",
    "df_mix = pd.DataFrame(columns=['Review ID', \n",
    "                                       'Country', 'Version', \n",
    "                                       'Rating', 'Date', 'Doc Sentiment', 'Asp Sentiment', \n",
    "                                       'Review', 'Aspects', 'AspectText', 'Positions'])\n",
    "\n",
    "for index, row in df_negative.iterrows():\n",
    "\n",
    "    positive_aspect = df_positive.loc[index,'Asp Sentiment']\n",
    "    review = df_position_sentiment.loc[index,'Review'] + row['Review']\n",
    "    \n",
    "    start_idx = review.find(df_positive.loc[index, 'AspectText'])\n",
    "          \n",
    "    position = str(start_idx) + ',' + str(start_idx + len(df_positive.loc[index, 'AspectText']) - 1)\n",
    "    \n",
    "    #positive\n",
    "    df_mix = df_mix.append({\n",
    "        'Review ID': row['Review ID'], \n",
    "        'Country': row['Country'], \n",
    "        'Version': row['Version'],\n",
    "        'Rating': row['Rating'],\n",
    "        'Date': row['Date'],            \n",
    "        'Doc Sentiment': row['Doc Sentiment'],\n",
    "        'Asp Sentiment' : row['Asp Sentiment'],\n",
    "        'Review': review,\n",
    "        'AspectText': df_positive.loc[index, 'AspectText'],\n",
    "        'Aspects': df_positive.loc[index, 'Aspects'],\n",
    "        'Positions': position\n",
    "    }, ignore_index=True)\n",
    "    \n",
    "    start_idx = review.find(row['AspectText'])          \n",
    "    position = str(start_idx) + ',' + str(start_idx + len(row['AspectText']) - 1)\n",
    "    \n",
    "    df_mix = df_mix.append({\n",
    "        'Review ID': row['Review ID'], \n",
    "        'Country': row['Country'], \n",
    "        'Version': row['Version'],\n",
    "        'Rating': row['Rating'],\n",
    "        'Date': row['Date'],            \n",
    "        'Doc Sentiment': row['Doc Sentiment'],\n",
    "        'Asp Sentiment' : row['Asp Sentiment'],\n",
    "        'Review': review,\n",
    "        'AspectText': row['AspectText'],\n",
    "        'Aspects': row['Aspects'],\n",
    "        'Positions': position\n",
    "    }, ignore_index=True)\n",
    "\n",
    "return df_split_terms"
   ]
  },
  {
   "cell_type": "code",
   "execution_count": null,
   "metadata": {},
   "outputs": [],
   "source": []
  },
  {
   "cell_type": "code",
   "execution_count": null,
   "metadata": {},
   "outputs": [],
   "source": []
  },
  {
   "cell_type": "code",
   "execution_count": 66,
   "metadata": {},
   "outputs": [
    {
     "data": {
      "text/html": [
       "<div>\n",
       "<style scoped>\n",
       "    .dataframe tbody tr th:only-of-type {\n",
       "        vertical-align: middle;\n",
       "    }\n",
       "\n",
       "    .dataframe tbody tr th {\n",
       "        vertical-align: top;\n",
       "    }\n",
       "\n",
       "    .dataframe thead th {\n",
       "        text-align: right;\n",
       "    }\n",
       "</style>\n",
       "<table border=\"1\" class=\"dataframe\">\n",
       "  <thead>\n",
       "    <tr style=\"text-align: right;\">\n",
       "      <th></th>\n",
       "      <th>Unnamed: 0</th>\n",
       "      <th>Unnamed: 0.1</th>\n",
       "      <th>Review ID</th>\n",
       "      <th>Country</th>\n",
       "      <th>Version</th>\n",
       "      <th>Rating</th>\n",
       "      <th>Date</th>\n",
       "      <th>Doc Sentiment</th>\n",
       "      <th>Asp Sentiment</th>\n",
       "      <th>Review</th>\n",
       "      <th>Aspects</th>\n",
       "      <th>AspectText</th>\n",
       "      <th>Positions</th>\n",
       "    </tr>\n",
       "  </thead>\n",
       "  <tbody>\n",
       "    <tr>\n",
       "      <td>0</td>\n",
       "      <td>0.0</td>\n",
       "      <td>0.0</td>\n",
       "      <td>5464235433</td>\n",
       "      <td>Canada</td>\n",
       "      <td>20.01.5</td>\n",
       "      <td>1.0</td>\n",
       "      <td>2020-01-30</td>\n",
       "      <td>negative</td>\n",
       "      <td>neutral</td>\n",
       "      <td>latest app update. this update is terrible bas...</td>\n",
       "      <td>app</td>\n",
       "      <td>app</td>\n",
       "      <td>7,9</td>\n",
       "    </tr>\n",
       "    <tr>\n",
       "      <td>1</td>\n",
       "      <td>1.0</td>\n",
       "      <td>1.0</td>\n",
       "      <td>5464235433</td>\n",
       "      <td>Canada</td>\n",
       "      <td>20.01.5</td>\n",
       "      <td>1.0</td>\n",
       "      <td>2020-01-30</td>\n",
       "      <td>negative</td>\n",
       "      <td>negative</td>\n",
       "      <td>latest app update. this update is terrible bas...</td>\n",
       "      <td>updates</td>\n",
       "      <td>update</td>\n",
       "      <td>11,16</td>\n",
       "    </tr>\n",
       "    <tr>\n",
       "      <td>2</td>\n",
       "      <td>2.0</td>\n",
       "      <td>2.0</td>\n",
       "      <td>5466985498</td>\n",
       "      <td>USA</td>\n",
       "      <td>20.01.5</td>\n",
       "      <td>5.0</td>\n",
       "      <td>2020-01-30</td>\n",
       "      <td>positive</td>\n",
       "      <td>positive</td>\n",
       "      <td>life saver. one my favorite apps to use while ...</td>\n",
       "      <td>app</td>\n",
       "      <td>apps</td>\n",
       "      <td>28,31</td>\n",
       "    </tr>\n",
       "    <tr>\n",
       "      <td>3</td>\n",
       "      <td>3.0</td>\n",
       "      <td>3.0</td>\n",
       "      <td>5460552711</td>\n",
       "      <td>USA</td>\n",
       "      <td>20.01.4</td>\n",
       "      <td>1.0</td>\n",
       "      <td>2020-01-29</td>\n",
       "      <td>negative</td>\n",
       "      <td>negative</td>\n",
       "      <td>worst update yet. just deleted. crashed. didn’...</td>\n",
       "      <td>updates</td>\n",
       "      <td>update</td>\n",
       "      <td>6,11</td>\n",
       "    </tr>\n",
       "    <tr>\n",
       "      <td>4</td>\n",
       "      <td>4.0</td>\n",
       "      <td>4.0</td>\n",
       "      <td>5460552711</td>\n",
       "      <td>USA</td>\n",
       "      <td>20.01.4</td>\n",
       "      <td>1.0</td>\n",
       "      <td>2020-01-29</td>\n",
       "      <td>negative</td>\n",
       "      <td>negative</td>\n",
       "      <td>worst update yet. just deleted. crashed. didn’...</td>\n",
       "      <td>experience</td>\n",
       "      <td>deleted</td>\n",
       "      <td>23,29</td>\n",
       "    </tr>\n",
       "  </tbody>\n",
       "</table>\n",
       "</div>"
      ],
      "text/plain": [
       "   Unnamed: 0  Unnamed: 0.1   Review ID Country  Version  Rating        Date  \\\n",
       "0         0.0           0.0  5464235433  Canada  20.01.5     1.0  2020-01-30   \n",
       "1         1.0           1.0  5464235433  Canada  20.01.5     1.0  2020-01-30   \n",
       "2         2.0           2.0  5466985498     USA  20.01.5     5.0  2020-01-30   \n",
       "3         3.0           3.0  5460552711     USA  20.01.4     1.0  2020-01-29   \n",
       "4         4.0           4.0  5460552711     USA  20.01.4     1.0  2020-01-29   \n",
       "\n",
       "  Doc Sentiment Asp Sentiment  \\\n",
       "0      negative       neutral   \n",
       "1      negative      negative   \n",
       "2      positive      positive   \n",
       "3      negative      negative   \n",
       "4      negative      negative   \n",
       "\n",
       "                                              Review     Aspects AspectText  \\\n",
       "0  latest app update. this update is terrible bas...         app        app   \n",
       "1  latest app update. this update is terrible bas...     updates     update   \n",
       "2  life saver. one my favorite apps to use while ...         app       apps   \n",
       "3  worst update yet. just deleted. crashed. didn’...     updates     update   \n",
       "4  worst update yet. just deleted. crashed. didn’...  experience    deleted   \n",
       "\n",
       "  Positions  \n",
       "0       7,9  \n",
       "1     11,16  \n",
       "2     28,31  \n",
       "3      6,11  \n",
       "4     23,29  "
      ]
     },
     "execution_count": 66,
     "metadata": {},
     "output_type": "execute_result"
    }
   ],
   "source": [
    "df_position_sentiment.head()"
   ]
  },
  {
   "cell_type": "code",
   "execution_count": null,
   "metadata": {},
   "outputs": [],
   "source": []
  },
  {
   "cell_type": "code",
   "execution_count": 67,
   "metadata": {},
   "outputs": [],
   "source": [
    "#split data in - train test and dev\n",
    "def train_validate_test_split(df, train_percent=.6, validate_percent=.2, seed=None):\n",
    "    np.random.seed(seed)\n",
    "    \n",
    "    perm = np.random.permutation(np.arange(len(df)))\n",
    "    m = len(df)\n",
    "    \n",
    "    train_end = int(train_percent * m)\n",
    "    validate_end = int(validate_percent * m) + train_end\n",
    "    train = df.iloc[perm[:train_end - 1] - 1]\n",
    "    validate = df.iloc[perm[train_end:validate_end - 1] - 1]\n",
    "    test = df.iloc[perm[validate_end:]]\n",
    "    return train, validate, test"
   ]
  },
  {
   "cell_type": "code",
   "execution_count": 68,
   "metadata": {},
   "outputs": [],
   "source": [
    "train, validate, test = train_validate_test_split(df_position_sentiment)"
   ]
  },
  {
   "cell_type": "code",
   "execution_count": 69,
   "metadata": {},
   "outputs": [
    {
     "data": {
      "text/html": [
       "<div>\n",
       "<style scoped>\n",
       "    .dataframe tbody tr th:only-of-type {\n",
       "        vertical-align: middle;\n",
       "    }\n",
       "\n",
       "    .dataframe tbody tr th {\n",
       "        vertical-align: top;\n",
       "    }\n",
       "\n",
       "    .dataframe thead th {\n",
       "        text-align: right;\n",
       "    }\n",
       "</style>\n",
       "<table border=\"1\" class=\"dataframe\">\n",
       "  <thead>\n",
       "    <tr style=\"text-align: right;\">\n",
       "      <th></th>\n",
       "      <th>Unnamed: 0</th>\n",
       "      <th>Unnamed: 0.1</th>\n",
       "      <th>Review ID</th>\n",
       "      <th>Country</th>\n",
       "      <th>Version</th>\n",
       "      <th>Rating</th>\n",
       "      <th>Date</th>\n",
       "      <th>Doc Sentiment</th>\n",
       "      <th>Asp Sentiment</th>\n",
       "      <th>Review</th>\n",
       "      <th>Aspects</th>\n",
       "      <th>AspectText</th>\n",
       "      <th>Positions</th>\n",
       "    </tr>\n",
       "  </thead>\n",
       "  <tbody>\n",
       "    <tr>\n",
       "      <td>15375</td>\n",
       "      <td>15508.0</td>\n",
       "      <td>15535.0</td>\n",
       "      <td>gp:AOqpTOGfXUDBh7oi1XIav76fnOAjFxgaBvq19xL13kJ...</td>\n",
       "      <td>English</td>\n",
       "      <td>3.8</td>\n",
       "      <td>4.0</td>\n",
       "      <td>2015-04-28</td>\n",
       "      <td>neutral</td>\n",
       "      <td>neutral</td>\n",
       "      <td>won't print invoice with signature from my dev...</td>\n",
       "      <td>invoicing</td>\n",
       "      <td>invoice</td>\n",
       "      <td>12,18</td>\n",
       "    </tr>\n",
       "    <tr>\n",
       "      <td>7172</td>\n",
       "      <td>7174.0</td>\n",
       "      <td>7201.0</td>\n",
       "      <td>1214952117</td>\n",
       "      <td>USA</td>\n",
       "      <td>4.3</td>\n",
       "      <td>5.0</td>\n",
       "      <td>2015-06-20</td>\n",
       "      <td>positive</td>\n",
       "      <td>positive</td>\n",
       "      <td>killer app. killer service.. the app is great,...</td>\n",
       "      <td>app</td>\n",
       "      <td>app</td>\n",
       "      <td>7,9</td>\n",
       "    </tr>\n",
       "    <tr>\n",
       "      <td>16280</td>\n",
       "      <td>16451.0</td>\n",
       "      <td>16478.0</td>\n",
       "      <td>gp:AOqpTOGloOTELQAprl5sQlYFfOdiyQSQ48Y3nNSlfL-...</td>\n",
       "      <td>English</td>\n",
       "      <td>3.6</td>\n",
       "      <td>5.0</td>\n",
       "      <td>2014-07-31</td>\n",
       "      <td>positive</td>\n",
       "      <td>positive</td>\n",
       "      <td>perfect for my small business. i am a wedding ...</td>\n",
       "      <td>invoicing</td>\n",
       "      <td>invoice</td>\n",
       "      <td>162,168</td>\n",
       "    </tr>\n",
       "    <tr>\n",
       "      <td>2597</td>\n",
       "      <td>2597.0</td>\n",
       "      <td>2621.0</td>\n",
       "      <td>1727815095</td>\n",
       "      <td>Canada</td>\n",
       "      <td>5.5</td>\n",
       "      <td>4.0</td>\n",
       "      <td>2017-08-14</td>\n",
       "      <td>positive</td>\n",
       "      <td>positive</td>\n",
       "      <td>simple and easy. great for keeping tabs on you...</td>\n",
       "      <td>experience</td>\n",
       "      <td>simple</td>\n",
       "      <td>0,5</td>\n",
       "    </tr>\n",
       "    <tr>\n",
       "      <td>6788</td>\n",
       "      <td>6790.0</td>\n",
       "      <td>6817.0</td>\n",
       "      <td>1271882761</td>\n",
       "      <td>Nigeria</td>\n",
       "      <td>4.3.2</td>\n",
       "      <td>5.0</td>\n",
       "      <td>2015-10-15</td>\n",
       "      <td>positive</td>\n",
       "      <td>positive</td>\n",
       "      <td>i am truly loving this app. been hunting for a...</td>\n",
       "      <td>app</td>\n",
       "      <td>app</td>\n",
       "      <td>23,25</td>\n",
       "    </tr>\n",
       "  </tbody>\n",
       "</table>\n",
       "</div>"
      ],
      "text/plain": [
       "       Unnamed: 0  Unnamed: 0.1  \\\n",
       "15375     15508.0       15535.0   \n",
       "7172       7174.0        7201.0   \n",
       "16280     16451.0       16478.0   \n",
       "2597       2597.0        2621.0   \n",
       "6788       6790.0        6817.0   \n",
       "\n",
       "                                               Review ID  Country Version  \\\n",
       "15375  gp:AOqpTOGfXUDBh7oi1XIav76fnOAjFxgaBvq19xL13kJ...  English     3.8   \n",
       "7172                                          1214952117      USA     4.3   \n",
       "16280  gp:AOqpTOGloOTELQAprl5sQlYFfOdiyQSQ48Y3nNSlfL-...  English     3.6   \n",
       "2597                                          1727815095   Canada     5.5   \n",
       "6788                                          1271882761  Nigeria   4.3.2   \n",
       "\n",
       "       Rating        Date Doc Sentiment Asp Sentiment  \\\n",
       "15375     4.0  2015-04-28       neutral       neutral   \n",
       "7172      5.0  2015-06-20      positive      positive   \n",
       "16280     5.0  2014-07-31      positive      positive   \n",
       "2597      4.0  2017-08-14      positive      positive   \n",
       "6788      5.0  2015-10-15      positive      positive   \n",
       "\n",
       "                                                  Review     Aspects  \\\n",
       "15375  won't print invoice with signature from my dev...   invoicing   \n",
       "7172   killer app. killer service.. the app is great,...         app   \n",
       "16280  perfect for my small business. i am a wedding ...   invoicing   \n",
       "2597   simple and easy. great for keeping tabs on you...  experience   \n",
       "6788   i am truly loving this app. been hunting for a...         app   \n",
       "\n",
       "      AspectText Positions  \n",
       "15375    invoice     12,18  \n",
       "7172         app       7,9  \n",
       "16280    invoice   162,168  \n",
       "2597      simple       0,5  \n",
       "6788         app     23,25  "
      ]
     },
     "execution_count": 69,
     "metadata": {},
     "output_type": "execute_result"
    }
   ],
   "source": [
    "train.head()"
   ]
  },
  {
   "cell_type": "code",
   "execution_count": 70,
   "metadata": {},
   "outputs": [
    {
     "data": {
      "text/plain": [
       "8891"
      ]
     },
     "execution_count": 70,
     "metadata": {},
     "output_type": "execute_result"
    }
   ],
   "source": [
    "len(train)"
   ]
  },
  {
   "cell_type": "markdown",
   "metadata": {},
   "source": [
    "### Generate files"
   ]
  },
  {
   "cell_type": "code",
   "execution_count": 71,
   "metadata": {},
   "outputs": [],
   "source": [
    "def generate_input_files(d_type, data):\n",
    "\n",
    "    #save reviews\n",
    "    df_review = data[['Review']]\n",
    "    df_review.to_csv(r'data/qb/{}/review.txt'.format(d_type), header=None, index=None, sep='\\n', mode='a')\n",
    "\n",
    "    #save aspects\n",
    "    df_review = data[['AspectText']]\n",
    "    df_review.to_csv(r'data/qb/{}/term.txt'.format(d_type), header=None, index=None, sep='\\n', mode='a')\n",
    "\n",
    "    #save positions\n",
    "    df_review = data[['Positions']]\n",
    "    df_review.to_csv(r'data/qb/{}/position.txt'.format(d_type), header=None, index=None, sep='\\n', mode='a')\n",
    "\n",
    "    #save label\n",
    "    df_review = data[['Asp Sentiment']]\n",
    "    df_review.to_csv(r'data/qb/{}/label.txt'.format(d_type), header=None, index=None, sep='\\n', mode='a')"
   ]
  },
  {
   "cell_type": "code",
   "execution_count": 72,
   "metadata": {},
   "outputs": [],
   "source": [
    "generate_input_files('train', train)\n",
    "generate_input_files('test', test)\n",
    "generate_input_files('dev', validate)"
   ]
  },
  {
   "cell_type": "code",
   "execution_count": null,
   "metadata": {},
   "outputs": [],
   "source": []
  }
 ],
 "metadata": {
  "kernelspec": {
   "display_name": "Python 3",
   "language": "python",
   "name": "python3"
  },
  "language_info": {
   "codemirror_mode": {
    "name": "ipython",
    "version": 3
   },
   "file_extension": ".py",
   "mimetype": "text/x-python",
   "name": "python",
   "nbconvert_exporter": "python",
   "pygments_lexer": "ipython3",
   "version": "3.7.4"
  }
 },
 "nbformat": 4,
 "nbformat_minor": 2
}
